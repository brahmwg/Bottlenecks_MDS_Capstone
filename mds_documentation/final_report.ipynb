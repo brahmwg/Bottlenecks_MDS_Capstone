{
 "cells": [
  {
   "cell_type": "markdown",
   "id": "1a58c6ea-cd0b-4080-9506-8d9d7adaace3",
   "metadata": {},
   "source": [
    "# Survival Analysis of Salmon in Saline Sea\n",
    "> Jenny Lee, Arturo Rey, Rafe Chang, Riya Eliza\n",
    "\n",
    "## Contents\n",
    "1. [Executive Summary](#executive_summary)\n",
    "2. [Introduction](#introduction)\n",
    "3. [Introduction](#introduction)"
   ]
  },
  {
   "cell_type": "markdown",
   "id": "91e4c2ce-6667-4ee7-ae1d-cad710c390b9",
   "metadata": {},
   "source": [
    "<a id='executive_summary'></a>\n",
    "## Executive Summary\n",
    "Our collaboration with the Pacific Salmon Foundation on the Bottleneck project will yield comprehensive visual analysis tools and advanced statistical and machine learning models, directly enhancing biologists' ability to understand salmon survival trends. By leveraging techniques from the Master of Data Science program, we aim to gain deepeer understanding of salmon survival probability, considering factors like predation, body size, origin site, and others."
   ]
  },
  {
   "cell_type": "markdown",
   "id": "e6ca9d34-29e3-42cd-832d-4f734c0b1362",
   "metadata": {},
   "source": [
    "<a id='introduction'></a>\n",
    "## Introduction\n",
    "Salmons are critical to the ecosystem as they are food to 137 species (Rahr, 2023), such as grizzly bears. In British Columbia, there are over 9,000 distinct salmon populations (\"State of Salmon\", 2022). However, due to climate change and industrial development in the past 150 years, the population of Pacific salmon in BC has declined and their habitats have been facing unprecedented pressures.\n",
    "\n",
    "Pacific Salmon Foundation is a non-profit organization committed to guiding the sustainable future of Pacific salmon and its habitat. The organization has a wide range of work such as community investments and salmon health. As a part of the organization’s effort towards marine sciences, the Bottlenecks to Survival Projects investigate the survival bottlenecks, which refers to when a population size is reduced for at least one (\"Understanding Evolution\"), for salmon and steelhead throughout the Salish Sea and southern BC regions."
   ]
  },
  {
   "cell_type": "code",
   "execution_count": null,
   "id": "88826fb0-3df7-4a1e-974c-43759befebf5",
   "metadata": {},
   "outputs": [],
   "source": []
  }
 ],
 "metadata": {
  "kernelspec": {
   "display_name": "Python 3 (ipykernel)",
   "language": "python",
   "name": "python3"
  },
  "language_info": {
   "codemirror_mode": {
    "name": "ipython",
    "version": 3
   },
   "file_extension": ".py",
   "mimetype": "text/x-python",
   "name": "python",
   "nbconvert_exporter": "python",
   "pygments_lexer": "ipython3",
   "version": "3.11.7"
  }
 },
 "nbformat": 4,
 "nbformat_minor": 5
}
