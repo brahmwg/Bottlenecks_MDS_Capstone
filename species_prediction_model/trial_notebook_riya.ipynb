{
 "cells": [
  {
   "cell_type": "markdown",
   "metadata": {},
   "source": [
    "This is a trial notebook for approx pipeline and to test models, ignore the data and EDA"
   ]
  },
  {
   "cell_type": "code",
   "execution_count": 40,
   "metadata": {},
   "outputs": [],
   "source": [
    "import numpy as np \n",
    "import pandas as pd\n",
    "\n",
    "from sklearn.compose import make_column_transformer\n",
    "from sklearn.preprocessing import (\n",
    "    MinMaxScaler,\n",
    "    OneHotEncoder,\n",
    "    OrdinalEncoder,\n",
    "    StandardScaler,\n",
    ")"
   ]
  },
  {
   "cell_type": "code",
   "execution_count": 41,
   "metadata": {},
   "outputs": [
    {
     "data": {
      "text/html": [
       "<div>\n",
       "<style scoped>\n",
       "    .dataframe tbody tr th:only-of-type {\n",
       "        vertical-align: middle;\n",
       "    }\n",
       "\n",
       "    .dataframe tbody tr th {\n",
       "        vertical-align: top;\n",
       "    }\n",
       "\n",
       "    .dataframe thead th {\n",
       "        text-align: right;\n",
       "    }\n",
       "</style>\n",
       "<table border=\"1\" class=\"dataframe\">\n",
       "  <thead>\n",
       "    <tr style=\"text-align: right;\">\n",
       "      <th></th>\n",
       "      <th>tag_id_long</th>\n",
       "      <th>watershed</th>\n",
       "      <th>river</th>\n",
       "      <th>site</th>\n",
       "      <th>method</th>\n",
       "      <th>local</th>\n",
       "      <th>water_temp_start</th>\n",
       "      <th>species</th>\n",
       "      <th>fork_length_mm</th>\n",
       "      <th>weight_g</th>\n",
       "    </tr>\n",
       "  </thead>\n",
       "  <tbody>\n",
       "    <tr>\n",
       "      <th>0</th>\n",
       "      <td>989.001039</td>\n",
       "      <td>englishman</td>\n",
       "      <td>shelly creek</td>\n",
       "      <td>martindale rd</td>\n",
       "      <td>smolt trap</td>\n",
       "      <td>in-river</td>\n",
       "      <td>NaN</td>\n",
       "      <td>co</td>\n",
       "      <td>98</td>\n",
       "      <td>NaN</td>\n",
       "    </tr>\n",
       "    <tr>\n",
       "      <th>1</th>\n",
       "      <td>989.001039</td>\n",
       "      <td>englishman</td>\n",
       "      <td>shelly creek</td>\n",
       "      <td>martindale rd</td>\n",
       "      <td>smolt trap</td>\n",
       "      <td>in-river</td>\n",
       "      <td>NaN</td>\n",
       "      <td>co</td>\n",
       "      <td>115</td>\n",
       "      <td>NaN</td>\n",
       "    </tr>\n",
       "    <tr>\n",
       "      <th>2</th>\n",
       "      <td>989.001039</td>\n",
       "      <td>englishman</td>\n",
       "      <td>shelly creek</td>\n",
       "      <td>martindale rd</td>\n",
       "      <td>smolt trap</td>\n",
       "      <td>in-river</td>\n",
       "      <td>NaN</td>\n",
       "      <td>rbt</td>\n",
       "      <td>106</td>\n",
       "      <td>NaN</td>\n",
       "    </tr>\n",
       "    <tr>\n",
       "      <th>3</th>\n",
       "      <td>989.001039</td>\n",
       "      <td>englishman</td>\n",
       "      <td>shelly creek</td>\n",
       "      <td>martindale rd</td>\n",
       "      <td>smolt trap</td>\n",
       "      <td>in-river</td>\n",
       "      <td>7.0</td>\n",
       "      <td>co</td>\n",
       "      <td>113</td>\n",
       "      <td>NaN</td>\n",
       "    </tr>\n",
       "    <tr>\n",
       "      <th>4</th>\n",
       "      <td>989.001039</td>\n",
       "      <td>englishman</td>\n",
       "      <td>shelly creek</td>\n",
       "      <td>martindale rd</td>\n",
       "      <td>smolt trap</td>\n",
       "      <td>in-river</td>\n",
       "      <td>7.0</td>\n",
       "      <td>rbt</td>\n",
       "      <td>81</td>\n",
       "      <td>NaN</td>\n",
       "    </tr>\n",
       "  </tbody>\n",
       "</table>\n",
       "</div>"
      ],
      "text/plain": [
       "   tag_id_long   watershed         river           site      method     local  \\\n",
       "0   989.001039  englishman  shelly creek  martindale rd  smolt trap  in-river   \n",
       "1   989.001039  englishman  shelly creek  martindale rd  smolt trap  in-river   \n",
       "2   989.001039  englishman  shelly creek  martindale rd  smolt trap  in-river   \n",
       "3   989.001039  englishman  shelly creek  martindale rd  smolt trap  in-river   \n",
       "4   989.001039  englishman  shelly creek  martindale rd  smolt trap  in-river   \n",
       "\n",
       "   water_temp_start species  fork_length_mm  weight_g  \n",
       "0               NaN      co              98       NaN  \n",
       "1               NaN      co             115       NaN  \n",
       "2               NaN     rbt             106       NaN  \n",
       "3               7.0      co             113       NaN  \n",
       "4               7.0     rbt              81       NaN  "
      ]
     },
     "execution_count": 41,
     "metadata": {},
     "output_type": "execute_result"
    }
   ],
   "source": [
    "df = pd.read_csv(\"../species_prediction_model/data/trial_data_riya.csv\")\n",
    "df.head()"
   ]
  },
  {
   "cell_type": "code",
   "execution_count": 42,
   "metadata": {},
   "outputs": [
    {
     "data": {
      "text/plain": [
       "tag_id_long           0\n",
       "watershed             0\n",
       "river                 0\n",
       "site                  0\n",
       "method                0\n",
       "local                 0\n",
       "water_temp_start      3\n",
       "species               0\n",
       "fork_length_mm        0\n",
       "weight_g            100\n",
       "dtype: int64"
      ]
     },
     "execution_count": 42,
     "metadata": {},
     "output_type": "execute_result"
    }
   ],
   "source": [
    "df.isnull().sum()"
   ]
  },
  {
   "cell_type": "code",
   "execution_count": 43,
   "metadata": {},
   "outputs": [
    {
     "data": {
      "text/plain": [
       "array(['co', 'rbt'], dtype=object)"
      ]
     },
     "execution_count": 43,
     "metadata": {},
     "output_type": "execute_result"
    }
   ],
   "source": [
    "df.species.unique()"
   ]
  },
  {
   "cell_type": "markdown",
   "metadata": {},
   "source": [
    "This dataset only has 2 labels - co and rbt"
   ]
  },
  {
   "cell_type": "code",
   "execution_count": 44,
   "metadata": {},
   "outputs": [
    {
     "name": "stdout",
     "output_type": "stream",
     "text": [
      "watershed : ['englishman']\n",
      "river : ['shelly creek']\n",
      "site : ['martindale rd']\n",
      "method : ['smolt trap']\n",
      "local : ['in-river']\n",
      "water_temp_start : [ nan  7.   7.8  8.6 10.5 12.  10.6]\n",
      "species : ['co' 'rbt']\n",
      "fork_length_mm : [ 98 115 106 113  81  76 100  86  87  91  95  99 101  84  88  89  90 107\n",
      " 164  93  73  74  80  82  83  85  94  97 104  96 102 105  77 119  92  78]\n",
      "weight_g : [nan]\n"
     ]
    }
   ],
   "source": [
    "for col in df.columns:\n",
    "    if col not in ['tag_id_long']:\n",
    "        print(col, \":\", df[col].unique())"
   ]
  },
  {
   "cell_type": "code",
   "execution_count": 45,
   "metadata": {},
   "outputs": [],
   "source": [
    "df= df.drop(['weight_g', 'tag_id_long'], axis = 1)\n",
    "df = df.dropna()"
   ]
  },
  {
   "cell_type": "code",
   "execution_count": 46,
   "metadata": {},
   "outputs": [
    {
     "data": {
      "text/html": [
       "<div>\n",
       "<style scoped>\n",
       "    .dataframe tbody tr th:only-of-type {\n",
       "        vertical-align: middle;\n",
       "    }\n",
       "\n",
       "    .dataframe tbody tr th {\n",
       "        vertical-align: top;\n",
       "    }\n",
       "\n",
       "    .dataframe thead th {\n",
       "        text-align: right;\n",
       "    }\n",
       "</style>\n",
       "<table border=\"1\" class=\"dataframe\">\n",
       "  <thead>\n",
       "    <tr style=\"text-align: right;\">\n",
       "      <th></th>\n",
       "      <th>watershed</th>\n",
       "      <th>river</th>\n",
       "      <th>site</th>\n",
       "      <th>method</th>\n",
       "      <th>local</th>\n",
       "      <th>water_temp_start</th>\n",
       "      <th>species</th>\n",
       "      <th>fork_length_mm</th>\n",
       "    </tr>\n",
       "  </thead>\n",
       "  <tbody>\n",
       "    <tr>\n",
       "      <th>3</th>\n",
       "      <td>englishman</td>\n",
       "      <td>shelly creek</td>\n",
       "      <td>martindale rd</td>\n",
       "      <td>smolt trap</td>\n",
       "      <td>in-river</td>\n",
       "      <td>7.0</td>\n",
       "      <td>co</td>\n",
       "      <td>113</td>\n",
       "    </tr>\n",
       "    <tr>\n",
       "      <th>4</th>\n",
       "      <td>englishman</td>\n",
       "      <td>shelly creek</td>\n",
       "      <td>martindale rd</td>\n",
       "      <td>smolt trap</td>\n",
       "      <td>in-river</td>\n",
       "      <td>7.0</td>\n",
       "      <td>rbt</td>\n",
       "      <td>81</td>\n",
       "    </tr>\n",
       "    <tr>\n",
       "      <th>5</th>\n",
       "      <td>englishman</td>\n",
       "      <td>shelly creek</td>\n",
       "      <td>martindale rd</td>\n",
       "      <td>smolt trap</td>\n",
       "      <td>in-river</td>\n",
       "      <td>7.8</td>\n",
       "      <td>co</td>\n",
       "      <td>76</td>\n",
       "    </tr>\n",
       "    <tr>\n",
       "      <th>6</th>\n",
       "      <td>englishman</td>\n",
       "      <td>shelly creek</td>\n",
       "      <td>martindale rd</td>\n",
       "      <td>smolt trap</td>\n",
       "      <td>in-river</td>\n",
       "      <td>7.8</td>\n",
       "      <td>co</td>\n",
       "      <td>100</td>\n",
       "    </tr>\n",
       "    <tr>\n",
       "      <th>7</th>\n",
       "      <td>englishman</td>\n",
       "      <td>shelly creek</td>\n",
       "      <td>martindale rd</td>\n",
       "      <td>smolt trap</td>\n",
       "      <td>in-river</td>\n",
       "      <td>8.6</td>\n",
       "      <td>co</td>\n",
       "      <td>86</td>\n",
       "    </tr>\n",
       "    <tr>\n",
       "      <th>...</th>\n",
       "      <td>...</td>\n",
       "      <td>...</td>\n",
       "      <td>...</td>\n",
       "      <td>...</td>\n",
       "      <td>...</td>\n",
       "      <td>...</td>\n",
       "      <td>...</td>\n",
       "      <td>...</td>\n",
       "    </tr>\n",
       "    <tr>\n",
       "      <th>95</th>\n",
       "      <td>englishman</td>\n",
       "      <td>shelly creek</td>\n",
       "      <td>martindale rd</td>\n",
       "      <td>smolt trap</td>\n",
       "      <td>in-river</td>\n",
       "      <td>10.6</td>\n",
       "      <td>co</td>\n",
       "      <td>100</td>\n",
       "    </tr>\n",
       "    <tr>\n",
       "      <th>96</th>\n",
       "      <td>englishman</td>\n",
       "      <td>shelly creek</td>\n",
       "      <td>martindale rd</td>\n",
       "      <td>smolt trap</td>\n",
       "      <td>in-river</td>\n",
       "      <td>10.6</td>\n",
       "      <td>co</td>\n",
       "      <td>101</td>\n",
       "    </tr>\n",
       "    <tr>\n",
       "      <th>97</th>\n",
       "      <td>englishman</td>\n",
       "      <td>shelly creek</td>\n",
       "      <td>martindale rd</td>\n",
       "      <td>smolt trap</td>\n",
       "      <td>in-river</td>\n",
       "      <td>10.6</td>\n",
       "      <td>rbt</td>\n",
       "      <td>78</td>\n",
       "    </tr>\n",
       "    <tr>\n",
       "      <th>98</th>\n",
       "      <td>englishman</td>\n",
       "      <td>shelly creek</td>\n",
       "      <td>martindale rd</td>\n",
       "      <td>smolt trap</td>\n",
       "      <td>in-river</td>\n",
       "      <td>10.6</td>\n",
       "      <td>rbt</td>\n",
       "      <td>104</td>\n",
       "    </tr>\n",
       "    <tr>\n",
       "      <th>99</th>\n",
       "      <td>englishman</td>\n",
       "      <td>shelly creek</td>\n",
       "      <td>martindale rd</td>\n",
       "      <td>smolt trap</td>\n",
       "      <td>in-river</td>\n",
       "      <td>10.6</td>\n",
       "      <td>co</td>\n",
       "      <td>73</td>\n",
       "    </tr>\n",
       "  </tbody>\n",
       "</table>\n",
       "<p>97 rows × 8 columns</p>\n",
       "</div>"
      ],
      "text/plain": [
       "     watershed         river           site      method     local  \\\n",
       "3   englishman  shelly creek  martindale rd  smolt trap  in-river   \n",
       "4   englishman  shelly creek  martindale rd  smolt trap  in-river   \n",
       "5   englishman  shelly creek  martindale rd  smolt trap  in-river   \n",
       "6   englishman  shelly creek  martindale rd  smolt trap  in-river   \n",
       "7   englishman  shelly creek  martindale rd  smolt trap  in-river   \n",
       "..         ...           ...            ...         ...       ...   \n",
       "95  englishman  shelly creek  martindale rd  smolt trap  in-river   \n",
       "96  englishman  shelly creek  martindale rd  smolt trap  in-river   \n",
       "97  englishman  shelly creek  martindale rd  smolt trap  in-river   \n",
       "98  englishman  shelly creek  martindale rd  smolt trap  in-river   \n",
       "99  englishman  shelly creek  martindale rd  smolt trap  in-river   \n",
       "\n",
       "    water_temp_start species  fork_length_mm  \n",
       "3                7.0      co             113  \n",
       "4                7.0     rbt              81  \n",
       "5                7.8      co              76  \n",
       "6                7.8      co             100  \n",
       "7                8.6      co              86  \n",
       "..               ...     ...             ...  \n",
       "95              10.6      co             100  \n",
       "96              10.6      co             101  \n",
       "97              10.6     rbt              78  \n",
       "98              10.6     rbt             104  \n",
       "99              10.6      co              73  \n",
       "\n",
       "[97 rows x 8 columns]"
      ]
     },
     "execution_count": 46,
     "metadata": {},
     "output_type": "execute_result"
    }
   ],
   "source": [
    "df"
   ]
  },
  {
   "cell_type": "markdown",
   "metadata": {},
   "source": [
    "Pipeline "
   ]
  },
  {
   "cell_type": "code",
   "execution_count": 50,
   "metadata": {},
   "outputs": [],
   "source": [
    "X = df.drop('species', axis = 1)\n",
    "y = df['species']"
   ]
  },
  {
   "cell_type": "code",
   "execution_count": 52,
   "metadata": {},
   "outputs": [],
   "source": [
    "numeric_feats = [\"water_temp_start\", \"fork_length_mm\"]  # apply scaling\n",
    "categorical_feats = [\"watershed\", \"river\", \"site\", \"method\", \"local\"]  # apply one-hot encoding\n",
    "# passthrough_feats = [\"\"]  # do not apply any transformation\n",
    "# drop_feats = [ \"species\" ]  "
   ]
  },
  {
   "cell_type": "code",
   "execution_count": 53,
   "metadata": {},
   "outputs": [],
   "source": [
    "ct = make_column_transformer (    \n",
    "    (StandardScaler(), numeric_feats),  \n",
    "    #(\"passthrough\", passthrough_feats),     \n",
    "    (OneHotEncoder(), categorical_feats),  \n",
    "    #(\"drop\", drop_feats), \n",
    ")"
   ]
  },
  {
   "cell_type": "code",
   "execution_count": 54,
   "metadata": {},
   "outputs": [],
   "source": [
    "transformed = ct.fit_transform(X)"
   ]
  },
  {
   "cell_type": "code",
   "execution_count": null,
   "metadata": {},
   "outputs": [],
   "source": []
  }
 ],
 "metadata": {
  "kernelspec": {
   "display_name": "Python 3",
   "language": "python",
   "name": "python3"
  },
  "language_info": {
   "codemirror_mode": {
    "name": "ipython",
    "version": 3
   },
   "file_extension": ".py",
   "mimetype": "text/x-python",
   "name": "python",
   "nbconvert_exporter": "python",
   "pygments_lexer": "ipython3",
   "version": "3.11.8"
  }
 },
 "nbformat": 4,
 "nbformat_minor": 2
}
