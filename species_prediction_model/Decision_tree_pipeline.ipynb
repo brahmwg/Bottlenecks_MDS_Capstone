{
 "cells": [
  {
   "cell_type": "markdown",
   "metadata": {},
   "source": [
    "# SPECIES PREDICTION MODEL PIPELINE (Decision tree)"
   ]
  },
  {
   "cell_type": "markdown",
   "metadata": {},
   "source": [
    "NOTE: The data and EDA is based on a dummy dataset. The pipeline is created and flexible for more data."
   ]
  },
  {
   "cell_type": "markdown",
   "metadata": {},
   "source": [
    "## Imports"
   ]
  },
  {
   "cell_type": "code",
   "execution_count": 1,
   "metadata": {},
   "outputs": [],
   "source": [
    "import numpy as np \n",
    "import pandas as pd\n",
    "import matplotlib.pyplot as plt\n",
    "\n",
    "from sklearn.compose import make_column_transformer\n",
    "from sklearn.preprocessing import (\n",
    "    MinMaxScaler,\n",
    "    OneHotEncoder,\n",
    "    OrdinalEncoder,\n",
    "    StandardScaler,\n",
    "    LabelEncoder\n",
    ")\n",
    "\n",
    "from sklearn.model_selection import train_test_split\n",
    "from sklearn.dummy import DummyClassifier\n",
    "from sklearn.tree import DecisionTreeClassifier\n",
    "from sklearn import tree\n",
    "\n",
    "# for vizualizing DT\n",
    "from sklearn.tree import export_graphviz \n",
    "import six\n",
    "import sys\n",
    "sys.modules['sklearn.externals.six'] = six\n",
    "from sklearn.externals.six import StringIO  \n",
    "from IPython.display import Image  \n",
    "import pydotplus"
   ]
  },
  {
   "cell_type": "code",
   "execution_count": 51,
   "metadata": {},
   "outputs": [
    {
     "data": {
      "text/html": [
       "<div>\n",
       "<style scoped>\n",
       "    .dataframe tbody tr th:only-of-type {\n",
       "        vertical-align: middle;\n",
       "    }\n",
       "\n",
       "    .dataframe tbody tr th {\n",
       "        vertical-align: top;\n",
       "    }\n",
       "\n",
       "    .dataframe thead th {\n",
       "        text-align: right;\n",
       "    }\n",
       "</style>\n",
       "<table border=\"1\" class=\"dataframe\">\n",
       "  <thead>\n",
       "    <tr style=\"text-align: right;\">\n",
       "      <th></th>\n",
       "      <th>watershed</th>\n",
       "      <th>river</th>\n",
       "      <th>site</th>\n",
       "      <th>method</th>\n",
       "      <th>local</th>\n",
       "      <th>water_temp_start</th>\n",
       "      <th>fork_length_mm</th>\n",
       "      <th>species</th>\n",
       "    </tr>\n",
       "  </thead>\n",
       "  <tbody>\n",
       "    <tr>\n",
       "      <th>0</th>\n",
       "      <td>englishman</td>\n",
       "      <td>center creek</td>\n",
       "      <td>center creek</td>\n",
       "      <td>smolt trap</td>\n",
       "      <td>in-river</td>\n",
       "      <td>10.2</td>\n",
       "      <td>85.0</td>\n",
       "      <td>co</td>\n",
       "    </tr>\n",
       "    <tr>\n",
       "      <th>1</th>\n",
       "      <td>englishman</td>\n",
       "      <td>center creek</td>\n",
       "      <td>center creek</td>\n",
       "      <td>smolt trap</td>\n",
       "      <td>in-river</td>\n",
       "      <td>10.2</td>\n",
       "      <td>85.0</td>\n",
       "      <td>co</td>\n",
       "    </tr>\n",
       "    <tr>\n",
       "      <th>2</th>\n",
       "      <td>englishman</td>\n",
       "      <td>center creek</td>\n",
       "      <td>center creek</td>\n",
       "      <td>smolt trap</td>\n",
       "      <td>in-river</td>\n",
       "      <td>10.2</td>\n",
       "      <td>85.0</td>\n",
       "      <td>co</td>\n",
       "    </tr>\n",
       "    <tr>\n",
       "      <th>3</th>\n",
       "      <td>englishman</td>\n",
       "      <td>center creek</td>\n",
       "      <td>center creek</td>\n",
       "      <td>smolt trap</td>\n",
       "      <td>in-river</td>\n",
       "      <td>10.2</td>\n",
       "      <td>86.0</td>\n",
       "      <td>co</td>\n",
       "    </tr>\n",
       "    <tr>\n",
       "      <th>4</th>\n",
       "      <td>englishman</td>\n",
       "      <td>center creek</td>\n",
       "      <td>center creek</td>\n",
       "      <td>smolt trap</td>\n",
       "      <td>in-river</td>\n",
       "      <td>10.2</td>\n",
       "      <td>87.0</td>\n",
       "      <td>co</td>\n",
       "    </tr>\n",
       "  </tbody>\n",
       "</table>\n",
       "</div>"
      ],
      "text/plain": [
       "    watershed         river          site      method     local  \\\n",
       "0  englishman  center creek  center creek  smolt trap  in-river   \n",
       "1  englishman  center creek  center creek  smolt trap  in-river   \n",
       "2  englishman  center creek  center creek  smolt trap  in-river   \n",
       "3  englishman  center creek  center creek  smolt trap  in-river   \n",
       "4  englishman  center creek  center creek  smolt trap  in-river   \n",
       "\n",
       "   water_temp_start  fork_length_mm species  \n",
       "0              10.2            85.0      co  \n",
       "1              10.2            85.0      co  \n",
       "2              10.2            85.0      co  \n",
       "3              10.2            86.0      co  \n",
       "4              10.2            87.0      co  "
      ]
     },
     "execution_count": 51,
     "metadata": {},
     "output_type": "execute_result"
    }
   ],
   "source": [
    "df = pd.read_csv(\"../species_prediction_model/data/field_big.csv\")\n",
    "df.head()"
   ]
  },
  {
   "cell_type": "code",
   "execution_count": 52,
   "metadata": {},
   "outputs": [
    {
     "data": {
      "text/plain": [
       "watershed               0\n",
       "river                   0\n",
       "site                    0\n",
       "method               2431\n",
       "local                2901\n",
       "water_temp_start    22583\n",
       "fork_length_mm        145\n",
       "species                56\n",
       "dtype: int64"
      ]
     },
     "execution_count": 52,
     "metadata": {},
     "output_type": "execute_result"
    }
   ],
   "source": [
    "df.isnull().sum()"
   ]
  },
  {
   "cell_type": "code",
   "execution_count": 53,
   "metadata": {},
   "outputs": [],
   "source": [
    "#df= df.drop(['weight_g'], axis = 1)\n",
    "df = df.dropna()"
   ]
  },
  {
   "cell_type": "code",
   "execution_count": 54,
   "metadata": {},
   "outputs": [
    {
     "data": {
      "text/plain": [
       "array(['co', 'rbt', 'stl', 'ct', 'bt', 'ck', 'cm'], dtype=object)"
      ]
     },
     "execution_count": 54,
     "metadata": {},
     "output_type": "execute_result"
    }
   ],
   "source": [
    "df.species.unique()"
   ]
  },
  {
   "cell_type": "markdown",
   "metadata": {},
   "source": [
    "This dataset only has 2 labels - co and rbt"
   ]
  },
  {
   "cell_type": "code",
   "execution_count": 55,
   "metadata": {},
   "outputs": [
    {
     "name": "stdout",
     "output_type": "stream",
     "text": [
      "watershed : ['englishman' 'cowichan' 'nanaimo' 'puntledge']\n",
      "river : ['center creek' 'shelly creek' 'cowichan' 'englishman' 'nanaimo'\n",
      " 'puntledge' 'tsolum' 'haslam creek']\n",
      "site : ['center creek' 'martindale rd' '70.2' 'skutz' 'side channel'\n",
      " 'hamilton ave' 'cow bay' 'jack point' 'above tsolum' 'little mexico'\n",
      " 'mainstem fence' 'newcastle' 'cedar bridge' 'living forest' 'vimy pool'\n",
      " 'snuneymuxw beach' 'condensory bridge' 'tsolum confluence' 'tsolum'\n",
      " 't-bone road']\n",
      "method : ['smolt trap' 'beach seine' 'rst' 'g-trap']\n",
      "local : ['in-river' 'marine']\n",
      "species : ['co' 'rbt' 'stl' 'ct' 'bt' 'ck' 'cm']\n"
     ]
    }
   ],
   "source": [
    "for col in df.columns:\n",
    "    if col not in ['tag_id_long','fork_length_mm', 'water_temp_start']:\n",
    "        print(col, \":\", df[col].unique())"
   ]
  },
  {
   "cell_type": "code",
   "execution_count": 56,
   "metadata": {},
   "outputs": [],
   "source": [
    "# df= df.drop(['weight_g'], axis = 1)\n",
    "# df = df.dropna()"
   ]
  },
  {
   "cell_type": "code",
   "execution_count": 58,
   "metadata": {},
   "outputs": [
    {
     "data": {
      "text/html": [
       "<div>\n",
       "<style scoped>\n",
       "    .dataframe tbody tr th:only-of-type {\n",
       "        vertical-align: middle;\n",
       "    }\n",
       "\n",
       "    .dataframe tbody tr th {\n",
       "        vertical-align: top;\n",
       "    }\n",
       "\n",
       "    .dataframe thead th {\n",
       "        text-align: right;\n",
       "    }\n",
       "</style>\n",
       "<table border=\"1\" class=\"dataframe\">\n",
       "  <thead>\n",
       "    <tr style=\"text-align: right;\">\n",
       "      <th></th>\n",
       "      <th>species</th>\n",
       "      <th>eye_size</th>\n",
       "      <th>snout_shape</th>\n",
       "      <th>parr_marks</th>\n",
       "      <th>parr_marks_length</th>\n",
       "      <th>spotting_density</th>\n",
       "      <th>fin_type</th>\n",
       "    </tr>\n",
       "  </thead>\n",
       "  <tbody>\n",
       "    <tr>\n",
       "      <th>0</th>\n",
       "      <td>ck</td>\n",
       "      <td>large</td>\n",
       "      <td>pointy</td>\n",
       "      <td>slightly faded</td>\n",
       "      <td>long</td>\n",
       "      <td>medium</td>\n",
       "      <td>anal fin</td>\n",
       "    </tr>\n",
       "    <tr>\n",
       "      <th>1</th>\n",
       "      <td>co</td>\n",
       "      <td>large</td>\n",
       "      <td>short and blunt</td>\n",
       "      <td>slightly faded</td>\n",
       "      <td>long</td>\n",
       "      <td>medium</td>\n",
       "      <td>anal fin</td>\n",
       "    </tr>\n",
       "    <tr>\n",
       "      <th>2</th>\n",
       "      <td>cm</td>\n",
       "      <td>medium</td>\n",
       "      <td>NaN</td>\n",
       "      <td>faded</td>\n",
       "      <td>short</td>\n",
       "      <td>medium</td>\n",
       "      <td>caudal fin</td>\n",
       "    </tr>\n",
       "    <tr>\n",
       "      <th>3</th>\n",
       "      <td>pink</td>\n",
       "      <td>medium</td>\n",
       "      <td>NaN</td>\n",
       "      <td>NaN</td>\n",
       "      <td>NaN</td>\n",
       "      <td>NaN</td>\n",
       "      <td>caudal fin</td>\n",
       "    </tr>\n",
       "    <tr>\n",
       "      <th>4</th>\n",
       "      <td>so</td>\n",
       "      <td>very large</td>\n",
       "      <td>NaN</td>\n",
       "      <td>slightly faded</td>\n",
       "      <td>irregular</td>\n",
       "      <td>NaN</td>\n",
       "      <td>caudal fin</td>\n",
       "    </tr>\n",
       "    <tr>\n",
       "      <th>5</th>\n",
       "      <td>stl</td>\n",
       "      <td>small</td>\n",
       "      <td>short and rounded</td>\n",
       "      <td>faded</td>\n",
       "      <td>short</td>\n",
       "      <td>high</td>\n",
       "      <td>caudal fin</td>\n",
       "    </tr>\n",
       "    <tr>\n",
       "      <th>6</th>\n",
       "      <td>ct</td>\n",
       "      <td>small</td>\n",
       "      <td>long and pointy</td>\n",
       "      <td>faded</td>\n",
       "      <td>short</td>\n",
       "      <td>high</td>\n",
       "      <td>caudal fin</td>\n",
       "    </tr>\n",
       "    <tr>\n",
       "      <th>7</th>\n",
       "      <td>rbt</td>\n",
       "      <td>small</td>\n",
       "      <td>short and rounded</td>\n",
       "      <td>NaN</td>\n",
       "      <td>short</td>\n",
       "      <td>high</td>\n",
       "      <td>caudal fin</td>\n",
       "    </tr>\n",
       "  </tbody>\n",
       "</table>\n",
       "</div>"
      ],
      "text/plain": [
       "  species    eye_size        snout_shape      parr_marks parr_marks_length  \\\n",
       "0      ck       large             pointy  slightly faded              long   \n",
       "1      co       large    short and blunt  slightly faded              long   \n",
       "2      cm      medium                NaN           faded             short   \n",
       "3    pink      medium                NaN             NaN               NaN   \n",
       "4      so  very large                NaN  slightly faded         irregular   \n",
       "5     stl       small  short and rounded           faded             short   \n",
       "6      ct       small    long and pointy           faded             short   \n",
       "7     rbt       small  short and rounded             NaN             short   \n",
       "\n",
       "  spotting_density    fin_type  \n",
       "0           medium    anal fin  \n",
       "1           medium    anal fin  \n",
       "2           medium  caudal fin  \n",
       "3              NaN  caudal fin  \n",
       "4              NaN  caudal fin  \n",
       "5             high  caudal fin  \n",
       "6             high  caudal fin  \n",
       "7             high  caudal fin  "
      ]
     },
     "execution_count": 58,
     "metadata": {},
     "output_type": "execute_result"
    }
   ],
   "source": [
    "fish_features = pd.read_csv(\"../species_prediction_model/data/fish_features.csv\", index_col=None)\n",
    "fish_features"
   ]
  },
  {
   "cell_type": "code",
   "execution_count": 59,
   "metadata": {},
   "outputs": [
    {
     "data": {
      "text/html": [
       "<div>\n",
       "<style scoped>\n",
       "    .dataframe tbody tr th:only-of-type {\n",
       "        vertical-align: middle;\n",
       "    }\n",
       "\n",
       "    .dataframe tbody tr th {\n",
       "        vertical-align: top;\n",
       "    }\n",
       "\n",
       "    .dataframe thead th {\n",
       "        text-align: right;\n",
       "    }\n",
       "</style>\n",
       "<table border=\"1\" class=\"dataframe\">\n",
       "  <thead>\n",
       "    <tr style=\"text-align: right;\">\n",
       "      <th></th>\n",
       "      <th>watershed</th>\n",
       "      <th>river</th>\n",
       "      <th>site</th>\n",
       "      <th>method</th>\n",
       "      <th>local</th>\n",
       "      <th>water_temp_start</th>\n",
       "      <th>fork_length_mm</th>\n",
       "      <th>species</th>\n",
       "      <th>eye_size</th>\n",
       "      <th>snout_shape</th>\n",
       "      <th>parr_marks</th>\n",
       "      <th>parr_marks_length</th>\n",
       "      <th>spotting_density</th>\n",
       "      <th>fin_type</th>\n",
       "    </tr>\n",
       "  </thead>\n",
       "  <tbody>\n",
       "    <tr>\n",
       "      <th>0</th>\n",
       "      <td>englishman</td>\n",
       "      <td>center creek</td>\n",
       "      <td>center creek</td>\n",
       "      <td>smolt trap</td>\n",
       "      <td>in-river</td>\n",
       "      <td>10.2</td>\n",
       "      <td>85.0</td>\n",
       "      <td>co</td>\n",
       "      <td>large</td>\n",
       "      <td>short and blunt</td>\n",
       "      <td>slightly faded</td>\n",
       "      <td>long</td>\n",
       "      <td>medium</td>\n",
       "      <td>anal fin</td>\n",
       "    </tr>\n",
       "    <tr>\n",
       "      <th>1</th>\n",
       "      <td>englishman</td>\n",
       "      <td>center creek</td>\n",
       "      <td>center creek</td>\n",
       "      <td>smolt trap</td>\n",
       "      <td>in-river</td>\n",
       "      <td>10.2</td>\n",
       "      <td>85.0</td>\n",
       "      <td>co</td>\n",
       "      <td>large</td>\n",
       "      <td>short and blunt</td>\n",
       "      <td>slightly faded</td>\n",
       "      <td>long</td>\n",
       "      <td>medium</td>\n",
       "      <td>anal fin</td>\n",
       "    </tr>\n",
       "    <tr>\n",
       "      <th>2</th>\n",
       "      <td>englishman</td>\n",
       "      <td>center creek</td>\n",
       "      <td>center creek</td>\n",
       "      <td>smolt trap</td>\n",
       "      <td>in-river</td>\n",
       "      <td>10.2</td>\n",
       "      <td>85.0</td>\n",
       "      <td>co</td>\n",
       "      <td>large</td>\n",
       "      <td>short and blunt</td>\n",
       "      <td>slightly faded</td>\n",
       "      <td>long</td>\n",
       "      <td>medium</td>\n",
       "      <td>anal fin</td>\n",
       "    </tr>\n",
       "    <tr>\n",
       "      <th>3</th>\n",
       "      <td>englishman</td>\n",
       "      <td>center creek</td>\n",
       "      <td>center creek</td>\n",
       "      <td>smolt trap</td>\n",
       "      <td>in-river</td>\n",
       "      <td>10.2</td>\n",
       "      <td>86.0</td>\n",
       "      <td>co</td>\n",
       "      <td>large</td>\n",
       "      <td>short and blunt</td>\n",
       "      <td>slightly faded</td>\n",
       "      <td>long</td>\n",
       "      <td>medium</td>\n",
       "      <td>anal fin</td>\n",
       "    </tr>\n",
       "    <tr>\n",
       "      <th>4</th>\n",
       "      <td>englishman</td>\n",
       "      <td>center creek</td>\n",
       "      <td>center creek</td>\n",
       "      <td>smolt trap</td>\n",
       "      <td>in-river</td>\n",
       "      <td>10.2</td>\n",
       "      <td>87.0</td>\n",
       "      <td>co</td>\n",
       "      <td>large</td>\n",
       "      <td>short and blunt</td>\n",
       "      <td>slightly faded</td>\n",
       "      <td>long</td>\n",
       "      <td>medium</td>\n",
       "      <td>anal fin</td>\n",
       "    </tr>\n",
       "  </tbody>\n",
       "</table>\n",
       "</div>"
      ],
      "text/plain": [
       "    watershed         river          site      method     local  \\\n",
       "0  englishman  center creek  center creek  smolt trap  in-river   \n",
       "1  englishman  center creek  center creek  smolt trap  in-river   \n",
       "2  englishman  center creek  center creek  smolt trap  in-river   \n",
       "3  englishman  center creek  center creek  smolt trap  in-river   \n",
       "4  englishman  center creek  center creek  smolt trap  in-river   \n",
       "\n",
       "   water_temp_start  fork_length_mm species eye_size      snout_shape  \\\n",
       "0              10.2            85.0      co    large  short and blunt   \n",
       "1              10.2            85.0      co    large  short and blunt   \n",
       "2              10.2            85.0      co    large  short and blunt   \n",
       "3              10.2            86.0      co    large  short and blunt   \n",
       "4              10.2            87.0      co    large  short and blunt   \n",
       "\n",
       "       parr_marks parr_marks_length spotting_density  fin_type  \n",
       "0  slightly faded              long           medium  anal fin  \n",
       "1  slightly faded              long           medium  anal fin  \n",
       "2  slightly faded              long           medium  anal fin  \n",
       "3  slightly faded              long           medium  anal fin  \n",
       "4  slightly faded              long           medium  anal fin  "
      ]
     },
     "execution_count": 59,
     "metadata": {},
     "output_type": "execute_result"
    }
   ],
   "source": [
    "full = df.merge(fish_features, how='left',on='species')\n",
    "full.head()"
   ]
  },
  {
   "cell_type": "code",
   "execution_count": 60,
   "metadata": {},
   "outputs": [],
   "source": [
    "full = full.replace(np.nan, None)"
   ]
  },
  {
   "cell_type": "code",
   "execution_count": 61,
   "metadata": {},
   "outputs": [
    {
     "data": {
      "text/plain": [
       "watershed            0\n",
       "river                0\n",
       "site                 0\n",
       "method               0\n",
       "local                0\n",
       "water_temp_start     0\n",
       "fork_length_mm       0\n",
       "species              0\n",
       "eye_size             0\n",
       "snout_shape          0\n",
       "parr_marks           0\n",
       "parr_marks_length    0\n",
       "spotting_density     0\n",
       "fin_type             0\n",
       "dtype: int64"
      ]
     },
     "execution_count": 61,
     "metadata": {},
     "output_type": "execute_result"
    }
   ],
   "source": [
    "full.isnull().sum()"
   ]
  },
  {
   "cell_type": "code",
   "execution_count": 73,
   "metadata": {},
   "outputs": [
    {
     "data": {
      "text/plain": [
       "ck     19745\n",
       "co     16607\n",
       "stl      479\n",
       "ct       479\n",
       "rbt      449\n",
       "bt        76\n",
       "cm        10\n",
       "Name: species, dtype: int64"
      ]
     },
     "execution_count": 73,
     "metadata": {},
     "output_type": "execute_result"
    }
   ],
   "source": [
    "full['species'].value_counts()\n"
   ]
  },
  {
   "cell_type": "code",
   "execution_count": null,
   "metadata": {},
   "outputs": [],
   "source": [
    "# reducing the size of \"full\": co and ck will have 500 rows, rest all take as it is\n",
    "\n"
   ]
  },
  {
   "cell_type": "markdown",
   "metadata": {},
   "source": [
    "## Pipeline "
   ]
  },
  {
   "cell_type": "markdown",
   "metadata": {},
   "source": [
    "### Pre-processing for the model"
   ]
  },
  {
   "cell_type": "code",
   "execution_count": 62,
   "metadata": {},
   "outputs": [],
   "source": [
    "X = full.drop('species', axis = 1)\n",
    "y = full['species']"
   ]
  },
  {
   "cell_type": "code",
   "execution_count": 63,
   "metadata": {},
   "outputs": [],
   "source": [
    "# numeric_feats = [\"\"]  # apply scaling\n",
    "categorical_feats = [\"watershed\", \"river\", \"site\", \"method\", \"local\", \"eye_size\", \"snout_shape\", \"parr_marks\", \n",
    "                     \"parr_marks_length\", \"spotting_density\", \"fin_type\"]  # apply one-hot encoding\n",
    "passthrough_feats = [\"fork_length_mm\"]  # do not apply any transformation\n",
    "# drop_feats = [ \"species\" ]  \n",
    "# levels = [\"\", \"\"]"
   ]
  },
  {
   "cell_type": "code",
   "execution_count": 64,
   "metadata": {},
   "outputs": [],
   "source": [
    "ct = make_column_transformer (    \n",
    "    #(StandardScaler(), numeric_feats),  \n",
    "    (\"passthrough\", passthrough_feats),     \n",
    "    (OneHotEncoder(), categorical_feats),  \n",
    "    #(\"drop\", drop_feats), \n",
    "    #OrdinalEncoder(categories=[levels], dtype=int)\n",
    ")"
   ]
  },
  {
   "cell_type": "code",
   "execution_count": 65,
   "metadata": {},
   "outputs": [],
   "source": [
    "transformed = ct.fit_transform(X)"
   ]
  },
  {
   "cell_type": "code",
   "execution_count": 66,
   "metadata": {},
   "outputs": [
    {
     "data": {
      "text/plain": [
       "['fork_length_mm',\n",
       " 'watershed_cowichan',\n",
       " 'watershed_englishman',\n",
       " 'watershed_nanaimo',\n",
       " 'watershed_puntledge',\n",
       " 'river_center creek',\n",
       " 'river_cowichan',\n",
       " 'river_englishman',\n",
       " 'river_haslam creek',\n",
       " 'river_nanaimo',\n",
       " 'river_puntledge',\n",
       " 'river_shelly creek',\n",
       " 'river_tsolum',\n",
       " 'site_70.2',\n",
       " 'site_above tsolum',\n",
       " 'site_cedar bridge',\n",
       " 'site_center creek',\n",
       " 'site_condensory bridge',\n",
       " 'site_cow bay',\n",
       " 'site_hamilton ave',\n",
       " 'site_jack point',\n",
       " 'site_little mexico',\n",
       " 'site_living forest',\n",
       " 'site_mainstem fence',\n",
       " 'site_martindale rd',\n",
       " 'site_newcastle',\n",
       " 'site_side channel',\n",
       " 'site_skutz',\n",
       " 'site_snuneymuxw beach',\n",
       " 'site_t-bone road',\n",
       " 'site_tsolum',\n",
       " 'site_tsolum confluence',\n",
       " 'site_vimy pool',\n",
       " 'method_beach seine',\n",
       " 'method_g-trap',\n",
       " 'method_rst',\n",
       " 'method_smolt trap',\n",
       " 'local_in-river',\n",
       " 'local_marine',\n",
       " 'eye_size_large',\n",
       " 'eye_size_medium',\n",
       " 'eye_size_small',\n",
       " 'snout_shape_long and pointy',\n",
       " 'snout_shape_pointy',\n",
       " 'snout_shape_short and blunt',\n",
       " 'snout_shape_short and rounded',\n",
       " 'parr_marks_faded',\n",
       " 'parr_marks_slightly faded',\n",
       " 'parr_marks_length_long',\n",
       " 'parr_marks_length_short',\n",
       " 'spotting_density_high',\n",
       " 'spotting_density_medium',\n",
       " 'fin_type_anal fin',\n",
       " 'fin_type_caudal fin']"
      ]
     },
     "execution_count": 66,
     "metadata": {},
     "output_type": "execute_result"
    }
   ],
   "source": [
    "column_names = (\n",
    "    # numeric_feats\n",
    "    passthrough_feats    \n",
    "    + ct.named_transformers_[\"onehotencoder\"].get_feature_names_out().tolist()\n",
    ")\n",
    "column_names"
   ]
  },
  {
   "cell_type": "code",
   "execution_count": 70,
   "metadata": {},
   "outputs": [
    {
     "data": {
      "text/plain": [
       "<37845x54 sparse matrix of type '<class 'numpy.float64'>'\n",
       "\twith 454140 stored elements in Compressed Sparse Row format>"
      ]
     },
     "execution_count": 70,
     "metadata": {},
     "output_type": "execute_result"
    }
   ],
   "source": [
    "transformed"
   ]
  },
  {
   "cell_type": "code",
   "execution_count": 69,
   "metadata": {},
   "outputs": [
    {
     "data": {
      "text/html": [
       "<div>\n",
       "<style scoped>\n",
       "    .dataframe tbody tr th:only-of-type {\n",
       "        vertical-align: middle;\n",
       "    }\n",
       "\n",
       "    .dataframe tbody tr th {\n",
       "        vertical-align: top;\n",
       "    }\n",
       "\n",
       "    .dataframe thead th {\n",
       "        text-align: right;\n",
       "    }\n",
       "</style>\n",
       "<table border=\"1\" class=\"dataframe\">\n",
       "  <thead>\n",
       "    <tr style=\"text-align: right;\">\n",
       "      <th></th>\n",
       "      <th>0</th>\n",
       "    </tr>\n",
       "  </thead>\n",
       "  <tbody>\n",
       "    <tr>\n",
       "      <th>0</th>\n",
       "      <td>(0, 0)\\t85.0\\n  (0, 2)\\t1.0\\n  (0, 5)\\t1.0\\n...</td>\n",
       "    </tr>\n",
       "    <tr>\n",
       "      <th>1</th>\n",
       "      <td>(0, 0)\\t85.0\\n  (0, 2)\\t1.0\\n  (0, 5)\\t1.0\\n...</td>\n",
       "    </tr>\n",
       "    <tr>\n",
       "      <th>2</th>\n",
       "      <td>(0, 0)\\t85.0\\n  (0, 2)\\t1.0\\n  (0, 5)\\t1.0\\n...</td>\n",
       "    </tr>\n",
       "    <tr>\n",
       "      <th>3</th>\n",
       "      <td>(0, 0)\\t86.0\\n  (0, 2)\\t1.0\\n  (0, 5)\\t1.0\\n...</td>\n",
       "    </tr>\n",
       "    <tr>\n",
       "      <th>4</th>\n",
       "      <td>(0, 0)\\t87.0\\n  (0, 2)\\t1.0\\n  (0, 5)\\t1.0\\n...</td>\n",
       "    </tr>\n",
       "  </tbody>\n",
       "</table>\n",
       "</div>"
      ],
      "text/plain": [
       "                                                   0\n",
       "0    (0, 0)\\t85.0\\n  (0, 2)\\t1.0\\n  (0, 5)\\t1.0\\n...\n",
       "1    (0, 0)\\t85.0\\n  (0, 2)\\t1.0\\n  (0, 5)\\t1.0\\n...\n",
       "2    (0, 0)\\t85.0\\n  (0, 2)\\t1.0\\n  (0, 5)\\t1.0\\n...\n",
       "3    (0, 0)\\t86.0\\n  (0, 2)\\t1.0\\n  (0, 5)\\t1.0\\n...\n",
       "4    (0, 0)\\t87.0\\n  (0, 2)\\t1.0\\n  (0, 5)\\t1.0\\n..."
      ]
     },
     "execution_count": 69,
     "metadata": {},
     "output_type": "execute_result"
    }
   ],
   "source": [
    "X_transformed = pd.DataFrame(transformed)#, columns=column_names)\n",
    "X_transformed.head()"
   ]
  },
  {
   "cell_type": "code",
   "execution_count": 41,
   "metadata": {},
   "outputs": [
    {
     "data": {
      "text/html": [
       "<div>\n",
       "<style scoped>\n",
       "    .dataframe tbody tr th:only-of-type {\n",
       "        vertical-align: middle;\n",
       "    }\n",
       "\n",
       "    .dataframe tbody tr th {\n",
       "        vertical-align: top;\n",
       "    }\n",
       "\n",
       "    .dataframe thead th {\n",
       "        text-align: right;\n",
       "    }\n",
       "</style>\n",
       "<table border=\"1\" class=\"dataframe\">\n",
       "  <thead>\n",
       "    <tr style=\"text-align: right;\">\n",
       "      <th></th>\n",
       "      <th>fork_length_mm</th>\n",
       "      <th>watershed_englishman</th>\n",
       "      <th>river_shelly creek</th>\n",
       "      <th>site_martindale rd</th>\n",
       "      <th>method_smolt trap</th>\n",
       "      <th>local_in-river</th>\n",
       "      <th>eye_size_large</th>\n",
       "      <th>eye_size_small</th>\n",
       "      <th>snout_shape_short and blunt</th>\n",
       "      <th>snout_shape_short and rounded</th>\n",
       "      <th>parr_marks_slightly faded</th>\n",
       "      <th>parr_marks_length_long</th>\n",
       "      <th>parr_marks_length_short</th>\n",
       "      <th>spotting_density_high</th>\n",
       "      <th>spotting_density_medium</th>\n",
       "      <th>fin_type_anal fin</th>\n",
       "      <th>fin_type_caudal fin</th>\n",
       "    </tr>\n",
       "  </thead>\n",
       "  <tbody>\n",
       "    <tr>\n",
       "      <th>0</th>\n",
       "      <td>113.0</td>\n",
       "      <td>1.0</td>\n",
       "      <td>1.0</td>\n",
       "      <td>1.0</td>\n",
       "      <td>1.0</td>\n",
       "      <td>1.0</td>\n",
       "      <td>1.0</td>\n",
       "      <td>0.0</td>\n",
       "      <td>1.0</td>\n",
       "      <td>0.0</td>\n",
       "      <td>1.0</td>\n",
       "      <td>1.0</td>\n",
       "      <td>0.0</td>\n",
       "      <td>0.0</td>\n",
       "      <td>1.0</td>\n",
       "      <td>1.0</td>\n",
       "      <td>0.0</td>\n",
       "    </tr>\n",
       "    <tr>\n",
       "      <th>1</th>\n",
       "      <td>81.0</td>\n",
       "      <td>1.0</td>\n",
       "      <td>1.0</td>\n",
       "      <td>1.0</td>\n",
       "      <td>1.0</td>\n",
       "      <td>1.0</td>\n",
       "      <td>0.0</td>\n",
       "      <td>1.0</td>\n",
       "      <td>0.0</td>\n",
       "      <td>1.0</td>\n",
       "      <td>1.0</td>\n",
       "      <td>0.0</td>\n",
       "      <td>1.0</td>\n",
       "      <td>1.0</td>\n",
       "      <td>0.0</td>\n",
       "      <td>0.0</td>\n",
       "      <td>1.0</td>\n",
       "    </tr>\n",
       "    <tr>\n",
       "      <th>2</th>\n",
       "      <td>76.0</td>\n",
       "      <td>1.0</td>\n",
       "      <td>1.0</td>\n",
       "      <td>1.0</td>\n",
       "      <td>1.0</td>\n",
       "      <td>1.0</td>\n",
       "      <td>1.0</td>\n",
       "      <td>0.0</td>\n",
       "      <td>1.0</td>\n",
       "      <td>0.0</td>\n",
       "      <td>1.0</td>\n",
       "      <td>1.0</td>\n",
       "      <td>0.0</td>\n",
       "      <td>0.0</td>\n",
       "      <td>1.0</td>\n",
       "      <td>1.0</td>\n",
       "      <td>0.0</td>\n",
       "    </tr>\n",
       "    <tr>\n",
       "      <th>3</th>\n",
       "      <td>100.0</td>\n",
       "      <td>1.0</td>\n",
       "      <td>1.0</td>\n",
       "      <td>1.0</td>\n",
       "      <td>1.0</td>\n",
       "      <td>1.0</td>\n",
       "      <td>1.0</td>\n",
       "      <td>0.0</td>\n",
       "      <td>1.0</td>\n",
       "      <td>0.0</td>\n",
       "      <td>1.0</td>\n",
       "      <td>1.0</td>\n",
       "      <td>0.0</td>\n",
       "      <td>0.0</td>\n",
       "      <td>1.0</td>\n",
       "      <td>1.0</td>\n",
       "      <td>0.0</td>\n",
       "    </tr>\n",
       "    <tr>\n",
       "      <th>4</th>\n",
       "      <td>86.0</td>\n",
       "      <td>1.0</td>\n",
       "      <td>1.0</td>\n",
       "      <td>1.0</td>\n",
       "      <td>1.0</td>\n",
       "      <td>1.0</td>\n",
       "      <td>1.0</td>\n",
       "      <td>0.0</td>\n",
       "      <td>1.0</td>\n",
       "      <td>0.0</td>\n",
       "      <td>1.0</td>\n",
       "      <td>1.0</td>\n",
       "      <td>0.0</td>\n",
       "      <td>0.0</td>\n",
       "      <td>1.0</td>\n",
       "      <td>1.0</td>\n",
       "      <td>0.0</td>\n",
       "    </tr>\n",
       "    <tr>\n",
       "      <th>...</th>\n",
       "      <td>...</td>\n",
       "      <td>...</td>\n",
       "      <td>...</td>\n",
       "      <td>...</td>\n",
       "      <td>...</td>\n",
       "      <td>...</td>\n",
       "      <td>...</td>\n",
       "      <td>...</td>\n",
       "      <td>...</td>\n",
       "      <td>...</td>\n",
       "      <td>...</td>\n",
       "      <td>...</td>\n",
       "      <td>...</td>\n",
       "      <td>...</td>\n",
       "      <td>...</td>\n",
       "      <td>...</td>\n",
       "      <td>...</td>\n",
       "    </tr>\n",
       "    <tr>\n",
       "      <th>92</th>\n",
       "      <td>100.0</td>\n",
       "      <td>1.0</td>\n",
       "      <td>1.0</td>\n",
       "      <td>1.0</td>\n",
       "      <td>1.0</td>\n",
       "      <td>1.0</td>\n",
       "      <td>1.0</td>\n",
       "      <td>0.0</td>\n",
       "      <td>1.0</td>\n",
       "      <td>0.0</td>\n",
       "      <td>1.0</td>\n",
       "      <td>1.0</td>\n",
       "      <td>0.0</td>\n",
       "      <td>0.0</td>\n",
       "      <td>1.0</td>\n",
       "      <td>1.0</td>\n",
       "      <td>0.0</td>\n",
       "    </tr>\n",
       "    <tr>\n",
       "      <th>93</th>\n",
       "      <td>101.0</td>\n",
       "      <td>1.0</td>\n",
       "      <td>1.0</td>\n",
       "      <td>1.0</td>\n",
       "      <td>1.0</td>\n",
       "      <td>1.0</td>\n",
       "      <td>1.0</td>\n",
       "      <td>0.0</td>\n",
       "      <td>1.0</td>\n",
       "      <td>0.0</td>\n",
       "      <td>1.0</td>\n",
       "      <td>1.0</td>\n",
       "      <td>0.0</td>\n",
       "      <td>0.0</td>\n",
       "      <td>1.0</td>\n",
       "      <td>1.0</td>\n",
       "      <td>0.0</td>\n",
       "    </tr>\n",
       "    <tr>\n",
       "      <th>94</th>\n",
       "      <td>78.0</td>\n",
       "      <td>1.0</td>\n",
       "      <td>1.0</td>\n",
       "      <td>1.0</td>\n",
       "      <td>1.0</td>\n",
       "      <td>1.0</td>\n",
       "      <td>0.0</td>\n",
       "      <td>1.0</td>\n",
       "      <td>0.0</td>\n",
       "      <td>1.0</td>\n",
       "      <td>1.0</td>\n",
       "      <td>0.0</td>\n",
       "      <td>1.0</td>\n",
       "      <td>1.0</td>\n",
       "      <td>0.0</td>\n",
       "      <td>0.0</td>\n",
       "      <td>1.0</td>\n",
       "    </tr>\n",
       "    <tr>\n",
       "      <th>95</th>\n",
       "      <td>104.0</td>\n",
       "      <td>1.0</td>\n",
       "      <td>1.0</td>\n",
       "      <td>1.0</td>\n",
       "      <td>1.0</td>\n",
       "      <td>1.0</td>\n",
       "      <td>0.0</td>\n",
       "      <td>1.0</td>\n",
       "      <td>0.0</td>\n",
       "      <td>1.0</td>\n",
       "      <td>1.0</td>\n",
       "      <td>0.0</td>\n",
       "      <td>1.0</td>\n",
       "      <td>1.0</td>\n",
       "      <td>0.0</td>\n",
       "      <td>0.0</td>\n",
       "      <td>1.0</td>\n",
       "    </tr>\n",
       "    <tr>\n",
       "      <th>96</th>\n",
       "      <td>73.0</td>\n",
       "      <td>1.0</td>\n",
       "      <td>1.0</td>\n",
       "      <td>1.0</td>\n",
       "      <td>1.0</td>\n",
       "      <td>1.0</td>\n",
       "      <td>1.0</td>\n",
       "      <td>0.0</td>\n",
       "      <td>1.0</td>\n",
       "      <td>0.0</td>\n",
       "      <td>1.0</td>\n",
       "      <td>1.0</td>\n",
       "      <td>0.0</td>\n",
       "      <td>0.0</td>\n",
       "      <td>1.0</td>\n",
       "      <td>1.0</td>\n",
       "      <td>0.0</td>\n",
       "    </tr>\n",
       "  </tbody>\n",
       "</table>\n",
       "<p>97 rows × 17 columns</p>\n",
       "</div>"
      ],
      "text/plain": [
       "    fork_length_mm  watershed_englishman  river_shelly creek  \\\n",
       "0            113.0                   1.0                 1.0   \n",
       "1             81.0                   1.0                 1.0   \n",
       "2             76.0                   1.0                 1.0   \n",
       "3            100.0                   1.0                 1.0   \n",
       "4             86.0                   1.0                 1.0   \n",
       "..             ...                   ...                 ...   \n",
       "92           100.0                   1.0                 1.0   \n",
       "93           101.0                   1.0                 1.0   \n",
       "94            78.0                   1.0                 1.0   \n",
       "95           104.0                   1.0                 1.0   \n",
       "96            73.0                   1.0                 1.0   \n",
       "\n",
       "    site_martindale rd  method_smolt trap  local_in-river  eye_size_large  \\\n",
       "0                  1.0                1.0             1.0             1.0   \n",
       "1                  1.0                1.0             1.0             0.0   \n",
       "2                  1.0                1.0             1.0             1.0   \n",
       "3                  1.0                1.0             1.0             1.0   \n",
       "4                  1.0                1.0             1.0             1.0   \n",
       "..                 ...                ...             ...             ...   \n",
       "92                 1.0                1.0             1.0             1.0   \n",
       "93                 1.0                1.0             1.0             1.0   \n",
       "94                 1.0                1.0             1.0             0.0   \n",
       "95                 1.0                1.0             1.0             0.0   \n",
       "96                 1.0                1.0             1.0             1.0   \n",
       "\n",
       "    eye_size_small  snout_shape_short and blunt  \\\n",
       "0              0.0                          1.0   \n",
       "1              1.0                          0.0   \n",
       "2              0.0                          1.0   \n",
       "3              0.0                          1.0   \n",
       "4              0.0                          1.0   \n",
       "..             ...                          ...   \n",
       "92             0.0                          1.0   \n",
       "93             0.0                          1.0   \n",
       "94             1.0                          0.0   \n",
       "95             1.0                          0.0   \n",
       "96             0.0                          1.0   \n",
       "\n",
       "    snout_shape_short and rounded  parr_marks_slightly faded  \\\n",
       "0                             0.0                        1.0   \n",
       "1                             1.0                        1.0   \n",
       "2                             0.0                        1.0   \n",
       "3                             0.0                        1.0   \n",
       "4                             0.0                        1.0   \n",
       "..                            ...                        ...   \n",
       "92                            0.0                        1.0   \n",
       "93                            0.0                        1.0   \n",
       "94                            1.0                        1.0   \n",
       "95                            1.0                        1.0   \n",
       "96                            0.0                        1.0   \n",
       "\n",
       "    parr_marks_length_long  parr_marks_length_short  spotting_density_high  \\\n",
       "0                      1.0                      0.0                    0.0   \n",
       "1                      0.0                      1.0                    1.0   \n",
       "2                      1.0                      0.0                    0.0   \n",
       "3                      1.0                      0.0                    0.0   \n",
       "4                      1.0                      0.0                    0.0   \n",
       "..                     ...                      ...                    ...   \n",
       "92                     1.0                      0.0                    0.0   \n",
       "93                     1.0                      0.0                    0.0   \n",
       "94                     0.0                      1.0                    1.0   \n",
       "95                     0.0                      1.0                    1.0   \n",
       "96                     1.0                      0.0                    0.0   \n",
       "\n",
       "    spotting_density_medium  fin_type_anal fin  fin_type_caudal fin  \n",
       "0                       1.0                1.0                  0.0  \n",
       "1                       0.0                0.0                  1.0  \n",
       "2                       1.0                1.0                  0.0  \n",
       "3                       1.0                1.0                  0.0  \n",
       "4                       1.0                1.0                  0.0  \n",
       "..                      ...                ...                  ...  \n",
       "92                      1.0                1.0                  0.0  \n",
       "93                      1.0                1.0                  0.0  \n",
       "94                      0.0                0.0                  1.0  \n",
       "95                      0.0                0.0                  1.0  \n",
       "96                      1.0                1.0                  0.0  \n",
       "\n",
       "[97 rows x 17 columns]"
      ]
     },
     "execution_count": 41,
     "metadata": {},
     "output_type": "execute_result"
    }
   ],
   "source": [
    "X_transformed"
   ]
  },
  {
   "cell_type": "markdown",
   "metadata": {},
   "source": [
    "### Dummy model (Baseline)"
   ]
  },
  {
   "cell_type": "code",
   "execution_count": 42,
   "metadata": {},
   "outputs": [
    {
     "data": {
      "text/plain": [
       "0.8247422680412371"
      ]
     },
     "execution_count": 42,
     "metadata": {},
     "output_type": "execute_result"
    }
   ],
   "source": [
    "dummy_clf = DummyClassifier(strategy=\"most_frequent\")\n",
    "dummy_clf.fit(X_transformed, y)\n",
    "dummy_clf.score(X_transformed, y)"
   ]
  },
  {
   "cell_type": "markdown",
   "metadata": {},
   "source": [
    "### Decision Tree"
   ]
  },
  {
   "cell_type": "code",
   "execution_count": 43,
   "metadata": {},
   "outputs": [],
   "source": [
    "X_train, X_test, y_train, y_test = train_test_split(X_transformed, y, test_size=0.2, random_state=42)"
   ]
  },
  {
   "cell_type": "code",
   "execution_count": 44,
   "metadata": {},
   "outputs": [
    {
     "name": "stdout",
     "output_type": "stream",
     "text": [
      "Best parameters:  {'max_depth': 7, 'min_samples_leaf': 4, 'min_samples_split': 6}\n",
      "Best Score:  1.0\n"
     ]
    }
   ],
   "source": [
    "from sklearn.model_selection import RandomizedSearchCV\n",
    "from scipy.stats import randint\n",
    "\n",
    "param_dist = {\n",
    "    'max_depth': randint(1, 10), #Change to 20 when the dataset is bigger, 20 overfits currently\n",
    "    'min_samples_split': randint(2, 10),\n",
    "    'min_samples_leaf': randint(1, 10)\n",
    "}\n",
    "\n",
    "random_search = RandomizedSearchCV(DecisionTreeClassifier(), \n",
    "                                   param_distributions=param_dist, \n",
    "                                   n_iter=100, cv=5, random_state=42)\n",
    "random_search.fit(X_train, y_train)\n",
    "\n",
    "print(\"Best parameters: \", random_search.best_params_)\n",
    "print(\"Best Score: \", random_search.best_score_)"
   ]
  },
  {
   "cell_type": "code",
   "execution_count": 45,
   "metadata": {},
   "outputs": [
    {
     "name": "stdout",
     "output_type": "stream",
     "text": [
      "Train accuracy: 1.0\n"
     ]
    }
   ],
   "source": [
    "decision_tree = DecisionTreeClassifier(\n",
    "    max_depth = random_search.best_params_[\"max_depth\"],\n",
    "    min_samples_split = random_search.best_params_[\"min_samples_split\"],\n",
    "    min_samples_leaf = random_search.best_params_[\"min_samples_leaf\"],\n",
    "    random_state = 42)\n",
    "\n",
    "decision_tree.fit(X_train, y_train)\n",
    "print(\"Train accuracy:\", decision_tree.score(X_train, y_train))"
   ]
  },
  {
   "cell_type": "code",
   "execution_count": 46,
   "metadata": {},
   "outputs": [
    {
     "data": {
      "text/html": [
       "<style>#sk-container-id-1 {color: black;background-color: white;}#sk-container-id-1 pre{padding: 0;}#sk-container-id-1 div.sk-toggleable {background-color: white;}#sk-container-id-1 label.sk-toggleable__label {cursor: pointer;display: block;width: 100%;margin-bottom: 0;padding: 0.3em;box-sizing: border-box;text-align: center;}#sk-container-id-1 label.sk-toggleable__label-arrow:before {content: \"▸\";float: left;margin-right: 0.25em;color: #696969;}#sk-container-id-1 label.sk-toggleable__label-arrow:hover:before {color: black;}#sk-container-id-1 div.sk-estimator:hover label.sk-toggleable__label-arrow:before {color: black;}#sk-container-id-1 div.sk-toggleable__content {max-height: 0;max-width: 0;overflow: hidden;text-align: left;background-color: #f0f8ff;}#sk-container-id-1 div.sk-toggleable__content pre {margin: 0.2em;color: black;border-radius: 0.25em;background-color: #f0f8ff;}#sk-container-id-1 input.sk-toggleable__control:checked~div.sk-toggleable__content {max-height: 200px;max-width: 100%;overflow: auto;}#sk-container-id-1 input.sk-toggleable__control:checked~label.sk-toggleable__label-arrow:before {content: \"▾\";}#sk-container-id-1 div.sk-estimator input.sk-toggleable__control:checked~label.sk-toggleable__label {background-color: #d4ebff;}#sk-container-id-1 div.sk-label input.sk-toggleable__control:checked~label.sk-toggleable__label {background-color: #d4ebff;}#sk-container-id-1 input.sk-hidden--visually {border: 0;clip: rect(1px 1px 1px 1px);clip: rect(1px, 1px, 1px, 1px);height: 1px;margin: -1px;overflow: hidden;padding: 0;position: absolute;width: 1px;}#sk-container-id-1 div.sk-estimator {font-family: monospace;background-color: #f0f8ff;border: 1px dotted black;border-radius: 0.25em;box-sizing: border-box;margin-bottom: 0.5em;}#sk-container-id-1 div.sk-estimator:hover {background-color: #d4ebff;}#sk-container-id-1 div.sk-parallel-item::after {content: \"\";width: 100%;border-bottom: 1px solid gray;flex-grow: 1;}#sk-container-id-1 div.sk-label:hover label.sk-toggleable__label {background-color: #d4ebff;}#sk-container-id-1 div.sk-serial::before {content: \"\";position: absolute;border-left: 1px solid gray;box-sizing: border-box;top: 0;bottom: 0;left: 50%;z-index: 0;}#sk-container-id-1 div.sk-serial {display: flex;flex-direction: column;align-items: center;background-color: white;padding-right: 0.2em;padding-left: 0.2em;position: relative;}#sk-container-id-1 div.sk-item {position: relative;z-index: 1;}#sk-container-id-1 div.sk-parallel {display: flex;align-items: stretch;justify-content: center;background-color: white;position: relative;}#sk-container-id-1 div.sk-item::before, #sk-container-id-1 div.sk-parallel-item::before {content: \"\";position: absolute;border-left: 1px solid gray;box-sizing: border-box;top: 0;bottom: 0;left: 50%;z-index: -1;}#sk-container-id-1 div.sk-parallel-item {display: flex;flex-direction: column;z-index: 1;position: relative;background-color: white;}#sk-container-id-1 div.sk-parallel-item:first-child::after {align-self: flex-end;width: 50%;}#sk-container-id-1 div.sk-parallel-item:last-child::after {align-self: flex-start;width: 50%;}#sk-container-id-1 div.sk-parallel-item:only-child::after {width: 0;}#sk-container-id-1 div.sk-dashed-wrapped {border: 1px dashed gray;margin: 0 0.4em 0.5em 0.4em;box-sizing: border-box;padding-bottom: 0.4em;background-color: white;}#sk-container-id-1 div.sk-label label {font-family: monospace;font-weight: bold;display: inline-block;line-height: 1.2em;}#sk-container-id-1 div.sk-label-container {text-align: center;}#sk-container-id-1 div.sk-container {/* jupyter's `normalize.less` sets `[hidden] { display: none; }` but bootstrap.min.css set `[hidden] { display: none !important; }` so we also need the `!important` here to be able to override the default hidden behavior on the sphinx rendered scikit-learn.org. See: https://github.com/scikit-learn/scikit-learn/issues/21755 */display: inline-block !important;position: relative;}#sk-container-id-1 div.sk-text-repr-fallback {display: none;}</style><div id=\"sk-container-id-1\" class=\"sk-top-container\"><div class=\"sk-text-repr-fallback\"><pre>DecisionTreeClassifier(max_depth=7, min_samples_leaf=4, min_samples_split=6,\n",
       "                       random_state=42)</pre><b>In a Jupyter environment, please rerun this cell to show the HTML representation or trust the notebook. <br />On GitHub, the HTML representation is unable to render, please try loading this page with nbviewer.org.</b></div><div class=\"sk-container\" hidden><div class=\"sk-item\"><div class=\"sk-estimator sk-toggleable\"><input class=\"sk-toggleable__control sk-hidden--visually\" id=\"sk-estimator-id-1\" type=\"checkbox\" checked><label for=\"sk-estimator-id-1\" class=\"sk-toggleable__label sk-toggleable__label-arrow\">DecisionTreeClassifier</label><div class=\"sk-toggleable__content\"><pre>DecisionTreeClassifier(max_depth=7, min_samples_leaf=4, min_samples_split=6,\n",
       "                       random_state=42)</pre></div></div></div></div></div>"
      ],
      "text/plain": [
       "DecisionTreeClassifier(max_depth=7, min_samples_leaf=4, min_samples_split=6,\n",
       "                       random_state=42)"
      ]
     },
     "execution_count": 46,
     "metadata": {},
     "output_type": "execute_result"
    }
   ],
   "source": [
    "decision_tree"
   ]
  },
  {
   "cell_type": "code",
   "execution_count": 47,
   "metadata": {},
   "outputs": [
    {
     "ename": "InvocationException",
     "evalue": "GraphViz's executables not found",
     "output_type": "error",
     "traceback": [
      "\u001b[1;31m---------------------------------------------------------------------------\u001b[0m",
      "\u001b[1;31mInvocationException\u001b[0m                       Traceback (most recent call last)",
      "\u001b[1;32m~\\AppData\\Local\\Temp/ipykernel_14020/2281867391.py\u001b[0m in \u001b[0;36m<module>\u001b[1;34m\u001b[0m\n\u001b[0;32m      6\u001b[0m                 class_names = [\"co\", \"rbt\"], max_depth = 7)\n\u001b[0;32m      7\u001b[0m \u001b[0mgraph\u001b[0m \u001b[1;33m=\u001b[0m \u001b[0mpydotplus\u001b[0m\u001b[1;33m.\u001b[0m\u001b[0mgraph_from_dot_data\u001b[0m\u001b[1;33m(\u001b[0m\u001b[0mdot_data\u001b[0m\u001b[1;33m.\u001b[0m\u001b[0mgetvalue\u001b[0m\u001b[1;33m(\u001b[0m\u001b[1;33m)\u001b[0m\u001b[1;33m)\u001b[0m\u001b[1;33m\u001b[0m\u001b[1;33m\u001b[0m\u001b[0m\n\u001b[1;32m----> 8\u001b[1;33m \u001b[0mgraph\u001b[0m\u001b[1;33m.\u001b[0m\u001b[0mwrite_png\u001b[0m\u001b[1;33m(\u001b[0m\u001b[1;34m\"Decision_tree.png\"\u001b[0m\u001b[1;33m)\u001b[0m\u001b[1;33m\u001b[0m\u001b[1;33m\u001b[0m\u001b[0m\n\u001b[0m\u001b[0;32m      9\u001b[0m \u001b[0mImage\u001b[0m\u001b[1;33m(\u001b[0m\u001b[0mgraph\u001b[0m\u001b[1;33m.\u001b[0m\u001b[0mcreate_png\u001b[0m\u001b[1;33m(\u001b[0m\u001b[1;33m)\u001b[0m\u001b[1;33m)\u001b[0m\u001b[1;33m\u001b[0m\u001b[1;33m\u001b[0m\u001b[0m\n",
      "\u001b[1;32mc:\\Users\\hp\\anaconda3\\lib\\site-packages\\pydotplus\\graphviz.py\u001b[0m in \u001b[0;36m<lambda>\u001b[1;34m(path, f, prog)\u001b[0m\n\u001b[0;32m   1808\u001b[0m                 \u001b[1;32mlambda\u001b[0m \u001b[0mpath\u001b[0m\u001b[1;33m,\u001b[0m\u001b[1;33m\u001b[0m\u001b[1;33m\u001b[0m\u001b[0m\n\u001b[0;32m   1809\u001b[0m                 \u001b[0mf\u001b[0m\u001b[1;33m=\u001b[0m\u001b[0mfrmt\u001b[0m\u001b[1;33m,\u001b[0m\u001b[1;33m\u001b[0m\u001b[1;33m\u001b[0m\u001b[0m\n\u001b[1;32m-> 1810\u001b[1;33m                 \u001b[0mprog\u001b[0m\u001b[1;33m=\u001b[0m\u001b[0mself\u001b[0m\u001b[1;33m.\u001b[0m\u001b[0mprog\u001b[0m\u001b[1;33m:\u001b[0m \u001b[0mself\u001b[0m\u001b[1;33m.\u001b[0m\u001b[0mwrite\u001b[0m\u001b[1;33m(\u001b[0m\u001b[0mpath\u001b[0m\u001b[1;33m,\u001b[0m \u001b[0mformat\u001b[0m\u001b[1;33m=\u001b[0m\u001b[0mf\u001b[0m\u001b[1;33m,\u001b[0m \u001b[0mprog\u001b[0m\u001b[1;33m=\u001b[0m\u001b[0mprog\u001b[0m\u001b[1;33m)\u001b[0m\u001b[1;33m\u001b[0m\u001b[1;33m\u001b[0m\u001b[0m\n\u001b[0m\u001b[0;32m   1811\u001b[0m             )\n\u001b[0;32m   1812\u001b[0m \u001b[1;33m\u001b[0m\u001b[0m\n",
      "\u001b[1;32mc:\\Users\\hp\\anaconda3\\lib\\site-packages\\pydotplus\\graphviz.py\u001b[0m in \u001b[0;36mwrite\u001b[1;34m(self, path, prog, format)\u001b[0m\n\u001b[0;32m   1916\u001b[0m \u001b[1;33m\u001b[0m\u001b[0m\n\u001b[0;32m   1917\u001b[0m             \u001b[1;32melse\u001b[0m\u001b[1;33m:\u001b[0m\u001b[1;33m\u001b[0m\u001b[1;33m\u001b[0m\u001b[0m\n\u001b[1;32m-> 1918\u001b[1;33m                 \u001b[0mfobj\u001b[0m\u001b[1;33m.\u001b[0m\u001b[0mwrite\u001b[0m\u001b[1;33m(\u001b[0m\u001b[0mself\u001b[0m\u001b[1;33m.\u001b[0m\u001b[0mcreate\u001b[0m\u001b[1;33m(\u001b[0m\u001b[0mprog\u001b[0m\u001b[1;33m,\u001b[0m \u001b[0mformat\u001b[0m\u001b[1;33m)\u001b[0m\u001b[1;33m)\u001b[0m\u001b[1;33m\u001b[0m\u001b[1;33m\u001b[0m\u001b[0m\n\u001b[0m\u001b[0;32m   1919\u001b[0m         \u001b[1;32mfinally\u001b[0m\u001b[1;33m:\u001b[0m\u001b[1;33m\u001b[0m\u001b[1;33m\u001b[0m\u001b[0m\n\u001b[0;32m   1920\u001b[0m             \u001b[1;32mif\u001b[0m \u001b[0mclose\u001b[0m\u001b[1;33m:\u001b[0m\u001b[1;33m\u001b[0m\u001b[1;33m\u001b[0m\u001b[0m\n",
      "\u001b[1;32mc:\\Users\\hp\\anaconda3\\lib\\site-packages\\pydotplus\\graphviz.py\u001b[0m in \u001b[0;36mcreate\u001b[1;34m(self, prog, format)\u001b[0m\n\u001b[0;32m   1957\u001b[0m             \u001b[0mself\u001b[0m\u001b[1;33m.\u001b[0m\u001b[0mprogs\u001b[0m \u001b[1;33m=\u001b[0m \u001b[0mfind_graphviz\u001b[0m\u001b[1;33m(\u001b[0m\u001b[1;33m)\u001b[0m\u001b[1;33m\u001b[0m\u001b[1;33m\u001b[0m\u001b[0m\n\u001b[0;32m   1958\u001b[0m             \u001b[1;32mif\u001b[0m \u001b[0mself\u001b[0m\u001b[1;33m.\u001b[0m\u001b[0mprogs\u001b[0m \u001b[1;32mis\u001b[0m \u001b[1;32mNone\u001b[0m\u001b[1;33m:\u001b[0m\u001b[1;33m\u001b[0m\u001b[1;33m\u001b[0m\u001b[0m\n\u001b[1;32m-> 1959\u001b[1;33m                 raise InvocationException(\n\u001b[0m\u001b[0;32m   1960\u001b[0m                     'GraphViz\\'s executables not found')\n\u001b[0;32m   1961\u001b[0m \u001b[1;33m\u001b[0m\u001b[0m\n",
      "\u001b[1;31mInvocationException\u001b[0m: GraphViz's executables not found"
     ]
    }
   ],
   "source": [
    "dot_data = StringIO()\n",
    "export_graphviz(decision_tree, out_file = dot_data, filled = True, \n",
    "                rounded = True, \n",
    "                special_characters = True,\n",
    "                feature_names = column_names,\n",
    "                class_names = [\"co\", \"rbt\"], max_depth = 7)\n",
    "graph = pydotplus.graph_from_dot_data(dot_data.getvalue())  \n",
    "graph.write_png(\"Decision_tree.png\")\n",
    "Image(graph.create_png())"
   ]
  },
  {
   "cell_type": "code",
   "execution_count": 48,
   "metadata": {},
   "outputs": [
    {
     "name": "stdout",
     "output_type": "stream",
     "text": [
      "Test score:  1.0\n"
     ]
    }
   ],
   "source": [
    "print(\"Test score: \", decision_tree.score(X_test, y_test))"
   ]
  },
  {
   "cell_type": "code",
   "execution_count": 49,
   "metadata": {},
   "outputs": [],
   "source": [
    "y_pred = decision_tree.predict(X_test)"
   ]
  },
  {
   "cell_type": "code",
   "execution_count": 50,
   "metadata": {},
   "outputs": [
    {
     "data": {
      "text/plain": [
       "array(['co', 'co', 'co', 'co', 'co', 'co', 'rbt', 'co', 'co', 'co', 'co',\n",
       "       'co', 'co', 'co', 'co', 'co', 'co', 'rbt', 'co', 'co'],\n",
       "      dtype=object)"
      ]
     },
     "execution_count": 50,
     "metadata": {},
     "output_type": "execute_result"
    }
   ],
   "source": [
    "y_pred"
   ]
  }
 ],
 "metadata": {
  "kernelspec": {
   "display_name": "Python 3 (ipykernel)",
   "language": "python",
   "name": "python3"
  },
  "language_info": {
   "codemirror_mode": {
    "name": "ipython",
    "version": 3
   },
   "file_extension": ".py",
   "mimetype": "text/x-python",
   "name": "python",
   "nbconvert_exporter": "python",
   "pygments_lexer": "ipython3",
   "version": "3.9.7"
  }
 },
 "nbformat": 4,
 "nbformat_minor": 4
}
