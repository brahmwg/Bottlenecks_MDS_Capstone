{
 "cells": [
  {
   "cell_type": "code",
   "execution_count": 1,
   "id": "5ebbcebb-32a8-4f5c-a9fb-490ee7398132",
   "metadata": {},
   "outputs": [],
   "source": [
    "import pandas as pd\n",
    "import numpy as np"
   ]
  },
  {
   "cell_type": "code",
   "execution_count": 2,
   "id": "88ea8b28-7233-4035-bc7c-d2708c0e896c",
   "metadata": {},
   "outputs": [],
   "source": [
    "det_table = {\n",
    "    \"species\": [\"ck\", \"co\", \"cm\", \"pink\", \"so\", \"stl\", \"ct\", \"rbt\"],\n",
    "    \"eye_size\": [\"large\", \"large\", \"medium\", \"medium\", \"very large\", \"small\", \"small\", \"small\"],\n",
    "    \"snout_shape\": [\"pointy\", \"short and blunt\", \"NA\", \"NA\", \"NA\", \"short and rounded\", \"long and pointy\", \"short and rounded\"],\n",
    "    \"parr_marks\": [\"slightly faded\", \"slightly faded\", \"faded\", \"NA\", \"slightly faded\", \"faded\", \"faded\", \"NA\"],\n",
    "    \"parr_marks_length\": [\"long\", \"long\", \"short\", \"NA\", \"irregular\", \"short\", \"short\", \"short\"],\n",
    "    \"spotting_density\": [\"medium\", \"medium\", \"medium\", \"NA\", \"NA\", \"high\", \"high\", \"high\"],\n",
    "    \"fin_type\": [\"anal fin\", \"anal fin\", \"caudal fin\", \"caudal fin\", \"caudal fin\", \"caudal fin\", \"caudal fin\", \"caudal fin\"],\n",
    "    \"parr_marks_spacing\": [\"wider than interspaces\", \"narrower than interspaces\", \"NA\", \"half\", \"variable\", \"variable\", \"variable\", \"NA\"],\n",
    "    \"spotting_characteristic\": [\"circle\", \"circle\", \"variable\", \"NA\", \"row\", \"irregular\", \"irregular\", \"NA\"]\n",
    "}\n",
    "\n",
    "\n",
    "unique = pd.DataFrame(det_table)"
   ]
  },
  {
   "cell_type": "code",
   "execution_count": 3,
   "id": "ae68ab90-c2fe-44d4-bb2a-4bd176e75df7",
   "metadata": {},
   "outputs": [],
   "source": [
    "uniques = unique.sample(10000, replace=True)"
   ]
  },
  {
   "cell_type": "code",
   "execution_count": 4,
   "id": "984e1927-7954-4ae5-9486-9e820340433a",
   "metadata": {},
   "outputs": [],
   "source": [
    "def one_hot_encoding(df,col,prefix):\n",
    "  df = df.copy()\n",
    "  dummies = pd.get_dummies(df[col],prefix=col,dtype='int')\n",
    "  df = pd.concat([df,dummies],axis=1)\n",
    "  df = df.drop(col,axis=1)\n",
    "\n",
    "  return df"
   ]
  },
  {
   "cell_type": "code",
   "execution_count": 5,
   "id": "c34a56aa-1728-4329-8b35-1d1a76271e4f",
   "metadata": {},
   "outputs": [],
   "source": [
    "for col in uniques.columns:\n",
    "  if col != 'species':\n",
    "    uniques = one_hot_encoding(uniques,col,col)"
   ]
  },
  {
   "cell_type": "code",
   "execution_count": null,
   "id": "a8364319-7f49-41bf-addf-4081a8372df7",
   "metadata": {},
   "outputs": [],
   "source": []
  }
 ],
 "metadata": {
  "kernelspec": {
   "display_name": "Python [conda env:mds_bottleneck]",
   "language": "python",
   "name": "conda-env-mds_bottleneck-py"
  },
  "language_info": {
   "codemirror_mode": {
    "name": "ipython",
    "version": 3
   },
   "file_extension": ".py",
   "mimetype": "text/x-python",
   "name": "python",
   "nbconvert_exporter": "python",
   "pygments_lexer": "ipython3",
   "version": "3.12.3"
  }
 },
 "nbformat": 4,
 "nbformat_minor": 5
}
