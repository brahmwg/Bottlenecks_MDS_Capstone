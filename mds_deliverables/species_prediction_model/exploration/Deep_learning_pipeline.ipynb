{
 "cells": [
  {
   "cell_type": "markdown",
   "metadata": {},
   "source": [
    "# SPECIES PREDICTION MODEL PIPELINE (Deep Learning)"
   ]
  },
  {
   "cell_type": "markdown",
   "metadata": {},
   "source": [
    "## Imports"
   ]
  },
  {
   "cell_type": "code",
   "execution_count": 1,
   "metadata": {},
   "outputs": [],
   "source": [
    "import numpy as np \n",
    "import pandas as pd\n",
    "import matplotlib.pyplot as plt\n",
    "import seaborn as sns\n",
    "\n",
    "from sklearn.compose import make_column_transformer\n",
    "from sklearn.preprocessing import (\n",
    "    MinMaxScaler,\n",
    "    OneHotEncoder,\n",
    "    OrdinalEncoder,\n",
    "    StandardScaler,\n",
    "    LabelEncoder\n",
    ")\n",
    "\n",
    "from sklearn.model_selection import train_test_split\n",
    "from sklearn.dummy import DummyClassifier\n",
    "\n",
    "import tensorflow as tf\n",
    "from tensorflow.keras import layers\n",
    "from tensorflow.keras.optimizers import Adam"
   ]
  },
  {
   "cell_type": "code",
   "execution_count": 2,
   "metadata": {},
   "outputs": [
    {
     "data": {
      "text/html": [
       "<div>\n",
       "<style scoped>\n",
       "    .dataframe tbody tr th:only-of-type {\n",
       "        vertical-align: middle;\n",
       "    }\n",
       "\n",
       "    .dataframe tbody tr th {\n",
       "        vertical-align: top;\n",
       "    }\n",
       "\n",
       "    .dataframe thead th {\n",
       "        text-align: right;\n",
       "    }\n",
       "</style>\n",
       "<table border=\"1\" class=\"dataframe\">\n",
       "  <thead>\n",
       "    <tr style=\"text-align: right;\">\n",
       "      <th></th>\n",
       "      <th>watershed</th>\n",
       "      <th>river</th>\n",
       "      <th>site</th>\n",
       "      <th>method</th>\n",
       "      <th>local</th>\n",
       "      <th>water_temp_start</th>\n",
       "      <th>fork_length_mm</th>\n",
       "      <th>species</th>\n",
       "    </tr>\n",
       "  </thead>\n",
       "  <tbody>\n",
       "    <tr>\n",
       "      <th>0</th>\n",
       "      <td>englishman</td>\n",
       "      <td>center creek</td>\n",
       "      <td>center creek</td>\n",
       "      <td>smolt trap</td>\n",
       "      <td>in-river</td>\n",
       "      <td>10.2</td>\n",
       "      <td>85.0</td>\n",
       "      <td>co</td>\n",
       "    </tr>\n",
       "    <tr>\n",
       "      <th>1</th>\n",
       "      <td>englishman</td>\n",
       "      <td>center creek</td>\n",
       "      <td>center creek</td>\n",
       "      <td>smolt trap</td>\n",
       "      <td>in-river</td>\n",
       "      <td>10.2</td>\n",
       "      <td>85.0</td>\n",
       "      <td>co</td>\n",
       "    </tr>\n",
       "    <tr>\n",
       "      <th>2</th>\n",
       "      <td>englishman</td>\n",
       "      <td>center creek</td>\n",
       "      <td>center creek</td>\n",
       "      <td>smolt trap</td>\n",
       "      <td>in-river</td>\n",
       "      <td>10.2</td>\n",
       "      <td>85.0</td>\n",
       "      <td>co</td>\n",
       "    </tr>\n",
       "    <tr>\n",
       "      <th>3</th>\n",
       "      <td>englishman</td>\n",
       "      <td>center creek</td>\n",
       "      <td>center creek</td>\n",
       "      <td>smolt trap</td>\n",
       "      <td>in-river</td>\n",
       "      <td>10.2</td>\n",
       "      <td>86.0</td>\n",
       "      <td>co</td>\n",
       "    </tr>\n",
       "    <tr>\n",
       "      <th>4</th>\n",
       "      <td>englishman</td>\n",
       "      <td>center creek</td>\n",
       "      <td>center creek</td>\n",
       "      <td>smolt trap</td>\n",
       "      <td>in-river</td>\n",
       "      <td>10.2</td>\n",
       "      <td>87.0</td>\n",
       "      <td>co</td>\n",
       "    </tr>\n",
       "  </tbody>\n",
       "</table>\n",
       "</div>"
      ],
      "text/plain": [
       "    watershed         river          site      method     local  \\\n",
       "0  englishman  center creek  center creek  smolt trap  in-river   \n",
       "1  englishman  center creek  center creek  smolt trap  in-river   \n",
       "2  englishman  center creek  center creek  smolt trap  in-river   \n",
       "3  englishman  center creek  center creek  smolt trap  in-river   \n",
       "4  englishman  center creek  center creek  smolt trap  in-river   \n",
       "\n",
       "   water_temp_start  fork_length_mm species  \n",
       "0              10.2            85.0      co  \n",
       "1              10.2            85.0      co  \n",
       "2              10.2            85.0      co  \n",
       "3              10.2            86.0      co  \n",
       "4              10.2            87.0      co  "
      ]
     },
     "execution_count": 2,
     "metadata": {},
     "output_type": "execute_result"
    }
   ],
   "source": [
    "df = pd.read_csv(\"../species_prediction_model/data/field_big.csv\")\n",
    "df.head()"
   ]
  },
  {
   "cell_type": "code",
   "execution_count": 3,
   "metadata": {},
   "outputs": [
    {
     "data": {
      "text/plain": [
       "watershed               0\n",
       "river                   0\n",
       "site                    0\n",
       "method               2431\n",
       "local                2901\n",
       "water_temp_start    22583\n",
       "fork_length_mm        145\n",
       "species                56\n",
       "dtype: int64"
      ]
     },
     "execution_count": 3,
     "metadata": {},
     "output_type": "execute_result"
    }
   ],
   "source": [
    "df.isnull().sum()"
   ]
  },
  {
   "cell_type": "code",
   "execution_count": 7,
   "metadata": {},
   "outputs": [],
   "source": [
    "df = df.dropna()"
   ]
  },
  {
   "cell_type": "code",
   "execution_count": 8,
   "metadata": {},
   "outputs": [
    {
     "data": {
      "text/plain": [
       "array(['co', 'rbt', 'stl', 'ct', 'bt', 'ck', 'cm'], dtype=object)"
      ]
     },
     "execution_count": 8,
     "metadata": {},
     "output_type": "execute_result"
    }
   ],
   "source": [
    "df.species.unique()"
   ]
  },
  {
   "cell_type": "code",
   "execution_count": 9,
   "metadata": {},
   "outputs": [
    {
     "data": {
      "text/html": [
       "<div>\n",
       "<style scoped>\n",
       "    .dataframe tbody tr th:only-of-type {\n",
       "        vertical-align: middle;\n",
       "    }\n",
       "\n",
       "    .dataframe tbody tr th {\n",
       "        vertical-align: top;\n",
       "    }\n",
       "\n",
       "    .dataframe thead th {\n",
       "        text-align: right;\n",
       "    }\n",
       "</style>\n",
       "<table border=\"1\" class=\"dataframe\">\n",
       "  <thead>\n",
       "    <tr style=\"text-align: right;\">\n",
       "      <th></th>\n",
       "      <th>species</th>\n",
       "      <th>eye_size</th>\n",
       "      <th>snout_shape</th>\n",
       "      <th>parr_marks</th>\n",
       "      <th>parr_marks_length</th>\n",
       "      <th>spotting_density</th>\n",
       "      <th>fin_type</th>\n",
       "    </tr>\n",
       "  </thead>\n",
       "  <tbody>\n",
       "    <tr>\n",
       "      <th>0</th>\n",
       "      <td>ck</td>\n",
       "      <td>large</td>\n",
       "      <td>pointy</td>\n",
       "      <td>slightly faded</td>\n",
       "      <td>long</td>\n",
       "      <td>medium</td>\n",
       "      <td>anal fin</td>\n",
       "    </tr>\n",
       "    <tr>\n",
       "      <th>1</th>\n",
       "      <td>co</td>\n",
       "      <td>large</td>\n",
       "      <td>short and blunt</td>\n",
       "      <td>slightly faded</td>\n",
       "      <td>long</td>\n",
       "      <td>medium</td>\n",
       "      <td>anal fin</td>\n",
       "    </tr>\n",
       "    <tr>\n",
       "      <th>2</th>\n",
       "      <td>cm</td>\n",
       "      <td>medium</td>\n",
       "      <td>NaN</td>\n",
       "      <td>faded</td>\n",
       "      <td>short</td>\n",
       "      <td>medium</td>\n",
       "      <td>caudal fin</td>\n",
       "    </tr>\n",
       "    <tr>\n",
       "      <th>3</th>\n",
       "      <td>pink</td>\n",
       "      <td>medium</td>\n",
       "      <td>NaN</td>\n",
       "      <td>NaN</td>\n",
       "      <td>NaN</td>\n",
       "      <td>NaN</td>\n",
       "      <td>caudal fin</td>\n",
       "    </tr>\n",
       "    <tr>\n",
       "      <th>4</th>\n",
       "      <td>so</td>\n",
       "      <td>very large</td>\n",
       "      <td>NaN</td>\n",
       "      <td>slightly faded</td>\n",
       "      <td>irregular</td>\n",
       "      <td>NaN</td>\n",
       "      <td>caudal fin</td>\n",
       "    </tr>\n",
       "    <tr>\n",
       "      <th>5</th>\n",
       "      <td>stl</td>\n",
       "      <td>small</td>\n",
       "      <td>short and rounded</td>\n",
       "      <td>faded</td>\n",
       "      <td>short</td>\n",
       "      <td>high</td>\n",
       "      <td>caudal fin</td>\n",
       "    </tr>\n",
       "    <tr>\n",
       "      <th>6</th>\n",
       "      <td>ct</td>\n",
       "      <td>small</td>\n",
       "      <td>long and pointy</td>\n",
       "      <td>faded</td>\n",
       "      <td>short</td>\n",
       "      <td>high</td>\n",
       "      <td>caudal fin</td>\n",
       "    </tr>\n",
       "    <tr>\n",
       "      <th>7</th>\n",
       "      <td>rbt</td>\n",
       "      <td>small</td>\n",
       "      <td>short and rounded</td>\n",
       "      <td>NaN</td>\n",
       "      <td>short</td>\n",
       "      <td>high</td>\n",
       "      <td>caudal fin</td>\n",
       "    </tr>\n",
       "  </tbody>\n",
       "</table>\n",
       "</div>"
      ],
      "text/plain": [
       "  species    eye_size        snout_shape      parr_marks parr_marks_length  \\\n",
       "0      ck       large             pointy  slightly faded              long   \n",
       "1      co       large    short and blunt  slightly faded              long   \n",
       "2      cm      medium                NaN           faded             short   \n",
       "3    pink      medium                NaN             NaN               NaN   \n",
       "4      so  very large                NaN  slightly faded         irregular   \n",
       "5     stl       small  short and rounded           faded             short   \n",
       "6      ct       small    long and pointy           faded             short   \n",
       "7     rbt       small  short and rounded             NaN             short   \n",
       "\n",
       "  spotting_density    fin_type  \n",
       "0           medium    anal fin  \n",
       "1           medium    anal fin  \n",
       "2           medium  caudal fin  \n",
       "3              NaN  caudal fin  \n",
       "4              NaN  caudal fin  \n",
       "5             high  caudal fin  \n",
       "6             high  caudal fin  \n",
       "7             high  caudal fin  "
      ]
     },
     "execution_count": 9,
     "metadata": {},
     "output_type": "execute_result"
    }
   ],
   "source": [
    "fish_features = pd.read_csv(\"../species_prediction_model/data/fish_features.csv\", index_col=None)\n",
    "fish_features"
   ]
  },
  {
   "cell_type": "code",
   "execution_count": 10,
   "metadata": {},
   "outputs": [
    {
     "data": {
      "text/html": [
       "<div>\n",
       "<style scoped>\n",
       "    .dataframe tbody tr th:only-of-type {\n",
       "        vertical-align: middle;\n",
       "    }\n",
       "\n",
       "    .dataframe tbody tr th {\n",
       "        vertical-align: top;\n",
       "    }\n",
       "\n",
       "    .dataframe thead th {\n",
       "        text-align: right;\n",
       "    }\n",
       "</style>\n",
       "<table border=\"1\" class=\"dataframe\">\n",
       "  <thead>\n",
       "    <tr style=\"text-align: right;\">\n",
       "      <th></th>\n",
       "      <th>watershed</th>\n",
       "      <th>river</th>\n",
       "      <th>site</th>\n",
       "      <th>method</th>\n",
       "      <th>local</th>\n",
       "      <th>water_temp_start</th>\n",
       "      <th>fork_length_mm</th>\n",
       "      <th>species</th>\n",
       "      <th>eye_size</th>\n",
       "      <th>snout_shape</th>\n",
       "      <th>parr_marks</th>\n",
       "      <th>parr_marks_length</th>\n",
       "      <th>spotting_density</th>\n",
       "      <th>fin_type</th>\n",
       "    </tr>\n",
       "  </thead>\n",
       "  <tbody>\n",
       "    <tr>\n",
       "      <th>0</th>\n",
       "      <td>englishman</td>\n",
       "      <td>center creek</td>\n",
       "      <td>center creek</td>\n",
       "      <td>smolt trap</td>\n",
       "      <td>in-river</td>\n",
       "      <td>10.2</td>\n",
       "      <td>85.0</td>\n",
       "      <td>co</td>\n",
       "      <td>large</td>\n",
       "      <td>short and blunt</td>\n",
       "      <td>slightly faded</td>\n",
       "      <td>long</td>\n",
       "      <td>medium</td>\n",
       "      <td>anal fin</td>\n",
       "    </tr>\n",
       "    <tr>\n",
       "      <th>1</th>\n",
       "      <td>englishman</td>\n",
       "      <td>center creek</td>\n",
       "      <td>center creek</td>\n",
       "      <td>smolt trap</td>\n",
       "      <td>in-river</td>\n",
       "      <td>10.2</td>\n",
       "      <td>85.0</td>\n",
       "      <td>co</td>\n",
       "      <td>large</td>\n",
       "      <td>short and blunt</td>\n",
       "      <td>slightly faded</td>\n",
       "      <td>long</td>\n",
       "      <td>medium</td>\n",
       "      <td>anal fin</td>\n",
       "    </tr>\n",
       "    <tr>\n",
       "      <th>2</th>\n",
       "      <td>englishman</td>\n",
       "      <td>center creek</td>\n",
       "      <td>center creek</td>\n",
       "      <td>smolt trap</td>\n",
       "      <td>in-river</td>\n",
       "      <td>10.2</td>\n",
       "      <td>85.0</td>\n",
       "      <td>co</td>\n",
       "      <td>large</td>\n",
       "      <td>short and blunt</td>\n",
       "      <td>slightly faded</td>\n",
       "      <td>long</td>\n",
       "      <td>medium</td>\n",
       "      <td>anal fin</td>\n",
       "    </tr>\n",
       "    <tr>\n",
       "      <th>3</th>\n",
       "      <td>englishman</td>\n",
       "      <td>center creek</td>\n",
       "      <td>center creek</td>\n",
       "      <td>smolt trap</td>\n",
       "      <td>in-river</td>\n",
       "      <td>10.2</td>\n",
       "      <td>86.0</td>\n",
       "      <td>co</td>\n",
       "      <td>large</td>\n",
       "      <td>short and blunt</td>\n",
       "      <td>slightly faded</td>\n",
       "      <td>long</td>\n",
       "      <td>medium</td>\n",
       "      <td>anal fin</td>\n",
       "    </tr>\n",
       "    <tr>\n",
       "      <th>4</th>\n",
       "      <td>englishman</td>\n",
       "      <td>center creek</td>\n",
       "      <td>center creek</td>\n",
       "      <td>smolt trap</td>\n",
       "      <td>in-river</td>\n",
       "      <td>10.2</td>\n",
       "      <td>87.0</td>\n",
       "      <td>co</td>\n",
       "      <td>large</td>\n",
       "      <td>short and blunt</td>\n",
       "      <td>slightly faded</td>\n",
       "      <td>long</td>\n",
       "      <td>medium</td>\n",
       "      <td>anal fin</td>\n",
       "    </tr>\n",
       "  </tbody>\n",
       "</table>\n",
       "</div>"
      ],
      "text/plain": [
       "    watershed         river          site      method     local  \\\n",
       "0  englishman  center creek  center creek  smolt trap  in-river   \n",
       "1  englishman  center creek  center creek  smolt trap  in-river   \n",
       "2  englishman  center creek  center creek  smolt trap  in-river   \n",
       "3  englishman  center creek  center creek  smolt trap  in-river   \n",
       "4  englishman  center creek  center creek  smolt trap  in-river   \n",
       "\n",
       "   water_temp_start  fork_length_mm species eye_size      snout_shape  \\\n",
       "0              10.2            85.0      co    large  short and blunt   \n",
       "1              10.2            85.0      co    large  short and blunt   \n",
       "2              10.2            85.0      co    large  short and blunt   \n",
       "3              10.2            86.0      co    large  short and blunt   \n",
       "4              10.2            87.0      co    large  short and blunt   \n",
       "\n",
       "       parr_marks parr_marks_length spotting_density  fin_type  \n",
       "0  slightly faded              long           medium  anal fin  \n",
       "1  slightly faded              long           medium  anal fin  \n",
       "2  slightly faded              long           medium  anal fin  \n",
       "3  slightly faded              long           medium  anal fin  \n",
       "4  slightly faded              long           medium  anal fin  "
      ]
     },
     "execution_count": 10,
     "metadata": {},
     "output_type": "execute_result"
    }
   ],
   "source": [
    "full = df.merge(fish_features, how='left',on='species')\n",
    "full.head()"
   ]
  },
  {
   "cell_type": "code",
   "execution_count": 11,
   "metadata": {},
   "outputs": [
    {
     "data": {
      "text/plain": [
       "watershed            0\n",
       "river                0\n",
       "site                 0\n",
       "method               0\n",
       "local                0\n",
       "water_temp_start     0\n",
       "fork_length_mm       0\n",
       "species              0\n",
       "eye_size             0\n",
       "snout_shape          0\n",
       "parr_marks           0\n",
       "parr_marks_length    0\n",
       "spotting_density     0\n",
       "fin_type             0\n",
       "dtype: int64"
      ]
     },
     "execution_count": 11,
     "metadata": {},
     "output_type": "execute_result"
    }
   ],
   "source": [
    "full = full.replace(np.nan, None)\n",
    "full.isnull().sum()"
   ]
  },
  {
   "cell_type": "code",
   "execution_count": 13,
   "metadata": {},
   "outputs": [
    {
     "data": {
      "text/plain": [
       "stl    479\n",
       "ct     479\n",
       "rbt    449\n",
       "cm      10\n",
       "Name: species, dtype: int64"
      ]
     },
     "execution_count": 13,
     "metadata": {},
     "output_type": "execute_result"
    }
   ],
   "source": [
    "co_sampled = full[full['species'] == 'co'].sample(n=500, random_state=42)\n",
    "ck_sampled = full[full['species'] == 'ck'].sample(n=500, random_state=42)\n",
    "labels_to_filter = ['stl', 'ct', 'rbt', 'cm']\n",
    "others_combined = full[full['species'].isin(labels_to_filter)]\n",
    "others_combined['species'].value_counts()"
   ]
  },
  {
   "cell_type": "code",
   "execution_count": 15,
   "metadata": {},
   "outputs": [
    {
     "data": {
      "text/plain": [
       "co     500\n",
       "ck     500\n",
       "stl    479\n",
       "ct     479\n",
       "rbt    449\n",
       "cm      10\n",
       "Name: species, dtype: int64"
      ]
     },
     "execution_count": 15,
     "metadata": {},
     "output_type": "execute_result"
    }
   ],
   "source": [
    "full_small = pd.concat([co_sampled, ck_sampled, others_combined], axis=0)\n",
    "full_small = full_small.reset_index(drop=True)\n",
    "full_small['species'].value_counts()"
   ]
  },
  {
   "cell_type": "markdown",
   "metadata": {},
   "source": [
    "## Pipeline"
   ]
  },
  {
   "cell_type": "code",
   "execution_count": 16,
   "metadata": {},
   "outputs": [],
   "source": [
    "X = full_small.drop('species', axis = 1)\n",
    "y = full_small['species']"
   ]
  },
  {
   "cell_type": "code",
   "execution_count": 17,
   "metadata": {},
   "outputs": [],
   "source": [
    "numeric_feats = [\"fork_length_mm\"]  # apply scaling\n",
    "categorical_feats = [\"watershed\", \"river\", \"site\", \"method\", \"local\", \"eye_size\", \"snout_shape\", \"parr_marks\", \n",
    "                     \"parr_marks_length\", \"spotting_density\", \"fin_type\"]  # apply one-hot encoding"
   ]
  },
  {
   "cell_type": "code",
   "execution_count": 18,
   "metadata": {},
   "outputs": [],
   "source": [
    "ct = make_column_transformer (    \n",
    "    (StandardScaler(), numeric_feats),       \n",
    "    (OneHotEncoder(), categorical_feats)\n",
    ")"
   ]
  },
  {
   "cell_type": "code",
   "execution_count": 19,
   "metadata": {},
   "outputs": [],
   "source": [
    "transformed = ct.fit_transform(X)"
   ]
  },
  {
   "cell_type": "code",
   "execution_count": 20,
   "metadata": {},
   "outputs": [
    {
     "data": {
      "text/plain": [
       "['fork_length_mm',\n",
       " 'watershed_cowichan',\n",
       " 'watershed_englishman',\n",
       " 'watershed_nanaimo',\n",
       " 'watershed_puntledge',\n",
       " 'river_center creek',\n",
       " 'river_cowichan',\n",
       " 'river_englishman',\n",
       " 'river_haslam creek',\n",
       " 'river_nanaimo',\n",
       " 'river_puntledge',\n",
       " 'river_shelly creek',\n",
       " 'site_70.2',\n",
       " 'site_above tsolum',\n",
       " 'site_cedar bridge',\n",
       " 'site_center creek',\n",
       " 'site_condensory bridge',\n",
       " 'site_cow bay',\n",
       " 'site_hamilton ave',\n",
       " 'site_jack point',\n",
       " 'site_little mexico',\n",
       " 'site_living forest',\n",
       " 'site_mainstem fence',\n",
       " 'site_martindale rd',\n",
       " 'site_newcastle',\n",
       " 'site_side channel',\n",
       " 'site_skutz',\n",
       " 'site_t-bone road',\n",
       " 'site_tsolum confluence',\n",
       " 'site_vimy pool',\n",
       " 'method_beach seine',\n",
       " 'method_g-trap',\n",
       " 'method_rst',\n",
       " 'method_smolt trap',\n",
       " 'local_in-river',\n",
       " 'local_marine',\n",
       " 'eye_size_large',\n",
       " 'eye_size_medium',\n",
       " 'eye_size_small',\n",
       " 'snout_shape_long and pointy',\n",
       " 'snout_shape_pointy',\n",
       " 'snout_shape_short and blunt',\n",
       " 'snout_shape_short and rounded',\n",
       " 'parr_marks_faded',\n",
       " 'parr_marks_slightly faded',\n",
       " 'parr_marks_length_long',\n",
       " 'parr_marks_length_short',\n",
       " 'spotting_density_high',\n",
       " 'spotting_density_medium',\n",
       " 'fin_type_anal fin',\n",
       " 'fin_type_caudal fin']"
      ]
     },
     "execution_count": 20,
     "metadata": {},
     "output_type": "execute_result"
    }
   ],
   "source": [
    "column_names = (\n",
    "    numeric_feats\n",
    "    # + passthrough_feats    \n",
    "    + ct.named_transformers_[\"onehotencoder\"].get_feature_names_out().tolist()\n",
    ")\n",
    "column_names"
   ]
  },
  {
   "cell_type": "code",
   "execution_count": 22,
   "metadata": {},
   "outputs": [
    {
     "data": {
      "text/html": [
       "<div>\n",
       "<style scoped>\n",
       "    .dataframe tbody tr th:only-of-type {\n",
       "        vertical-align: middle;\n",
       "    }\n",
       "\n",
       "    .dataframe tbody tr th {\n",
       "        vertical-align: top;\n",
       "    }\n",
       "\n",
       "    .dataframe thead th {\n",
       "        text-align: right;\n",
       "    }\n",
       "</style>\n",
       "<table border=\"1\" class=\"dataframe\">\n",
       "  <thead>\n",
       "    <tr style=\"text-align: right;\">\n",
       "      <th></th>\n",
       "      <th>fork_length_mm</th>\n",
       "      <th>watershed_cowichan</th>\n",
       "      <th>watershed_englishman</th>\n",
       "      <th>watershed_nanaimo</th>\n",
       "      <th>watershed_puntledge</th>\n",
       "      <th>river_center creek</th>\n",
       "      <th>river_cowichan</th>\n",
       "      <th>river_englishman</th>\n",
       "      <th>river_haslam creek</th>\n",
       "      <th>river_nanaimo</th>\n",
       "      <th>...</th>\n",
       "      <th>snout_shape_short and blunt</th>\n",
       "      <th>snout_shape_short and rounded</th>\n",
       "      <th>parr_marks_faded</th>\n",
       "      <th>parr_marks_slightly faded</th>\n",
       "      <th>parr_marks_length_long</th>\n",
       "      <th>parr_marks_length_short</th>\n",
       "      <th>spotting_density_high</th>\n",
       "      <th>spotting_density_medium</th>\n",
       "      <th>fin_type_anal fin</th>\n",
       "      <th>fin_type_caudal fin</th>\n",
       "    </tr>\n",
       "  </thead>\n",
       "  <tbody>\n",
       "    <tr>\n",
       "      <th>0</th>\n",
       "      <td>-0.303568</td>\n",
       "      <td>0.0</td>\n",
       "      <td>0.0</td>\n",
       "      <td>1.0</td>\n",
       "      <td>0.0</td>\n",
       "      <td>0.0</td>\n",
       "      <td>0.0</td>\n",
       "      <td>0.0</td>\n",
       "      <td>0.0</td>\n",
       "      <td>1.0</td>\n",
       "      <td>...</td>\n",
       "      <td>1.0</td>\n",
       "      <td>0.0</td>\n",
       "      <td>0.0</td>\n",
       "      <td>1.0</td>\n",
       "      <td>1.0</td>\n",
       "      <td>0.0</td>\n",
       "      <td>0.0</td>\n",
       "      <td>1.0</td>\n",
       "      <td>1.0</td>\n",
       "      <td>0.0</td>\n",
       "    </tr>\n",
       "    <tr>\n",
       "      <th>1</th>\n",
       "      <td>-0.615799</td>\n",
       "      <td>0.0</td>\n",
       "      <td>1.0</td>\n",
       "      <td>0.0</td>\n",
       "      <td>0.0</td>\n",
       "      <td>1.0</td>\n",
       "      <td>0.0</td>\n",
       "      <td>0.0</td>\n",
       "      <td>0.0</td>\n",
       "      <td>0.0</td>\n",
       "      <td>...</td>\n",
       "      <td>1.0</td>\n",
       "      <td>0.0</td>\n",
       "      <td>0.0</td>\n",
       "      <td>1.0</td>\n",
       "      <td>1.0</td>\n",
       "      <td>0.0</td>\n",
       "      <td>0.0</td>\n",
       "      <td>1.0</td>\n",
       "      <td>1.0</td>\n",
       "      <td>0.0</td>\n",
       "    </tr>\n",
       "    <tr>\n",
       "      <th>2</th>\n",
       "      <td>-0.511722</td>\n",
       "      <td>0.0</td>\n",
       "      <td>1.0</td>\n",
       "      <td>0.0</td>\n",
       "      <td>0.0</td>\n",
       "      <td>0.0</td>\n",
       "      <td>0.0</td>\n",
       "      <td>0.0</td>\n",
       "      <td>0.0</td>\n",
       "      <td>0.0</td>\n",
       "      <td>...</td>\n",
       "      <td>1.0</td>\n",
       "      <td>0.0</td>\n",
       "      <td>0.0</td>\n",
       "      <td>1.0</td>\n",
       "      <td>1.0</td>\n",
       "      <td>0.0</td>\n",
       "      <td>0.0</td>\n",
       "      <td>1.0</td>\n",
       "      <td>1.0</td>\n",
       "      <td>0.0</td>\n",
       "    </tr>\n",
       "    <tr>\n",
       "      <th>3</th>\n",
       "      <td>-0.366014</td>\n",
       "      <td>0.0</td>\n",
       "      <td>1.0</td>\n",
       "      <td>0.0</td>\n",
       "      <td>0.0</td>\n",
       "      <td>0.0</td>\n",
       "      <td>0.0</td>\n",
       "      <td>0.0</td>\n",
       "      <td>0.0</td>\n",
       "      <td>0.0</td>\n",
       "      <td>...</td>\n",
       "      <td>1.0</td>\n",
       "      <td>0.0</td>\n",
       "      <td>0.0</td>\n",
       "      <td>1.0</td>\n",
       "      <td>1.0</td>\n",
       "      <td>0.0</td>\n",
       "      <td>0.0</td>\n",
       "      <td>1.0</td>\n",
       "      <td>1.0</td>\n",
       "      <td>0.0</td>\n",
       "    </tr>\n",
       "    <tr>\n",
       "      <th>4</th>\n",
       "      <td>-0.803138</td>\n",
       "      <td>0.0</td>\n",
       "      <td>1.0</td>\n",
       "      <td>0.0</td>\n",
       "      <td>0.0</td>\n",
       "      <td>1.0</td>\n",
       "      <td>0.0</td>\n",
       "      <td>0.0</td>\n",
       "      <td>0.0</td>\n",
       "      <td>0.0</td>\n",
       "      <td>...</td>\n",
       "      <td>1.0</td>\n",
       "      <td>0.0</td>\n",
       "      <td>0.0</td>\n",
       "      <td>1.0</td>\n",
       "      <td>1.0</td>\n",
       "      <td>0.0</td>\n",
       "      <td>0.0</td>\n",
       "      <td>1.0</td>\n",
       "      <td>1.0</td>\n",
       "      <td>0.0</td>\n",
       "    </tr>\n",
       "  </tbody>\n",
       "</table>\n",
       "<p>5 rows × 51 columns</p>\n",
       "</div>"
      ],
      "text/plain": [
       "   fork_length_mm  watershed_cowichan  watershed_englishman  \\\n",
       "0       -0.303568                 0.0                   0.0   \n",
       "1       -0.615799                 0.0                   1.0   \n",
       "2       -0.511722                 0.0                   1.0   \n",
       "3       -0.366014                 0.0                   1.0   \n",
       "4       -0.803138                 0.0                   1.0   \n",
       "\n",
       "   watershed_nanaimo  watershed_puntledge  river_center creek  river_cowichan  \\\n",
       "0                1.0                  0.0                 0.0             0.0   \n",
       "1                0.0                  0.0                 1.0             0.0   \n",
       "2                0.0                  0.0                 0.0             0.0   \n",
       "3                0.0                  0.0                 0.0             0.0   \n",
       "4                0.0                  0.0                 1.0             0.0   \n",
       "\n",
       "   river_englishman  river_haslam creek  river_nanaimo  ...  \\\n",
       "0               0.0                 0.0            1.0  ...   \n",
       "1               0.0                 0.0            0.0  ...   \n",
       "2               0.0                 0.0            0.0  ...   \n",
       "3               0.0                 0.0            0.0  ...   \n",
       "4               0.0                 0.0            0.0  ...   \n",
       "\n",
       "   snout_shape_short and blunt  snout_shape_short and rounded  \\\n",
       "0                          1.0                            0.0   \n",
       "1                          1.0                            0.0   \n",
       "2                          1.0                            0.0   \n",
       "3                          1.0                            0.0   \n",
       "4                          1.0                            0.0   \n",
       "\n",
       "   parr_marks_faded  parr_marks_slightly faded  parr_marks_length_long  \\\n",
       "0               0.0                        1.0                     1.0   \n",
       "1               0.0                        1.0                     1.0   \n",
       "2               0.0                        1.0                     1.0   \n",
       "3               0.0                        1.0                     1.0   \n",
       "4               0.0                        1.0                     1.0   \n",
       "\n",
       "   parr_marks_length_short  spotting_density_high  spotting_density_medium  \\\n",
       "0                      0.0                    0.0                      1.0   \n",
       "1                      0.0                    0.0                      1.0   \n",
       "2                      0.0                    0.0                      1.0   \n",
       "3                      0.0                    0.0                      1.0   \n",
       "4                      0.0                    0.0                      1.0   \n",
       "\n",
       "   fin_type_anal fin  fin_type_caudal fin  \n",
       "0                1.0                  0.0  \n",
       "1                1.0                  0.0  \n",
       "2                1.0                  0.0  \n",
       "3                1.0                  0.0  \n",
       "4                1.0                  0.0  \n",
       "\n",
       "[5 rows x 51 columns]"
      ]
     },
     "execution_count": 22,
     "metadata": {},
     "output_type": "execute_result"
    }
   ],
   "source": [
    "X_transformed = pd.DataFrame.sparse.from_spmatrix(transformed, columns=column_names)\n",
    "X_transformed.head()"
   ]
  },
  {
   "cell_type": "markdown",
   "metadata": {},
   "source": [
    "### Dummy model"
   ]
  },
  {
   "cell_type": "code",
   "execution_count": 23,
   "metadata": {},
   "outputs": [
    {
     "data": {
      "text/plain": [
       "0.2068680182043856"
      ]
     },
     "execution_count": 23,
     "metadata": {},
     "output_type": "execute_result"
    }
   ],
   "source": [
    "dummy_clf = DummyClassifier(strategy=\"most_frequent\")\n",
    "dummy_clf.fit(X_transformed, y)\n",
    "dummy_clf.score(X_transformed, y)"
   ]
  },
  {
   "cell_type": "markdown",
   "metadata": {},
   "source": [
    "### Deep learning - tensorflow"
   ]
  },
  {
   "cell_type": "code",
   "execution_count": 24,
   "metadata": {},
   "outputs": [],
   "source": [
    "le = LabelEncoder()\n",
    "y_enc = le.fit_transform(y)\n",
    "y_label = tf.keras.utils.to_categorical(y_enc)"
   ]
  },
  {
   "cell_type": "code",
   "execution_count": 25,
   "metadata": {},
   "outputs": [
    {
     "data": {
      "text/plain": [
       "array(['ck', 'cm', 'co', 'ct', 'rbt', 'stl'], dtype=object)"
      ]
     },
     "execution_count": 25,
     "metadata": {},
     "output_type": "execute_result"
    }
   ],
   "source": [
    "le.classes_ "
   ]
  },
  {
   "cell_type": "code",
   "execution_count": 26,
   "metadata": {},
   "outputs": [],
   "source": [
    "X_train, X_test, y_train, y_test = train_test_split(X_transformed, y_label, test_size=0.2, random_state=42)"
   ]
  },
  {
   "cell_type": "code",
   "execution_count": 27,
   "metadata": {},
   "outputs": [],
   "source": [
    "num_features = X_transformed.shape[1]\n",
    "dl_model = tf.keras.Sequential([\n",
    "    layers.Input(shape=(num_features,)),\n",
    "    layers.Dense(128, activation='relu'),\n",
    "    layers.Dense(64, activation='relu'),\n",
    "    layers.Dense(6, activation='softmax')  #change based on number of labels\n",
    "])"
   ]
  },
  {
   "cell_type": "code",
   "execution_count": 28,
   "metadata": {},
   "outputs": [
    {
     "name": "stdout",
     "output_type": "stream",
     "text": [
      "Model: \"sequential\"\n",
      "_________________________________________________________________\n",
      " Layer (type)                Output Shape              Param #   \n",
      "=================================================================\n",
      " dense (Dense)               (None, 128)               6656      \n",
      "                                                                 \n",
      " dense_1 (Dense)             (None, 64)                8256      \n",
      "                                                                 \n",
      " dense_2 (Dense)             (None, 6)                 390       \n",
      "                                                                 \n",
      "=================================================================\n",
      "Total params: 15,302\n",
      "Trainable params: 15,302\n",
      "Non-trainable params: 0\n",
      "_________________________________________________________________\n"
     ]
    }
   ],
   "source": [
    "dl_model.compile(optimizer=Adam(learning_rate=0.0001),        \n",
    "    loss='categorical_crossentropy',  \n",
    "    metrics=['accuracy']) \n",
    "\n",
    "dl_model.summary()"
   ]
  },
  {
   "cell_type": "code",
   "execution_count": 29,
   "metadata": {},
   "outputs": [
    {
     "name": "stdout",
     "output_type": "stream",
     "text": [
      "Epoch 1/20\n",
      "49/49 [==============================] - 2s 17ms/step - loss: 1.7100 - accuracy: 0.3616 - val_loss: 1.5580 - val_accuracy: 0.5013\n",
      "Epoch 2/20\n",
      "49/49 [==============================] - 0s 5ms/step - loss: 1.4125 - accuracy: 0.6701 - val_loss: 1.2761 - val_accuracy: 0.7183\n",
      "Epoch 3/20\n",
      "49/49 [==============================] - 0s 5ms/step - loss: 1.1386 - accuracy: 0.8706 - val_loss: 1.0262 - val_accuracy: 0.9096\n",
      "Epoch 4/20\n",
      "49/49 [==============================] - 0s 5ms/step - loss: 0.9051 - accuracy: 0.9282 - val_loss: 0.8179 - val_accuracy: 0.9173\n",
      "Epoch 5/20\n",
      "49/49 [==============================] - 0s 5ms/step - loss: 0.7150 - accuracy: 0.9301 - val_loss: 0.6503 - val_accuracy: 0.9251\n",
      "Epoch 6/20\n",
      "49/49 [==============================] - 0s 8ms/step - loss: 0.5629 - accuracy: 0.9353 - val_loss: 0.5163 - val_accuracy: 0.9302\n",
      "Epoch 7/20\n",
      "49/49 [==============================] - 1s 11ms/step - loss: 0.4455 - accuracy: 0.9450 - val_loss: 0.4151 - val_accuracy: 0.9406\n",
      "Epoch 8/20\n",
      "49/49 [==============================] - 0s 9ms/step - loss: 0.3578 - accuracy: 0.9515 - val_loss: 0.3399 - val_accuracy: 0.9380\n",
      "Epoch 9/20\n",
      "49/49 [==============================] - 0s 5ms/step - loss: 0.2937 - accuracy: 0.9515 - val_loss: 0.2876 - val_accuracy: 0.9380\n",
      "Epoch 10/20\n",
      "49/49 [==============================] - 0s 8ms/step - loss: 0.2484 - accuracy: 0.9541 - val_loss: 0.2502 - val_accuracy: 0.9483\n",
      "Epoch 11/20\n",
      "49/49 [==============================] - 0s 7ms/step - loss: 0.2155 - accuracy: 0.9560 - val_loss: 0.2224 - val_accuracy: 0.9483\n",
      "Epoch 12/20\n",
      "49/49 [==============================] - 0s 6ms/step - loss: 0.1911 - accuracy: 0.9554 - val_loss: 0.2014 - val_accuracy: 0.9483\n",
      "Epoch 13/20\n",
      "49/49 [==============================] - 0s 5ms/step - loss: 0.1720 - accuracy: 0.9592 - val_loss: 0.1845 - val_accuracy: 0.9457\n",
      "Epoch 14/20\n",
      "49/49 [==============================] - 0s 9ms/step - loss: 0.1555 - accuracy: 0.9631 - val_loss: 0.1707 - val_accuracy: 0.9457\n",
      "Epoch 15/20\n",
      "49/49 [==============================] - 0s 5ms/step - loss: 0.1424 - accuracy: 0.9644 - val_loss: 0.1590 - val_accuracy: 0.9457\n",
      "Epoch 16/20\n",
      "49/49 [==============================] - 0s 6ms/step - loss: 0.1312 - accuracy: 0.9657 - val_loss: 0.1494 - val_accuracy: 0.9457\n",
      "Epoch 17/20\n",
      "49/49 [==============================] - 0s 5ms/step - loss: 0.1219 - accuracy: 0.9664 - val_loss: 0.1408 - val_accuracy: 0.9483\n",
      "Epoch 18/20\n",
      "49/49 [==============================] - 0s 6ms/step - loss: 0.1137 - accuracy: 0.9683 - val_loss: 0.1332 - val_accuracy: 0.9483\n",
      "Epoch 19/20\n",
      "49/49 [==============================] - 0s 6ms/step - loss: 0.1059 - accuracy: 0.9702 - val_loss: 0.1266 - val_accuracy: 0.9483\n",
      "Epoch 20/20\n",
      "49/49 [==============================] - 0s 5ms/step - loss: 0.0996 - accuracy: 0.9709 - val_loss: 0.1215 - val_accuracy: 0.9509\n"
     ]
    }
   ],
   "source": [
    "history = dl_model.fit(X_train, y_train, \n",
    "                    epochs = 20, \n",
    "                    batch_size = 32, \n",
    "                    validation_split=0.2)"
   ]
  },
  {
   "cell_type": "code",
   "execution_count": 30,
   "metadata": {},
   "outputs": [],
   "source": [
    "def plot_acc(history):\n",
    "    fig = plt.figure(0, (12, 4))\n",
    "\n",
    "    ax = plt.subplot(1, 2, 1)\n",
    "    sns.lineplot(x=history.epoch, y=history.history['accuracy'], label='train')\n",
    "    sns.lineplot(x=history.epoch, y=history.history['val_accuracy'], label='valid')\n",
    "    plt.title('Accuracy')\n",
    "    plt.tight_layout()\n",
    "\n",
    "    ax = plt.subplot(1, 2, 2)\n",
    "    sns.lineplot(x=history.epoch, y=history.history['loss'], label='train')\n",
    "    sns.lineplot(x=history.epoch, y=history.history['val_loss'], label='valid')\n",
    "    plt.title('Loss')\n",
    "    plt.tight_layout()\n",
    "\n",
    "    plt.show()"
   ]
  },
  {
   "cell_type": "code",
   "execution_count": 31,
   "metadata": {},
   "outputs": [
    {
     "data": {
      "image/png": "[encoded data removed]",
      "text/plain": [
       "<Figure size 864x288 with 2 Axes>"
      ]
     },
     "metadata": {
      "needs_background": "light"
     },
     "output_type": "display_data"
    }
   ],
   "source": [
    "plot_acc(history)"
   ]
  },
  {
   "cell_type": "code",
   "execution_count": 32,
   "metadata": {},
   "outputs": [
    {
     "name": "stdout",
     "output_type": "stream",
     "text": [
      "16/16 [==============================] - 0s 4ms/step\n"
     ]
    }
   ],
   "source": [
    "y_pred = dl_model.predict(X_test)"
   ]
  },
  {
   "cell_type": "code",
   "execution_count": 33,
   "metadata": {},
   "outputs": [
    {
     "data": {
      "text/plain": [
       "array([[1.90592483e-02, 2.97269435e-03, 9.73980069e-01, 1.14398904e-03,\n",
       "        1.32263778e-03, 1.52135186e-03],\n",
       "       [2.60001631e-03, 1.43433257e-03, 9.93386328e-01, 5.85486472e-04,\n",
       "        1.38505036e-03, 6.08791539e-04],\n",
       "       [1.84797472e-03, 1.13351038e-03, 3.42862378e-03, 7.33273430e-03,\n",
       "        3.04553360e-02, 9.55801785e-01],\n",
       "       [3.86590720e-03, 8.97540594e-04, 1.60980946e-03, 1.49625279e-02,\n",
       "        9.48465705e-01, 3.01985480e-02],\n",
       "       [1.15280109e-03, 7.93426880e-04, 2.38095387e-03, 9.70289886e-01,\n",
       "        1.08674560e-02, 1.45155005e-02]], dtype=float32)"
      ]
     },
     "execution_count": 33,
     "metadata": {},
     "output_type": "execute_result"
    }
   ],
   "source": [
    "y_pred[0:5] #confidence levels"
   ]
  },
  {
   "cell_type": "code",
   "execution_count": 34,
   "metadata": {},
   "outputs": [
    {
     "data": {
      "text/html": [
       "<div>\n",
       "<style scoped>\n",
       "    .dataframe tbody tr th:only-of-type {\n",
       "        vertical-align: middle;\n",
       "    }\n",
       "\n",
       "    .dataframe tbody tr th {\n",
       "        vertical-align: top;\n",
       "    }\n",
       "\n",
       "    .dataframe thead th {\n",
       "        text-align: right;\n",
       "    }\n",
       "</style>\n",
       "<table border=\"1\" class=\"dataframe\">\n",
       "  <thead>\n",
       "    <tr style=\"text-align: right;\">\n",
       "      <th></th>\n",
       "      <th>ck</th>\n",
       "      <th>cm</th>\n",
       "      <th>co</th>\n",
       "      <th>ct</th>\n",
       "      <th>rbt</th>\n",
       "      <th>stl</th>\n",
       "    </tr>\n",
       "  </thead>\n",
       "  <tbody>\n",
       "    <tr>\n",
       "      <th>0</th>\n",
       "      <td>0.019059</td>\n",
       "      <td>0.002973</td>\n",
       "      <td>0.973980</td>\n",
       "      <td>0.001144</td>\n",
       "      <td>0.001323</td>\n",
       "      <td>0.001521</td>\n",
       "    </tr>\n",
       "    <tr>\n",
       "      <th>1</th>\n",
       "      <td>0.002600</td>\n",
       "      <td>0.001434</td>\n",
       "      <td>0.993386</td>\n",
       "      <td>0.000585</td>\n",
       "      <td>0.001385</td>\n",
       "      <td>0.000609</td>\n",
       "    </tr>\n",
       "    <tr>\n",
       "      <th>2</th>\n",
       "      <td>0.001848</td>\n",
       "      <td>0.001134</td>\n",
       "      <td>0.003429</td>\n",
       "      <td>0.007333</td>\n",
       "      <td>0.030455</td>\n",
       "      <td>0.955802</td>\n",
       "    </tr>\n",
       "    <tr>\n",
       "      <th>3</th>\n",
       "      <td>0.003866</td>\n",
       "      <td>0.000898</td>\n",
       "      <td>0.001610</td>\n",
       "      <td>0.014963</td>\n",
       "      <td>0.948466</td>\n",
       "      <td>0.030199</td>\n",
       "    </tr>\n",
       "    <tr>\n",
       "      <th>4</th>\n",
       "      <td>0.001153</td>\n",
       "      <td>0.000793</td>\n",
       "      <td>0.002381</td>\n",
       "      <td>0.970290</td>\n",
       "      <td>0.010867</td>\n",
       "      <td>0.014516</td>\n",
       "    </tr>\n",
       "  </tbody>\n",
       "</table>\n",
       "</div>"
      ],
      "text/plain": [
       "         ck        cm        co        ct       rbt       stl\n",
       "0  0.019059  0.002973  0.973980  0.001144  0.001323  0.001521\n",
       "1  0.002600  0.001434  0.993386  0.000585  0.001385  0.000609\n",
       "2  0.001848  0.001134  0.003429  0.007333  0.030455  0.955802\n",
       "3  0.003866  0.000898  0.001610  0.014963  0.948466  0.030199\n",
       "4  0.001153  0.000793  0.002381  0.970290  0.010867  0.014516"
      ]
     },
     "execution_count": 34,
     "metadata": {},
     "output_type": "execute_result"
    }
   ],
   "source": [
    "prediction = pd.DataFrame(y_pred, columns=le.classes_)\n",
    "prediction.head()"
   ]
  },
  {
   "cell_type": "code",
   "execution_count": 35,
   "metadata": {},
   "outputs": [
    {
     "data": {
      "text/plain": [
       "array([[0., 0., 1., 0., 0., 0.],\n",
       "       [0., 0., 1., 0., 0., 0.],\n",
       "       [0., 0., 0., 0., 0., 1.],\n",
       "       [0., 0., 0., 0., 1., 0.],\n",
       "       [0., 0., 0., 1., 0., 0.]], dtype=float32)"
      ]
     },
     "execution_count": 35,
     "metadata": {},
     "output_type": "execute_result"
    }
   ],
   "source": [
    "y_test[0:5]"
   ]
  },
  {
   "cell_type": "code",
   "execution_count": 36,
   "metadata": {},
   "outputs": [],
   "source": [
    "dl_model.save('model/dl_riya.h5')"
   ]
  }
 ],
 "metadata": {
  "kernelspec": {
   "display_name": "Python 3 (ipykernel)",
   "language": "python",
   "name": "python3"
  },
  "language_info": {
   "codemirror_mode": {
    "name": "ipython",
    "version": 3
   },
   "file_extension": ".py",
   "mimetype": "text/x-python",
   "name": "python",
   "nbconvert_exporter": "python",
   "pygments_lexer": "ipython3",
   "version": "3.9.7"
  }
 },
 "nbformat": 4,
 "nbformat_minor": 4
}
