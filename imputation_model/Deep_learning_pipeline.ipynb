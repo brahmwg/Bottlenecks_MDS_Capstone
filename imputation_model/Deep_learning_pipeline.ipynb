{
 "cells": [
  {
   "cell_type": "markdown",
   "metadata": {},
   "source": [
    "# SPECIES PREDICTION MODEL PIPELINE (Deep Learning)"
   ]
  },
  {
   "cell_type": "markdown",
   "metadata": {},
   "source": [
    "NOTE: The data and EDA is based on a dummy dataset. The pipeline is created and flexible for more data."
   ]
  },
  {
   "cell_type": "markdown",
   "metadata": {},
   "source": [
    "## Imports"
   ]
  },
  {
   "cell_type": "code",
   "execution_count": 1,
   "metadata": {},
   "outputs": [],
   "source": [
    "import numpy as np \n",
    "import pandas as pd\n",
    "import matplotlib.pyplot as plt\n",
    "import seaborn as sns\n",
    "\n",
    "from sklearn.compose import make_column_transformer\n",
    "from sklearn.preprocessing import (\n",
    "    MinMaxScaler,\n",
    "    OneHotEncoder,\n",
    "    OrdinalEncoder,\n",
    "    StandardScaler,\n",
    "    LabelEncoder\n",
    ")\n",
    "\n",
    "from sklearn.model_selection import train_test_split\n",
    "from sklearn.dummy import DummyClassifier\n",
    "\n",
    "import tensorflow as tf\n",
    "from tensorflow.keras import layers\n",
    "from tensorflow.keras.optimizers import Adam"
   ]
  },
  {
   "cell_type": "code",
   "execution_count": 2,
   "metadata": {},
   "outputs": [
    {
     "data": {
      "text/html": [
       "<div>\n",
       "<style scoped>\n",
       "    .dataframe tbody tr th:only-of-type {\n",
       "        vertical-align: middle;\n",
       "    }\n",
       "\n",
       "    .dataframe tbody tr th {\n",
       "        vertical-align: top;\n",
       "    }\n",
       "\n",
       "    .dataframe thead th {\n",
       "        text-align: right;\n",
       "    }\n",
       "</style>\n",
       "<table border=\"1\" class=\"dataframe\">\n",
       "  <thead>\n",
       "    <tr style=\"text-align: right;\">\n",
       "      <th></th>\n",
       "      <th>date</th>\n",
       "      <th>watershed</th>\n",
       "      <th>river</th>\n",
       "      <th>site</th>\n",
       "      <th>method</th>\n",
       "      <th>local</th>\n",
       "      <th>water_temp_start</th>\n",
       "      <th>fork_length_mm</th>\n",
       "      <th>annoted_species</th>\n",
       "      <th>confirmed_species</th>\n",
       "      <th>tag_id_long</th>\n",
       "    </tr>\n",
       "  </thead>\n",
       "  <tbody>\n",
       "    <tr>\n",
       "      <th>0</th>\n",
       "      <td>2021-06-02</td>\n",
       "      <td>puntledge</td>\n",
       "      <td>puntledge</td>\n",
       "      <td>above tsolum</td>\n",
       "      <td>beach seine</td>\n",
       "      <td>in-river</td>\n",
       "      <td>13.4</td>\n",
       "      <td>85.0</td>\n",
       "      <td>ck</td>\n",
       "      <td>coho</td>\n",
       "      <td>989.001038864826</td>\n",
       "    </tr>\n",
       "    <tr>\n",
       "      <th>1</th>\n",
       "      <td>2021-06-02</td>\n",
       "      <td>puntledge</td>\n",
       "      <td>puntledge</td>\n",
       "      <td>above tsolum</td>\n",
       "      <td>beach seine</td>\n",
       "      <td>in-river</td>\n",
       "      <td>13.4</td>\n",
       "      <td>85.0</td>\n",
       "      <td>ck</td>\n",
       "      <td>chinook</td>\n",
       "      <td>989.001038864862</td>\n",
       "    </tr>\n",
       "    <tr>\n",
       "      <th>2</th>\n",
       "      <td>2021-06-02</td>\n",
       "      <td>puntledge</td>\n",
       "      <td>puntledge</td>\n",
       "      <td>above tsolum</td>\n",
       "      <td>beach seine</td>\n",
       "      <td>in-river</td>\n",
       "      <td>13.4</td>\n",
       "      <td>85.0</td>\n",
       "      <td>ck</td>\n",
       "      <td>chinook</td>\n",
       "      <td>989.001038864891</td>\n",
       "    </tr>\n",
       "    <tr>\n",
       "      <th>3</th>\n",
       "      <td>2021-06-02</td>\n",
       "      <td>puntledge</td>\n",
       "      <td>puntledge</td>\n",
       "      <td>above tsolum</td>\n",
       "      <td>beach seine</td>\n",
       "      <td>in-river</td>\n",
       "      <td>13.4</td>\n",
       "      <td>85.0</td>\n",
       "      <td>ck</td>\n",
       "      <td>chinook</td>\n",
       "      <td>989.001038864827</td>\n",
       "    </tr>\n",
       "    <tr>\n",
       "      <th>4</th>\n",
       "      <td>2021-06-02</td>\n",
       "      <td>puntledge</td>\n",
       "      <td>puntledge</td>\n",
       "      <td>above tsolum</td>\n",
       "      <td>beach seine</td>\n",
       "      <td>in-river</td>\n",
       "      <td>13.4</td>\n",
       "      <td>85.0</td>\n",
       "      <td>ck</td>\n",
       "      <td>chinook</td>\n",
       "      <td>989.001038864865</td>\n",
       "    </tr>\n",
       "  </tbody>\n",
       "</table>\n",
       "</div>"
      ],
      "text/plain": [
       "         date  watershed      river          site       method     local  \\\n",
       "0  2021-06-02  puntledge  puntledge  above tsolum  beach seine  in-river   \n",
       "1  2021-06-02  puntledge  puntledge  above tsolum  beach seine  in-river   \n",
       "2  2021-06-02  puntledge  puntledge  above tsolum  beach seine  in-river   \n",
       "3  2021-06-02  puntledge  puntledge  above tsolum  beach seine  in-river   \n",
       "4  2021-06-02  puntledge  puntledge  above tsolum  beach seine  in-river   \n",
       "\n",
       "   water_temp_start  fork_length_mm annoted_species confirmed_species  \\\n",
       "0              13.4            85.0              ck              coho   \n",
       "1              13.4            85.0              ck           chinook   \n",
       "2              13.4            85.0              ck           chinook   \n",
       "3              13.4            85.0              ck           chinook   \n",
       "4              13.4            85.0              ck           chinook   \n",
       "\n",
       "        tag_id_long  \n",
       "0  989.001038864826  \n",
       "1  989.001038864862  \n",
       "2  989.001038864891  \n",
       "3  989.001038864827  \n",
       "4  989.001038864865  "
      ]
     },
     "execution_count": 2,
     "metadata": {},
     "output_type": "execute_result"
    }
   ],
   "source": [
    "df = pd.read_csv(\"../imputation_model/raw_data/field_genetics_species.csv\")\n",
    "df.head()"
   ]
  },
  {
   "cell_type": "code",
   "execution_count": 3,
   "metadata": {},
   "outputs": [
    {
     "data": {
      "text/plain": [
       "array(['ck', 'co', 'rbt', nan], dtype=object)"
      ]
     },
     "execution_count": 3,
     "metadata": {},
     "output_type": "execute_result"
    }
   ],
   "source": [
    "df.annoted_species.unique()"
   ]
  },
  {
   "cell_type": "code",
   "execution_count": 4,
   "metadata": {},
   "outputs": [
    {
     "data": {
      "text/plain": [
       "array(['coho', 'chinook', 'steelhead'], dtype=object)"
      ]
     },
     "execution_count": 4,
     "metadata": {},
     "output_type": "execute_result"
    }
   ],
   "source": [
    "df.confirmed_species.unique()"
   ]
  },
  {
   "cell_type": "code",
   "execution_count": 5,
   "metadata": {},
   "outputs": [],
   "source": [
    "df_clean = df.drop(['tag_id_long', 'water_temp_start'], axis = 1)\n",
    "df_clean = df_clean.dropna()"
   ]
  },
  {
   "cell_type": "code",
   "execution_count": 6,
   "metadata": {},
   "outputs": [
    {
     "data": {
      "text/plain": [
       "date                 0\n",
       "watershed            0\n",
       "river                0\n",
       "site                 0\n",
       "method               0\n",
       "local                0\n",
       "fork_length_mm       0\n",
       "annoted_species      0\n",
       "confirmed_species    0\n",
       "dtype: int64"
      ]
     },
     "execution_count": 6,
     "metadata": {},
     "output_type": "execute_result"
    }
   ],
   "source": [
    "df_clean.isnull().sum()"
   ]
  },
  {
   "cell_type": "code",
   "execution_count": 7,
   "metadata": {},
   "outputs": [],
   "source": [
    "df_sampled = df_clean[df_clean['confirmed_species'] == 'chinook'].sample(n=300, random_state=42)\n",
    "others_combined = df_clean[df_clean['confirmed_species'].isin([\"coho\", \"steelhead\"])]\n",
    "df_sampled = pd.concat([df_sampled, others_combined], axis=0)\n",
    "df_sampled = df_sampled.reset_index(drop=True)"
   ]
  },
  {
   "cell_type": "markdown",
   "metadata": {},
   "source": [
    "## Pipeline"
   ]
  },
  {
   "cell_type": "code",
   "execution_count": 8,
   "metadata": {},
   "outputs": [],
   "source": [
    "X = df_sampled.drop(['confirmed_species', 'annoted_species'], axis = 1)\n",
    "y = df_sampled['confirmed_species']"
   ]
  },
  {
   "cell_type": "code",
   "execution_count": 9,
   "metadata": {},
   "outputs": [
    {
     "data": {
      "text/html": [
       "<div>\n",
       "<style scoped>\n",
       "    .dataframe tbody tr th:only-of-type {\n",
       "        vertical-align: middle;\n",
       "    }\n",
       "\n",
       "    .dataframe tbody tr th {\n",
       "        vertical-align: top;\n",
       "    }\n",
       "\n",
       "    .dataframe thead th {\n",
       "        text-align: right;\n",
       "    }\n",
       "</style>\n",
       "<table border=\"1\" class=\"dataframe\">\n",
       "  <thead>\n",
       "    <tr style=\"text-align: right;\">\n",
       "      <th></th>\n",
       "      <th>date</th>\n",
       "      <th>watershed</th>\n",
       "      <th>river</th>\n",
       "      <th>site</th>\n",
       "      <th>method</th>\n",
       "      <th>local</th>\n",
       "      <th>fork_length_mm</th>\n",
       "      <th>year</th>\n",
       "      <th>day_of_year</th>\n",
       "    </tr>\n",
       "  </thead>\n",
       "  <tbody>\n",
       "    <tr>\n",
       "      <th>0</th>\n",
       "      <td>2022-06-17</td>\n",
       "      <td>puntledge</td>\n",
       "      <td>puntledge</td>\n",
       "      <td>little mexico</td>\n",
       "      <td>beach seine</td>\n",
       "      <td>marine</td>\n",
       "      <td>93.0</td>\n",
       "      <td>2022</td>\n",
       "      <td>168</td>\n",
       "    </tr>\n",
       "    <tr>\n",
       "      <th>1</th>\n",
       "      <td>2022-06-06</td>\n",
       "      <td>nanaimo</td>\n",
       "      <td>nanaimo</td>\n",
       "      <td>jack point</td>\n",
       "      <td>beach seine</td>\n",
       "      <td>marine</td>\n",
       "      <td>69.0</td>\n",
       "      <td>2022</td>\n",
       "      <td>157</td>\n",
       "    </tr>\n",
       "    <tr>\n",
       "      <th>2</th>\n",
       "      <td>2021-06-07</td>\n",
       "      <td>nanaimo</td>\n",
       "      <td>nanaimo</td>\n",
       "      <td>jack point</td>\n",
       "      <td>beach seine</td>\n",
       "      <td>marine</td>\n",
       "      <td>79.0</td>\n",
       "      <td>2021</td>\n",
       "      <td>158</td>\n",
       "    </tr>\n",
       "    <tr>\n",
       "      <th>3</th>\n",
       "      <td>2022-06-01</td>\n",
       "      <td>nanaimo</td>\n",
       "      <td>nanaimo</td>\n",
       "      <td>jack point</td>\n",
       "      <td>beach seine</td>\n",
       "      <td>marine</td>\n",
       "      <td>62.0</td>\n",
       "      <td>2022</td>\n",
       "      <td>152</td>\n",
       "    </tr>\n",
       "    <tr>\n",
       "      <th>4</th>\n",
       "      <td>2021-06-11</td>\n",
       "      <td>nanaimo</td>\n",
       "      <td>nanaimo</td>\n",
       "      <td>cedar bridge</td>\n",
       "      <td>beach seine</td>\n",
       "      <td>in-river</td>\n",
       "      <td>89.0</td>\n",
       "      <td>2021</td>\n",
       "      <td>162</td>\n",
       "    </tr>\n",
       "  </tbody>\n",
       "</table>\n",
       "</div>"
      ],
      "text/plain": [
       "         date  watershed      river           site       method     local  \\\n",
       "0  2022-06-17  puntledge  puntledge  little mexico  beach seine    marine   \n",
       "1  2022-06-06    nanaimo    nanaimo     jack point  beach seine    marine   \n",
       "2  2021-06-07    nanaimo    nanaimo     jack point  beach seine    marine   \n",
       "3  2022-06-01    nanaimo    nanaimo     jack point  beach seine    marine   \n",
       "4  2021-06-11    nanaimo    nanaimo   cedar bridge  beach seine  in-river   \n",
       "\n",
       "   fork_length_mm  year  day_of_year  \n",
       "0            93.0  2022          168  \n",
       "1            69.0  2022          157  \n",
       "2            79.0  2021          158  \n",
       "3            62.0  2022          152  \n",
       "4            89.0  2021          162  "
      ]
     },
     "execution_count": 9,
     "metadata": {},
     "output_type": "execute_result"
    }
   ],
   "source": [
    "X[\"year\"] = pd.DatetimeIndex(X['date']).year\n",
    "X['day_of_year'] = pd.to_datetime(X['date']).dt.dayofyear\n",
    "X.head()"
   ]
  },
  {
   "cell_type": "code",
   "execution_count": 10,
   "metadata": {},
   "outputs": [],
   "source": [
    "numeric_feats = [\"fork_length_mm\", \"day_of_year\"]  # apply scaling\n",
    "categorical_feats = [\"watershed\", \"river\", \"site\", \"method\", \"local\", \"year\"]  # apply one-hot encoding\n",
    "# passthrough_feats = [\"\"]  # do not apply any transformation\n",
    "drop_feats = [ \"date\" ]  \n",
    "# levels = [\"\", \"\"]"
   ]
  },
  {
   "cell_type": "code",
   "execution_count": 11,
   "metadata": {},
   "outputs": [],
   "source": [
    "ct = make_column_transformer (    \n",
    "    (StandardScaler(), numeric_feats),  \n",
    "    #(\"passthrough\", passthrough_feats),     \n",
    "    (OneHotEncoder(), categorical_feats),  \n",
    "    (\"drop\", drop_feats), \n",
    "    #OrdinalEncoder(categories=[levels], dtype=int)\n",
    ")"
   ]
  },
  {
   "cell_type": "code",
   "execution_count": 12,
   "metadata": {},
   "outputs": [],
   "source": [
    "transformed = ct.fit_transform(X)"
   ]
  },
  {
   "cell_type": "code",
   "execution_count": 13,
   "metadata": {},
   "outputs": [
    {
     "data": {
      "text/plain": [
       "['fork_length_mm',\n",
       " 'day_of_year',\n",
       " 'watershed_nanaimo',\n",
       " 'watershed_puntledge',\n",
       " 'river_nanaimo',\n",
       " 'river_puntledge',\n",
       " 'site_above tsolum',\n",
       " 'site_cedar bridge',\n",
       " 'site_condensory bridge',\n",
       " 'site_jack point',\n",
       " 'site_little mexico',\n",
       " 'site_living forest',\n",
       " 'site_newcastle',\n",
       " 'site_snuneymuxw beach',\n",
       " 'site_tsolum confluence',\n",
       " 'method_beach seine',\n",
       " 'local_in-river',\n",
       " 'local_marine',\n",
       " 'year_2021',\n",
       " 'year_2022',\n",
       " 'year_2023']"
      ]
     },
     "execution_count": 13,
     "metadata": {},
     "output_type": "execute_result"
    }
   ],
   "source": [
    "column_names = (\n",
    "    numeric_feats\n",
    "    # + passthrough_feats    \n",
    "    + ct.named_transformers_[\"onehotencoder\"].get_feature_names_out().tolist()\n",
    ")\n",
    "column_names"
   ]
  },
  {
   "cell_type": "code",
   "execution_count": 14,
   "metadata": {},
   "outputs": [
    {
     "data": {
      "text/html": [
       "<div>\n",
       "<style scoped>\n",
       "    .dataframe tbody tr th:only-of-type {\n",
       "        vertical-align: middle;\n",
       "    }\n",
       "\n",
       "    .dataframe tbody tr th {\n",
       "        vertical-align: top;\n",
       "    }\n",
       "\n",
       "    .dataframe thead th {\n",
       "        text-align: right;\n",
       "    }\n",
       "</style>\n",
       "<table border=\"1\" class=\"dataframe\">\n",
       "  <thead>\n",
       "    <tr style=\"text-align: right;\">\n",
       "      <th></th>\n",
       "      <th>fork_length_mm</th>\n",
       "      <th>day_of_year</th>\n",
       "      <th>watershed_nanaimo</th>\n",
       "      <th>watershed_puntledge</th>\n",
       "      <th>river_nanaimo</th>\n",
       "      <th>river_puntledge</th>\n",
       "      <th>site_above tsolum</th>\n",
       "      <th>site_cedar bridge</th>\n",
       "      <th>site_condensory bridge</th>\n",
       "      <th>site_jack point</th>\n",
       "      <th>...</th>\n",
       "      <th>site_living forest</th>\n",
       "      <th>site_newcastle</th>\n",
       "      <th>site_snuneymuxw beach</th>\n",
       "      <th>site_tsolum confluence</th>\n",
       "      <th>method_beach seine</th>\n",
       "      <th>local_in-river</th>\n",
       "      <th>local_marine</th>\n",
       "      <th>year_2021</th>\n",
       "      <th>year_2022</th>\n",
       "      <th>year_2023</th>\n",
       "    </tr>\n",
       "  </thead>\n",
       "  <tbody>\n",
       "    <tr>\n",
       "      <th>0</th>\n",
       "      <td>-0.280810</td>\n",
       "      <td>0.733807</td>\n",
       "      <td>0.0</td>\n",
       "      <td>1.0</td>\n",
       "      <td>0.0</td>\n",
       "      <td>1.0</td>\n",
       "      <td>0.0</td>\n",
       "      <td>0.0</td>\n",
       "      <td>0.0</td>\n",
       "      <td>0.0</td>\n",
       "      <td>...</td>\n",
       "      <td>0.0</td>\n",
       "      <td>0.0</td>\n",
       "      <td>0.0</td>\n",
       "      <td>0.0</td>\n",
       "      <td>1.0</td>\n",
       "      <td>0.0</td>\n",
       "      <td>1.0</td>\n",
       "      <td>0.0</td>\n",
       "      <td>1.0</td>\n",
       "      <td>0.0</td>\n",
       "    </tr>\n",
       "    <tr>\n",
       "      <th>1</th>\n",
       "      <td>-1.354080</td>\n",
       "      <td>-0.898374</td>\n",
       "      <td>1.0</td>\n",
       "      <td>0.0</td>\n",
       "      <td>1.0</td>\n",
       "      <td>0.0</td>\n",
       "      <td>0.0</td>\n",
       "      <td>0.0</td>\n",
       "      <td>0.0</td>\n",
       "      <td>1.0</td>\n",
       "      <td>...</td>\n",
       "      <td>0.0</td>\n",
       "      <td>0.0</td>\n",
       "      <td>0.0</td>\n",
       "      <td>0.0</td>\n",
       "      <td>1.0</td>\n",
       "      <td>0.0</td>\n",
       "      <td>1.0</td>\n",
       "      <td>0.0</td>\n",
       "      <td>1.0</td>\n",
       "      <td>0.0</td>\n",
       "    </tr>\n",
       "    <tr>\n",
       "      <th>2</th>\n",
       "      <td>-0.906884</td>\n",
       "      <td>-0.749994</td>\n",
       "      <td>1.0</td>\n",
       "      <td>0.0</td>\n",
       "      <td>1.0</td>\n",
       "      <td>0.0</td>\n",
       "      <td>0.0</td>\n",
       "      <td>0.0</td>\n",
       "      <td>0.0</td>\n",
       "      <td>1.0</td>\n",
       "      <td>...</td>\n",
       "      <td>0.0</td>\n",
       "      <td>0.0</td>\n",
       "      <td>0.0</td>\n",
       "      <td>0.0</td>\n",
       "      <td>1.0</td>\n",
       "      <td>0.0</td>\n",
       "      <td>1.0</td>\n",
       "      <td>1.0</td>\n",
       "      <td>0.0</td>\n",
       "      <td>0.0</td>\n",
       "    </tr>\n",
       "    <tr>\n",
       "      <th>3</th>\n",
       "      <td>-1.667117</td>\n",
       "      <td>-1.640275</td>\n",
       "      <td>1.0</td>\n",
       "      <td>0.0</td>\n",
       "      <td>1.0</td>\n",
       "      <td>0.0</td>\n",
       "      <td>0.0</td>\n",
       "      <td>0.0</td>\n",
       "      <td>0.0</td>\n",
       "      <td>1.0</td>\n",
       "      <td>...</td>\n",
       "      <td>0.0</td>\n",
       "      <td>0.0</td>\n",
       "      <td>0.0</td>\n",
       "      <td>0.0</td>\n",
       "      <td>1.0</td>\n",
       "      <td>0.0</td>\n",
       "      <td>1.0</td>\n",
       "      <td>0.0</td>\n",
       "      <td>1.0</td>\n",
       "      <td>0.0</td>\n",
       "    </tr>\n",
       "    <tr>\n",
       "      <th>4</th>\n",
       "      <td>-0.459688</td>\n",
       "      <td>-0.156474</td>\n",
       "      <td>1.0</td>\n",
       "      <td>0.0</td>\n",
       "      <td>1.0</td>\n",
       "      <td>0.0</td>\n",
       "      <td>0.0</td>\n",
       "      <td>1.0</td>\n",
       "      <td>0.0</td>\n",
       "      <td>0.0</td>\n",
       "      <td>...</td>\n",
       "      <td>0.0</td>\n",
       "      <td>0.0</td>\n",
       "      <td>0.0</td>\n",
       "      <td>0.0</td>\n",
       "      <td>1.0</td>\n",
       "      <td>1.0</td>\n",
       "      <td>0.0</td>\n",
       "      <td>1.0</td>\n",
       "      <td>0.0</td>\n",
       "      <td>0.0</td>\n",
       "    </tr>\n",
       "  </tbody>\n",
       "</table>\n",
       "<p>5 rows × 21 columns</p>\n",
       "</div>"
      ],
      "text/plain": [
       "   fork_length_mm  day_of_year  watershed_nanaimo  watershed_puntledge  \\\n",
       "0       -0.280810     0.733807                0.0                  1.0   \n",
       "1       -1.354080    -0.898374                1.0                  0.0   \n",
       "2       -0.906884    -0.749994                1.0                  0.0   \n",
       "3       -1.667117    -1.640275                1.0                  0.0   \n",
       "4       -0.459688    -0.156474                1.0                  0.0   \n",
       "\n",
       "   river_nanaimo  river_puntledge  site_above tsolum  site_cedar bridge  \\\n",
       "0            0.0              1.0                0.0                0.0   \n",
       "1            1.0              0.0                0.0                0.0   \n",
       "2            1.0              0.0                0.0                0.0   \n",
       "3            1.0              0.0                0.0                0.0   \n",
       "4            1.0              0.0                0.0                1.0   \n",
       "\n",
       "   site_condensory bridge  site_jack point  ...  site_living forest  \\\n",
       "0                     0.0              0.0  ...                 0.0   \n",
       "1                     0.0              1.0  ...                 0.0   \n",
       "2                     0.0              1.0  ...                 0.0   \n",
       "3                     0.0              1.0  ...                 0.0   \n",
       "4                     0.0              0.0  ...                 0.0   \n",
       "\n",
       "   site_newcastle  site_snuneymuxw beach  site_tsolum confluence  \\\n",
       "0             0.0                    0.0                     0.0   \n",
       "1             0.0                    0.0                     0.0   \n",
       "2             0.0                    0.0                     0.0   \n",
       "3             0.0                    0.0                     0.0   \n",
       "4             0.0                    0.0                     0.0   \n",
       "\n",
       "   method_beach seine  local_in-river  local_marine  year_2021  year_2022  \\\n",
       "0                 1.0             0.0           1.0        0.0        1.0   \n",
       "1                 1.0             0.0           1.0        0.0        1.0   \n",
       "2                 1.0             0.0           1.0        1.0        0.0   \n",
       "3                 1.0             0.0           1.0        0.0        1.0   \n",
       "4                 1.0             1.0           0.0        1.0        0.0   \n",
       "\n",
       "   year_2023  \n",
       "0        0.0  \n",
       "1        0.0  \n",
       "2        0.0  \n",
       "3        0.0  \n",
       "4        0.0  \n",
       "\n",
       "[5 rows x 21 columns]"
      ]
     },
     "execution_count": 14,
     "metadata": {},
     "output_type": "execute_result"
    }
   ],
   "source": [
    "X_transformed = pd.DataFrame(transformed, columns=column_names)\n",
    "X_transformed.head()"
   ]
  },
  {
   "cell_type": "markdown",
   "metadata": {},
   "source": [
    "### Dummy model"
   ]
  },
  {
   "cell_type": "code",
   "execution_count": 15,
   "metadata": {},
   "outputs": [
    {
     "data": {
      "text/plain": [
       "0.49586776859504134"
      ]
     },
     "execution_count": 15,
     "metadata": {},
     "output_type": "execute_result"
    }
   ],
   "source": [
    "dummy_clf = DummyClassifier(strategy=\"most_frequent\")\n",
    "dummy_clf.fit(X_transformed, y)\n",
    "dummy_clf.score(X_transformed, y)"
   ]
  },
  {
   "cell_type": "markdown",
   "metadata": {},
   "source": [
    "### Deep learning - tensorflow"
   ]
  },
  {
   "cell_type": "code",
   "execution_count": 16,
   "metadata": {},
   "outputs": [],
   "source": [
    "le = LabelEncoder()\n",
    "y_enc = le.fit_transform(y)\n",
    "y_label = tf.keras.utils.to_categorical(y_enc)"
   ]
  },
  {
   "cell_type": "code",
   "execution_count": 17,
   "metadata": {},
   "outputs": [
    {
     "data": {
      "text/plain": [
       "array(['chinook', 'coho', 'steelhead'], dtype=object)"
      ]
     },
     "execution_count": 17,
     "metadata": {},
     "output_type": "execute_result"
    }
   ],
   "source": [
    "le.classes_ "
   ]
  },
  {
   "cell_type": "code",
   "execution_count": 18,
   "metadata": {},
   "outputs": [],
   "source": [
    "X_train, X_test, y_train, y_test = train_test_split(X_transformed, y_label, test_size=0.2, random_state=42)"
   ]
  },
  {
   "cell_type": "code",
   "execution_count": 26,
   "metadata": {},
   "outputs": [],
   "source": [
    "num_features = X_transformed.shape[1]\n",
    "dl_model = tf.keras.Sequential([\n",
    "    layers.Input(shape=(num_features,)),\n",
    "    layers.Dense(128, activation='relu'),\n",
    "    layers.Dense(64, activation='relu'),\n",
    "    layers.Dense(3, activation='softmax')  #change based on number of labels\n",
    "])"
   ]
  },
  {
   "cell_type": "code",
   "execution_count": 27,
   "metadata": {},
   "outputs": [
    {
     "name": "stdout",
     "output_type": "stream",
     "text": [
      "Model: \"sequential_1\"\n",
      "_________________________________________________________________\n",
      " Layer (type)                Output Shape              Param #   \n",
      "=================================================================\n",
      " dense_3 (Dense)             (None, 128)               2816      \n",
      "                                                                 \n",
      " dense_4 (Dense)             (None, 64)                8256      \n",
      "                                                                 \n",
      " dense_5 (Dense)             (None, 3)                 195       \n",
      "                                                                 \n",
      "=================================================================\n",
      "Total params: 11,267\n",
      "Trainable params: 11,267\n",
      "Non-trainable params: 0\n",
      "_________________________________________________________________\n"
     ]
    }
   ],
   "source": [
    "dl_model.compile(optimizer=Adam(learning_rate=0.0001),        \n",
    "    loss='categorical_crossentropy',  \n",
    "    metrics=['accuracy']) \n",
    "\n",
    "dl_model.summary()"
   ]
  },
  {
   "cell_type": "code",
   "execution_count": 28,
   "metadata": {},
   "outputs": [
    {
     "name": "stdout",
     "output_type": "stream",
     "text": [
      "Epoch 1/20\n",
      "13/13 [==============================] - 1s 30ms/step - loss: 1.0051 - accuracy: 0.6796 - val_loss: 0.9482 - val_accuracy: 0.7938\n",
      "Epoch 2/20\n",
      "13/13 [==============================] - 0s 5ms/step - loss: 0.9277 - accuracy: 0.7261 - val_loss: 0.8770 - val_accuracy: 0.8351\n",
      "Epoch 3/20\n",
      "13/13 [==============================] - 0s 5ms/step - loss: 0.8576 - accuracy: 0.8010 - val_loss: 0.8123 - val_accuracy: 0.8660\n",
      "Epoch 4/20\n",
      "13/13 [==============================] - 0s 6ms/step - loss: 0.7934 - accuracy: 0.8786 - val_loss: 0.7528 - val_accuracy: 0.8969\n",
      "Epoch 5/20\n",
      "13/13 [==============================] - 0s 6ms/step - loss: 0.7345 - accuracy: 0.8941 - val_loss: 0.6987 - val_accuracy: 0.9072\n",
      "Epoch 6/20\n",
      "13/13 [==============================] - 0s 5ms/step - loss: 0.6791 - accuracy: 0.9044 - val_loss: 0.6466 - val_accuracy: 0.9072\n",
      "Epoch 7/20\n",
      "13/13 [==============================] - 0s 5ms/step - loss: 0.6254 - accuracy: 0.9096 - val_loss: 0.5967 - val_accuracy: 0.9072\n",
      "Epoch 8/20\n",
      "13/13 [==============================] - 0s 5ms/step - loss: 0.5753 - accuracy: 0.9173 - val_loss: 0.5502 - val_accuracy: 0.9072\n",
      "Epoch 9/20\n",
      "13/13 [==============================] - 0s 5ms/step - loss: 0.5293 - accuracy: 0.9225 - val_loss: 0.5082 - val_accuracy: 0.9175\n",
      "Epoch 10/20\n",
      "13/13 [==============================] - 0s 5ms/step - loss: 0.4881 - accuracy: 0.9225 - val_loss: 0.4720 - val_accuracy: 0.9175\n",
      "Epoch 11/20\n",
      "13/13 [==============================] - 0s 5ms/step - loss: 0.4526 - accuracy: 0.9199 - val_loss: 0.4381 - val_accuracy: 0.9278\n",
      "Epoch 12/20\n",
      "13/13 [==============================] - 0s 5ms/step - loss: 0.4206 - accuracy: 0.9199 - val_loss: 0.4091 - val_accuracy: 0.9278\n",
      "Epoch 13/20\n",
      "13/13 [==============================] - 0s 6ms/step - loss: 0.3932 - accuracy: 0.9225 - val_loss: 0.3841 - val_accuracy: 0.9278\n",
      "Epoch 14/20\n",
      "13/13 [==============================] - 0s 5ms/step - loss: 0.3689 - accuracy: 0.9225 - val_loss: 0.3623 - val_accuracy: 0.9278\n",
      "Epoch 15/20\n",
      "13/13 [==============================] - 0s 5ms/step - loss: 0.3480 - accuracy: 0.9199 - val_loss: 0.3433 - val_accuracy: 0.9278\n",
      "Epoch 16/20\n",
      "13/13 [==============================] - 0s 5ms/step - loss: 0.3301 - accuracy: 0.9199 - val_loss: 0.3275 - val_accuracy: 0.9278\n",
      "Epoch 17/20\n",
      "13/13 [==============================] - 0s 5ms/step - loss: 0.3146 - accuracy: 0.9199 - val_loss: 0.3123 - val_accuracy: 0.9278\n",
      "Epoch 18/20\n",
      "13/13 [==============================] - 0s 5ms/step - loss: 0.3009 - accuracy: 0.9173 - val_loss: 0.2997 - val_accuracy: 0.9278\n",
      "Epoch 19/20\n",
      "13/13 [==============================] - 0s 5ms/step - loss: 0.2896 - accuracy: 0.9173 - val_loss: 0.2877 - val_accuracy: 0.9278\n",
      "Epoch 20/20\n",
      "13/13 [==============================] - 0s 5ms/step - loss: 0.2796 - accuracy: 0.9173 - val_loss: 0.2769 - val_accuracy: 0.9278\n"
     ]
    }
   ],
   "source": [
    "history = dl_model.fit(X_train, y_train, \n",
    "                    epochs = 20, \n",
    "                    batch_size = 32, \n",
    "                    validation_split=0.2)"
   ]
  },
  {
   "cell_type": "code",
   "execution_count": 29,
   "metadata": {},
   "outputs": [],
   "source": [
    "def plot_acc(history):\n",
    "    fig = plt.figure(0, (12, 4))\n",
    "\n",
    "    ax = plt.subplot(1, 2, 1)\n",
    "    sns.lineplot(x=history.epoch, y=history.history['accuracy'], label='train')\n",
    "    sns.lineplot(x=history.epoch, y=history.history['val_accuracy'], label='valid')\n",
    "    plt.title('Accuracy')\n",
    "    plt.tight_layout()\n",
    "\n",
    "    ax = plt.subplot(1, 2, 2)\n",
    "    sns.lineplot(x=history.epoch, y=history.history['loss'], label='train')\n",
    "    sns.lineplot(x=history.epoch, y=history.history['val_loss'], label='valid')\n",
    "    plt.title('Loss')\n",
    "    plt.tight_layout()\n",
    "\n",
    "    plt.show()"
   ]
  },
  {
   "cell_type": "code",
   "execution_count": 30,
   "metadata": {},
   "outputs": [
    {
     "data": {
      "image/png": "[encoded data removed]",
      "text/plain": [
       "<Figure size 864x288 with 2 Axes>"
      ]
     },
     "metadata": {
      "needs_background": "light"
     },
     "output_type": "display_data"
    }
   ],
   "source": [
    "plot_acc(history)"
   ]
  },
  {
   "cell_type": "code",
   "execution_count": 31,
   "metadata": {},
   "outputs": [
    {
     "name": "stdout",
     "output_type": "stream",
     "text": [
      "4/4 [==============================] - 0s 6ms/step\n"
     ]
    }
   ],
   "source": [
    "y_pred = dl_model.predict(X_test)"
   ]
  },
  {
   "cell_type": "code",
   "execution_count": 32,
   "metadata": {},
   "outputs": [
    {
     "data": {
      "text/plain": [
       "array([[0.06659003, 0.89679885, 0.03661111],\n",
       "       [0.83978826, 0.1177208 , 0.04249089],\n",
       "       [0.8258522 , 0.1253637 , 0.04878408],\n",
       "       [0.8760534 , 0.08239048, 0.0415562 ],\n",
       "       [0.7708874 , 0.17601673, 0.05309592]], dtype=float32)"
      ]
     },
     "execution_count": 32,
     "metadata": {},
     "output_type": "execute_result"
    }
   ],
   "source": [
    "y_pred[0:5] #confidence levels"
   ]
  },
  {
   "cell_type": "markdown",
   "metadata": {},
   "source": [
    "2 methods:\n",
    "1. We convert all decimals to int, that way they'll be a whole number (1 or 0). Cannot give a label for sure (all may be 0). This could be a good option to make sure that we are not naively assigning labels\n",
    "2. The prediction needs to be converted to 1 and 0. For each row, the highest value is the label and the \"predicted\" number is the confidence level."
   ]
  },
  {
   "cell_type": "code",
   "execution_count": 33,
   "metadata": {},
   "outputs": [
    {
     "data": {
      "text/html": [
       "<div>\n",
       "<style scoped>\n",
       "    .dataframe tbody tr th:only-of-type {\n",
       "        vertical-align: middle;\n",
       "    }\n",
       "\n",
       "    .dataframe tbody tr th {\n",
       "        vertical-align: top;\n",
       "    }\n",
       "\n",
       "    .dataframe thead th {\n",
       "        text-align: right;\n",
       "    }\n",
       "</style>\n",
       "<table border=\"1\" class=\"dataframe\">\n",
       "  <thead>\n",
       "    <tr style=\"text-align: right;\">\n",
       "      <th></th>\n",
       "      <th>chinook</th>\n",
       "      <th>coho</th>\n",
       "      <th>steelhead</th>\n",
       "    </tr>\n",
       "  </thead>\n",
       "  <tbody>\n",
       "    <tr>\n",
       "      <th>0</th>\n",
       "      <td>0.066590</td>\n",
       "      <td>0.896799</td>\n",
       "      <td>0.036611</td>\n",
       "    </tr>\n",
       "    <tr>\n",
       "      <th>1</th>\n",
       "      <td>0.839788</td>\n",
       "      <td>0.117721</td>\n",
       "      <td>0.042491</td>\n",
       "    </tr>\n",
       "    <tr>\n",
       "      <th>2</th>\n",
       "      <td>0.825852</td>\n",
       "      <td>0.125364</td>\n",
       "      <td>0.048784</td>\n",
       "    </tr>\n",
       "    <tr>\n",
       "      <th>3</th>\n",
       "      <td>0.876053</td>\n",
       "      <td>0.082390</td>\n",
       "      <td>0.041556</td>\n",
       "    </tr>\n",
       "    <tr>\n",
       "      <th>4</th>\n",
       "      <td>0.770887</td>\n",
       "      <td>0.176017</td>\n",
       "      <td>0.053096</td>\n",
       "    </tr>\n",
       "  </tbody>\n",
       "</table>\n",
       "</div>"
      ],
      "text/plain": [
       "    chinook      coho  steelhead\n",
       "0  0.066590  0.896799   0.036611\n",
       "1  0.839788  0.117721   0.042491\n",
       "2  0.825852  0.125364   0.048784\n",
       "3  0.876053  0.082390   0.041556\n",
       "4  0.770887  0.176017   0.053096"
      ]
     },
     "execution_count": 33,
     "metadata": {},
     "output_type": "execute_result"
    }
   ],
   "source": [
    "prediction = pd.DataFrame(y_pred, columns=le.classes_)\n",
    "prediction.head()"
   ]
  },
  {
   "cell_type": "code",
   "execution_count": 35,
   "metadata": {},
   "outputs": [
    {
     "data": {
      "text/html": [
       "<div>\n",
       "<style scoped>\n",
       "    .dataframe tbody tr th:only-of-type {\n",
       "        vertical-align: middle;\n",
       "    }\n",
       "\n",
       "    .dataframe tbody tr th {\n",
       "        vertical-align: top;\n",
       "    }\n",
       "\n",
       "    .dataframe thead th {\n",
       "        text-align: right;\n",
       "    }\n",
       "</style>\n",
       "<table border=\"1\" class=\"dataframe\">\n",
       "  <thead>\n",
       "    <tr style=\"text-align: right;\">\n",
       "      <th></th>\n",
       "      <th>chinook</th>\n",
       "      <th>coho</th>\n",
       "      <th>steelhead</th>\n",
       "    </tr>\n",
       "  </thead>\n",
       "  <tbody>\n",
       "    <tr>\n",
       "      <th>0</th>\n",
       "      <td>0.066590</td>\n",
       "      <td>0.896799</td>\n",
       "      <td>0.036611</td>\n",
       "    </tr>\n",
       "    <tr>\n",
       "      <th>1</th>\n",
       "      <td>0.839788</td>\n",
       "      <td>0.117721</td>\n",
       "      <td>0.042491</td>\n",
       "    </tr>\n",
       "    <tr>\n",
       "      <th>2</th>\n",
       "      <td>0.825852</td>\n",
       "      <td>0.125364</td>\n",
       "      <td>0.048784</td>\n",
       "    </tr>\n",
       "    <tr>\n",
       "      <th>3</th>\n",
       "      <td>0.876053</td>\n",
       "      <td>0.082390</td>\n",
       "      <td>0.041556</td>\n",
       "    </tr>\n",
       "    <tr>\n",
       "      <th>4</th>\n",
       "      <td>0.770887</td>\n",
       "      <td>0.176017</td>\n",
       "      <td>0.053096</td>\n",
       "    </tr>\n",
       "    <tr>\n",
       "      <th>...</th>\n",
       "      <td>...</td>\n",
       "      <td>...</td>\n",
       "      <td>...</td>\n",
       "    </tr>\n",
       "    <tr>\n",
       "      <th>116</th>\n",
       "      <td>0.652447</td>\n",
       "      <td>0.265066</td>\n",
       "      <td>0.082487</td>\n",
       "    </tr>\n",
       "    <tr>\n",
       "      <th>117</th>\n",
       "      <td>0.975991</td>\n",
       "      <td>0.010040</td>\n",
       "      <td>0.013969</td>\n",
       "    </tr>\n",
       "    <tr>\n",
       "      <th>118</th>\n",
       "      <td>0.086283</td>\n",
       "      <td>0.872817</td>\n",
       "      <td>0.040900</td>\n",
       "    </tr>\n",
       "    <tr>\n",
       "      <th>119</th>\n",
       "      <td>0.036187</td>\n",
       "      <td>0.937766</td>\n",
       "      <td>0.026046</td>\n",
       "    </tr>\n",
       "    <tr>\n",
       "      <th>120</th>\n",
       "      <td>0.103074</td>\n",
       "      <td>0.853304</td>\n",
       "      <td>0.043622</td>\n",
       "    </tr>\n",
       "  </tbody>\n",
       "</table>\n",
       "<p>121 rows × 3 columns</p>\n",
       "</div>"
      ],
      "text/plain": [
       "      chinook      coho  steelhead\n",
       "0    0.066590  0.896799   0.036611\n",
       "1    0.839788  0.117721   0.042491\n",
       "2    0.825852  0.125364   0.048784\n",
       "3    0.876053  0.082390   0.041556\n",
       "4    0.770887  0.176017   0.053096\n",
       "..        ...       ...        ...\n",
       "116  0.652447  0.265066   0.082487\n",
       "117  0.975991  0.010040   0.013969\n",
       "118  0.086283  0.872817   0.040900\n",
       "119  0.036187  0.937766   0.026046\n",
       "120  0.103074  0.853304   0.043622\n",
       "\n",
       "[121 rows x 3 columns]"
      ]
     },
     "execution_count": 35,
     "metadata": {},
     "output_type": "execute_result"
    }
   ],
   "source": [
    "prediction"
   ]
  }
 ],
 "metadata": {
  "kernelspec": {
   "display_name": "Python 3 (ipykernel)",
   "language": "python",
   "name": "python3"
  },
  "language_info": {
   "codemirror_mode": {
    "name": "ipython",
    "version": 3
   },
   "file_extension": ".py",
   "mimetype": "text/x-python",
   "name": "python",
   "nbconvert_exporter": "python",
   "pygments_lexer": "ipython3",
   "version": "3.9.7"
  }
 },
 "nbformat": 4,
 "nbformat_minor": 4
}
