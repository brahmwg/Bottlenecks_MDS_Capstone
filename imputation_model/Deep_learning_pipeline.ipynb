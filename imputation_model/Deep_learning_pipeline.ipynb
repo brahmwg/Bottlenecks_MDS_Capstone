{
 "cells": [
  {
   "cell_type": "markdown",
   "metadata": {},
   "source": [
    "# SPECIES PREDICTION MODEL PIPELINE (Deep Learning)"
   ]
  },
  {
   "cell_type": "markdown",
   "metadata": {},
   "source": [
    "NOTE: The data and EDA is based on a dummy dataset. The pipeline is created and flexible for more data."
   ]
  },
  {
   "cell_type": "markdown",
   "metadata": {},
   "source": [
    "## Imports"
   ]
  },
  {
   "cell_type": "code",
   "execution_count": 1,
   "metadata": {},
   "outputs": [],
   "source": [
    "import numpy as np \n",
    "import pandas as pd\n",
    "import matplotlib.pyplot as plt\n",
    "import seaborn as sns\n",
    "\n",
    "from sklearn.compose import make_column_transformer\n",
    "from sklearn.preprocessing import (\n",
    "    MinMaxScaler,\n",
    "    OneHotEncoder,\n",
    "    OrdinalEncoder,\n",
    "    StandardScaler,\n",
    "    LabelEncoder\n",
    ")\n",
    "\n",
    "from sklearn.model_selection import train_test_split\n",
    "from sklearn.dummy import DummyClassifier\n",
    "\n",
    "import tensorflow as tf\n",
    "from tensorflow.keras import layers\n",
    "from tensorflow.keras.optimizers import Adam"
   ]
  },
  {
   "cell_type": "code",
   "execution_count": 2,
   "metadata": {},
   "outputs": [
    {
     "data": {
      "text/html": [
       "<div>\n",
       "<style scoped>\n",
       "    .dataframe tbody tr th:only-of-type {\n",
       "        vertical-align: middle;\n",
       "    }\n",
       "\n",
       "    .dataframe tbody tr th {\n",
       "        vertical-align: top;\n",
       "    }\n",
       "\n",
       "    .dataframe thead th {\n",
       "        text-align: right;\n",
       "    }\n",
       "</style>\n",
       "<table border=\"1\" class=\"dataframe\">\n",
       "  <thead>\n",
       "    <tr style=\"text-align: right;\">\n",
       "      <th></th>\n",
       "      <th>tag_id_long</th>\n",
       "      <th>watershed</th>\n",
       "      <th>river</th>\n",
       "      <th>site</th>\n",
       "      <th>method</th>\n",
       "      <th>local</th>\n",
       "      <th>water_temp_start</th>\n",
       "      <th>species</th>\n",
       "      <th>fork_length_mm</th>\n",
       "      <th>weight_g</th>\n",
       "    </tr>\n",
       "  </thead>\n",
       "  <tbody>\n",
       "    <tr>\n",
       "      <th>0</th>\n",
       "      <td>989.001039</td>\n",
       "      <td>englishman</td>\n",
       "      <td>shelly creek</td>\n",
       "      <td>martindale rd</td>\n",
       "      <td>smolt trap</td>\n",
       "      <td>in-river</td>\n",
       "      <td>NaN</td>\n",
       "      <td>co</td>\n",
       "      <td>98</td>\n",
       "      <td>NaN</td>\n",
       "    </tr>\n",
       "    <tr>\n",
       "      <th>1</th>\n",
       "      <td>989.001039</td>\n",
       "      <td>englishman</td>\n",
       "      <td>shelly creek</td>\n",
       "      <td>martindale rd</td>\n",
       "      <td>smolt trap</td>\n",
       "      <td>in-river</td>\n",
       "      <td>NaN</td>\n",
       "      <td>co</td>\n",
       "      <td>115</td>\n",
       "      <td>NaN</td>\n",
       "    </tr>\n",
       "    <tr>\n",
       "      <th>2</th>\n",
       "      <td>989.001039</td>\n",
       "      <td>englishman</td>\n",
       "      <td>shelly creek</td>\n",
       "      <td>martindale rd</td>\n",
       "      <td>smolt trap</td>\n",
       "      <td>in-river</td>\n",
       "      <td>NaN</td>\n",
       "      <td>rbt</td>\n",
       "      <td>106</td>\n",
       "      <td>NaN</td>\n",
       "    </tr>\n",
       "    <tr>\n",
       "      <th>3</th>\n",
       "      <td>989.001039</td>\n",
       "      <td>englishman</td>\n",
       "      <td>shelly creek</td>\n",
       "      <td>martindale rd</td>\n",
       "      <td>smolt trap</td>\n",
       "      <td>in-river</td>\n",
       "      <td>7.0</td>\n",
       "      <td>co</td>\n",
       "      <td>113</td>\n",
       "      <td>NaN</td>\n",
       "    </tr>\n",
       "    <tr>\n",
       "      <th>4</th>\n",
       "      <td>989.001039</td>\n",
       "      <td>englishman</td>\n",
       "      <td>shelly creek</td>\n",
       "      <td>martindale rd</td>\n",
       "      <td>smolt trap</td>\n",
       "      <td>in-river</td>\n",
       "      <td>7.0</td>\n",
       "      <td>rbt</td>\n",
       "      <td>81</td>\n",
       "      <td>NaN</td>\n",
       "    </tr>\n",
       "  </tbody>\n",
       "</table>\n",
       "</div>"
      ],
      "text/plain": [
       "   tag_id_long   watershed         river           site      method     local  \\\n",
       "0   989.001039  englishman  shelly creek  martindale rd  smolt trap  in-river   \n",
       "1   989.001039  englishman  shelly creek  martindale rd  smolt trap  in-river   \n",
       "2   989.001039  englishman  shelly creek  martindale rd  smolt trap  in-river   \n",
       "3   989.001039  englishman  shelly creek  martindale rd  smolt trap  in-river   \n",
       "4   989.001039  englishman  shelly creek  martindale rd  smolt trap  in-river   \n",
       "\n",
       "   water_temp_start species  fork_length_mm  weight_g  \n",
       "0               NaN      co              98       NaN  \n",
       "1               NaN      co             115       NaN  \n",
       "2               NaN     rbt             106       NaN  \n",
       "3               7.0      co             113       NaN  \n",
       "4               7.0     rbt              81       NaN  "
      ]
     },
     "execution_count": 2,
     "metadata": {},
     "output_type": "execute_result"
    }
   ],
   "source": [
    "df = pd.read_csv(\"../species_prediction_model/data/trial_data_riya.csv\")\n",
    "df.head()"
   ]
  },
  {
   "cell_type": "code",
   "execution_count": 3,
   "metadata": {},
   "outputs": [
    {
     "data": {
      "text/plain": [
       "tag_id_long           0\n",
       "watershed             0\n",
       "river                 0\n",
       "site                  0\n",
       "method                0\n",
       "local                 0\n",
       "water_temp_start      3\n",
       "species               0\n",
       "fork_length_mm        0\n",
       "weight_g            100\n",
       "dtype: int64"
      ]
     },
     "execution_count": 3,
     "metadata": {},
     "output_type": "execute_result"
    }
   ],
   "source": [
    "df.isnull().sum()"
   ]
  },
  {
   "cell_type": "code",
   "execution_count": 4,
   "metadata": {},
   "outputs": [
    {
     "data": {
      "text/plain": [
       "array(['co', 'rbt'], dtype=object)"
      ]
     },
     "execution_count": 4,
     "metadata": {},
     "output_type": "execute_result"
    }
   ],
   "source": [
    "df.species.unique()"
   ]
  },
  {
   "cell_type": "markdown",
   "metadata": {},
   "source": [
    "This dataset only has 2 labels - co and rbt"
   ]
  },
  {
   "cell_type": "code",
   "execution_count": 5,
   "metadata": {},
   "outputs": [
    {
     "name": "stdout",
     "output_type": "stream",
     "text": [
      "watershed : ['englishman']\n",
      "river : ['shelly creek']\n",
      "site : ['martindale rd']\n",
      "method : ['smolt trap']\n",
      "local : ['in-river']\n",
      "water_temp_start : [ nan  7.   7.8  8.6 10.5 12.  10.6]\n",
      "species : ['co' 'rbt']\n",
      "fork_length_mm : [ 98 115 106 113  81  76 100  86  87  91  95  99 101  84  88  89  90 107\n",
      " 164  93  73  74  80  82  83  85  94  97 104  96 102 105  77 119  92  78]\n",
      "weight_g : [nan]\n"
     ]
    }
   ],
   "source": [
    "for col in df.columns:\n",
    "    if col not in ['tag_id_long']:\n",
    "        print(col, \":\", df[col].unique())"
   ]
  },
  {
   "cell_type": "code",
   "execution_count": 6,
   "metadata": {},
   "outputs": [],
   "source": [
    "df= df.drop(['weight_g', 'tag_id_long'], axis = 1)\n",
    "df = df.dropna()"
   ]
  },
  {
   "cell_type": "code",
   "execution_count": 7,
   "metadata": {},
   "outputs": [
    {
     "data": {
      "text/html": [
       "<div>\n",
       "<style scoped>\n",
       "    .dataframe tbody tr th:only-of-type {\n",
       "        vertical-align: middle;\n",
       "    }\n",
       "\n",
       "    .dataframe tbody tr th {\n",
       "        vertical-align: top;\n",
       "    }\n",
       "\n",
       "    .dataframe thead th {\n",
       "        text-align: right;\n",
       "    }\n",
       "</style>\n",
       "<table border=\"1\" class=\"dataframe\">\n",
       "  <thead>\n",
       "    <tr style=\"text-align: right;\">\n",
       "      <th></th>\n",
       "      <th>watershed</th>\n",
       "      <th>river</th>\n",
       "      <th>site</th>\n",
       "      <th>method</th>\n",
       "      <th>local</th>\n",
       "      <th>water_temp_start</th>\n",
       "      <th>species</th>\n",
       "      <th>fork_length_mm</th>\n",
       "    </tr>\n",
       "  </thead>\n",
       "  <tbody>\n",
       "    <tr>\n",
       "      <th>3</th>\n",
       "      <td>englishman</td>\n",
       "      <td>shelly creek</td>\n",
       "      <td>martindale rd</td>\n",
       "      <td>smolt trap</td>\n",
       "      <td>in-river</td>\n",
       "      <td>7.0</td>\n",
       "      <td>co</td>\n",
       "      <td>113</td>\n",
       "    </tr>\n",
       "    <tr>\n",
       "      <th>4</th>\n",
       "      <td>englishman</td>\n",
       "      <td>shelly creek</td>\n",
       "      <td>martindale rd</td>\n",
       "      <td>smolt trap</td>\n",
       "      <td>in-river</td>\n",
       "      <td>7.0</td>\n",
       "      <td>rbt</td>\n",
       "      <td>81</td>\n",
       "    </tr>\n",
       "    <tr>\n",
       "      <th>5</th>\n",
       "      <td>englishman</td>\n",
       "      <td>shelly creek</td>\n",
       "      <td>martindale rd</td>\n",
       "      <td>smolt trap</td>\n",
       "      <td>in-river</td>\n",
       "      <td>7.8</td>\n",
       "      <td>co</td>\n",
       "      <td>76</td>\n",
       "    </tr>\n",
       "    <tr>\n",
       "      <th>6</th>\n",
       "      <td>englishman</td>\n",
       "      <td>shelly creek</td>\n",
       "      <td>martindale rd</td>\n",
       "      <td>smolt trap</td>\n",
       "      <td>in-river</td>\n",
       "      <td>7.8</td>\n",
       "      <td>co</td>\n",
       "      <td>100</td>\n",
       "    </tr>\n",
       "    <tr>\n",
       "      <th>7</th>\n",
       "      <td>englishman</td>\n",
       "      <td>shelly creek</td>\n",
       "      <td>martindale rd</td>\n",
       "      <td>smolt trap</td>\n",
       "      <td>in-river</td>\n",
       "      <td>8.6</td>\n",
       "      <td>co</td>\n",
       "      <td>86</td>\n",
       "    </tr>\n",
       "    <tr>\n",
       "      <th>...</th>\n",
       "      <td>...</td>\n",
       "      <td>...</td>\n",
       "      <td>...</td>\n",
       "      <td>...</td>\n",
       "      <td>...</td>\n",
       "      <td>...</td>\n",
       "      <td>...</td>\n",
       "      <td>...</td>\n",
       "    </tr>\n",
       "    <tr>\n",
       "      <th>95</th>\n",
       "      <td>englishman</td>\n",
       "      <td>shelly creek</td>\n",
       "      <td>martindale rd</td>\n",
       "      <td>smolt trap</td>\n",
       "      <td>in-river</td>\n",
       "      <td>10.6</td>\n",
       "      <td>co</td>\n",
       "      <td>100</td>\n",
       "    </tr>\n",
       "    <tr>\n",
       "      <th>96</th>\n",
       "      <td>englishman</td>\n",
       "      <td>shelly creek</td>\n",
       "      <td>martindale rd</td>\n",
       "      <td>smolt trap</td>\n",
       "      <td>in-river</td>\n",
       "      <td>10.6</td>\n",
       "      <td>co</td>\n",
       "      <td>101</td>\n",
       "    </tr>\n",
       "    <tr>\n",
       "      <th>97</th>\n",
       "      <td>englishman</td>\n",
       "      <td>shelly creek</td>\n",
       "      <td>martindale rd</td>\n",
       "      <td>smolt trap</td>\n",
       "      <td>in-river</td>\n",
       "      <td>10.6</td>\n",
       "      <td>rbt</td>\n",
       "      <td>78</td>\n",
       "    </tr>\n",
       "    <tr>\n",
       "      <th>98</th>\n",
       "      <td>englishman</td>\n",
       "      <td>shelly creek</td>\n",
       "      <td>martindale rd</td>\n",
       "      <td>smolt trap</td>\n",
       "      <td>in-river</td>\n",
       "      <td>10.6</td>\n",
       "      <td>rbt</td>\n",
       "      <td>104</td>\n",
       "    </tr>\n",
       "    <tr>\n",
       "      <th>99</th>\n",
       "      <td>englishman</td>\n",
       "      <td>shelly creek</td>\n",
       "      <td>martindale rd</td>\n",
       "      <td>smolt trap</td>\n",
       "      <td>in-river</td>\n",
       "      <td>10.6</td>\n",
       "      <td>co</td>\n",
       "      <td>73</td>\n",
       "    </tr>\n",
       "  </tbody>\n",
       "</table>\n",
       "<p>97 rows × 8 columns</p>\n",
       "</div>"
      ],
      "text/plain": [
       "     watershed         river           site      method     local  \\\n",
       "3   englishman  shelly creek  martindale rd  smolt trap  in-river   \n",
       "4   englishman  shelly creek  martindale rd  smolt trap  in-river   \n",
       "5   englishman  shelly creek  martindale rd  smolt trap  in-river   \n",
       "6   englishman  shelly creek  martindale rd  smolt trap  in-river   \n",
       "7   englishman  shelly creek  martindale rd  smolt trap  in-river   \n",
       "..         ...           ...            ...         ...       ...   \n",
       "95  englishman  shelly creek  martindale rd  smolt trap  in-river   \n",
       "96  englishman  shelly creek  martindale rd  smolt trap  in-river   \n",
       "97  englishman  shelly creek  martindale rd  smolt trap  in-river   \n",
       "98  englishman  shelly creek  martindale rd  smolt trap  in-river   \n",
       "99  englishman  shelly creek  martindale rd  smolt trap  in-river   \n",
       "\n",
       "    water_temp_start species  fork_length_mm  \n",
       "3                7.0      co             113  \n",
       "4                7.0     rbt              81  \n",
       "5                7.8      co              76  \n",
       "6                7.8      co             100  \n",
       "7                8.6      co              86  \n",
       "..               ...     ...             ...  \n",
       "95              10.6      co             100  \n",
       "96              10.6      co             101  \n",
       "97              10.6     rbt              78  \n",
       "98              10.6     rbt             104  \n",
       "99              10.6      co              73  \n",
       "\n",
       "[97 rows x 8 columns]"
      ]
     },
     "execution_count": 7,
     "metadata": {},
     "output_type": "execute_result"
    }
   ],
   "source": [
    "df"
   ]
  },
  {
   "cell_type": "markdown",
   "metadata": {},
   "source": [
    "## Pipeline"
   ]
  },
  {
   "cell_type": "code",
   "execution_count": 8,
   "metadata": {},
   "outputs": [],
   "source": [
    "X = df.drop('species', axis = 1)\n",
    "y = df['species']"
   ]
  },
  {
   "cell_type": "code",
   "execution_count": 9,
   "metadata": {},
   "outputs": [],
   "source": [
    "numeric_feats = [\"water_temp_start\", \"fork_length_mm\"]  # apply scaling\n",
    "categorical_feats = [\"watershed\", \"river\", \"site\", \"method\", \"local\"]  # apply one-hot encoding\n",
    "# passthrough_feats = [\"\"]  # do not apply any transformation\n",
    "# drop_feats = [ \"species\" ]  \n",
    "# levels = [\"\", \"\"]"
   ]
  },
  {
   "cell_type": "code",
   "execution_count": 10,
   "metadata": {},
   "outputs": [],
   "source": [
    "ct = make_column_transformer (    \n",
    "    (StandardScaler(), numeric_feats),  \n",
    "    #(\"passthrough\", passthrough_feats),     \n",
    "    (OneHotEncoder(), categorical_feats),  \n",
    "    #(\"drop\", drop_feats), \n",
    "    #OrdinalEncoder(categories=[levels], dtype=int)\n",
    ")"
   ]
  },
  {
   "cell_type": "code",
   "execution_count": 11,
   "metadata": {},
   "outputs": [],
   "source": [
    "transformed = ct.fit_transform(X)"
   ]
  },
  {
   "cell_type": "code",
   "execution_count": 12,
   "metadata": {},
   "outputs": [
    {
     "data": {
      "text/plain": [
       "['water_temp_start',\n",
       " 'fork_length_mm',\n",
       " 'watershed_englishman',\n",
       " 'river_shelly creek',\n",
       " 'site_martindale rd',\n",
       " 'method_smolt trap',\n",
       " 'local_in-river']"
      ]
     },
     "execution_count": 12,
     "metadata": {},
     "output_type": "execute_result"
    }
   ],
   "source": [
    "column_names = (\n",
    "    numeric_feats\n",
    "    # + passthrough_feats    \n",
    "    + ct.named_transformers_[\"onehotencoder\"].get_feature_names_out().tolist()\n",
    ")\n",
    "column_names"
   ]
  },
  {
   "cell_type": "code",
   "execution_count": 13,
   "metadata": {},
   "outputs": [
    {
     "data": {
      "text/html": [
       "<div>\n",
       "<style scoped>\n",
       "    .dataframe tbody tr th:only-of-type {\n",
       "        vertical-align: middle;\n",
       "    }\n",
       "\n",
       "    .dataframe tbody tr th {\n",
       "        vertical-align: top;\n",
       "    }\n",
       "\n",
       "    .dataframe thead th {\n",
       "        text-align: right;\n",
       "    }\n",
       "</style>\n",
       "<table border=\"1\" class=\"dataframe\">\n",
       "  <thead>\n",
       "    <tr style=\"text-align: right;\">\n",
       "      <th></th>\n",
       "      <th>water_temp_start</th>\n",
       "      <th>fork_length_mm</th>\n",
       "      <th>watershed_englishman</th>\n",
       "      <th>river_shelly creek</th>\n",
       "      <th>site_martindale rd</th>\n",
       "      <th>method_smolt trap</th>\n",
       "      <th>local_in-river</th>\n",
       "    </tr>\n",
       "  </thead>\n",
       "  <tbody>\n",
       "    <tr>\n",
       "      <th>0</th>\n",
       "      <td>-2.820605</td>\n",
       "      <td>1.997771</td>\n",
       "      <td>1.0</td>\n",
       "      <td>1.0</td>\n",
       "      <td>1.0</td>\n",
       "      <td>1.0</td>\n",
       "      <td>1.0</td>\n",
       "    </tr>\n",
       "    <tr>\n",
       "      <th>1</th>\n",
       "      <td>-2.820605</td>\n",
       "      <td>-0.831189</td>\n",
       "      <td>1.0</td>\n",
       "      <td>1.0</td>\n",
       "      <td>1.0</td>\n",
       "      <td>1.0</td>\n",
       "      <td>1.0</td>\n",
       "    </tr>\n",
       "    <tr>\n",
       "      <th>2</th>\n",
       "      <td>-2.194879</td>\n",
       "      <td>-1.273214</td>\n",
       "      <td>1.0</td>\n",
       "      <td>1.0</td>\n",
       "      <td>1.0</td>\n",
       "      <td>1.0</td>\n",
       "      <td>1.0</td>\n",
       "    </tr>\n",
       "    <tr>\n",
       "      <th>3</th>\n",
       "      <td>-2.194879</td>\n",
       "      <td>0.848506</td>\n",
       "      <td>1.0</td>\n",
       "      <td>1.0</td>\n",
       "      <td>1.0</td>\n",
       "      <td>1.0</td>\n",
       "      <td>1.0</td>\n",
       "    </tr>\n",
       "    <tr>\n",
       "      <th>4</th>\n",
       "      <td>-1.569153</td>\n",
       "      <td>-0.389164</td>\n",
       "      <td>1.0</td>\n",
       "      <td>1.0</td>\n",
       "      <td>1.0</td>\n",
       "      <td>1.0</td>\n",
       "      <td>1.0</td>\n",
       "    </tr>\n",
       "  </tbody>\n",
       "</table>\n",
       "</div>"
      ],
      "text/plain": [
       "   water_temp_start  fork_length_mm  watershed_englishman  river_shelly creek  \\\n",
       "0         -2.820605        1.997771                   1.0                 1.0   \n",
       "1         -2.820605       -0.831189                   1.0                 1.0   \n",
       "2         -2.194879       -1.273214                   1.0                 1.0   \n",
       "3         -2.194879        0.848506                   1.0                 1.0   \n",
       "4         -1.569153       -0.389164                   1.0                 1.0   \n",
       "\n",
       "   site_martindale rd  method_smolt trap  local_in-river  \n",
       "0                 1.0                1.0             1.0  \n",
       "1                 1.0                1.0             1.0  \n",
       "2                 1.0                1.0             1.0  \n",
       "3                 1.0                1.0             1.0  \n",
       "4                 1.0                1.0             1.0  "
      ]
     },
     "execution_count": 13,
     "metadata": {},
     "output_type": "execute_result"
    }
   ],
   "source": [
    "X_transformed = pd.DataFrame(transformed, columns=column_names)\n",
    "X_transformed.head()"
   ]
  },
  {
   "cell_type": "markdown",
   "metadata": {},
   "source": [
    "### Dummy model"
   ]
  },
  {
   "cell_type": "code",
   "execution_count": 14,
   "metadata": {},
   "outputs": [
    {
     "data": {
      "text/plain": [
       "0.8247422680412371"
      ]
     },
     "execution_count": 14,
     "metadata": {},
     "output_type": "execute_result"
    }
   ],
   "source": [
    "dummy_clf = DummyClassifier(strategy=\"most_frequent\")\n",
    "dummy_clf.fit(X_transformed, y)\n",
    "dummy_clf.score(X_transformed, y)"
   ]
  },
  {
   "cell_type": "markdown",
   "metadata": {},
   "source": [
    "(unbalanced dataset - 82% is the same label)"
   ]
  },
  {
   "cell_type": "markdown",
   "metadata": {},
   "source": [
    "### Deep learning - tensorflow"
   ]
  },
  {
   "cell_type": "code",
   "execution_count": 15,
   "metadata": {},
   "outputs": [],
   "source": [
    "le = LabelEncoder()\n",
    "y_enc = le.fit_transform(y)\n",
    "y_label = tf.keras.utils.to_categorical(y_enc)"
   ]
  },
  {
   "cell_type": "code",
   "execution_count": 16,
   "metadata": {},
   "outputs": [
    {
     "data": {
      "text/plain": [
       "array(['co', 'rbt'], dtype=object)"
      ]
     },
     "execution_count": 16,
     "metadata": {},
     "output_type": "execute_result"
    }
   ],
   "source": [
    "le.classes_ "
   ]
  },
  {
   "cell_type": "code",
   "execution_count": 17,
   "metadata": {},
   "outputs": [],
   "source": [
    "X_train, X_test, y_train, y_test = train_test_split(X_transformed, y_label, test_size=0.2, random_state=42)"
   ]
  },
  {
   "cell_type": "code",
   "execution_count": 18,
   "metadata": {},
   "outputs": [],
   "source": [
    "num_features = X_transformed.shape[1]\n",
    "dl_model = tf.keras.Sequential([\n",
    "    layers.Input(shape=(num_features,)),\n",
    "    layers.Dense(128, activation='relu'),\n",
    "    layers.Dense(64, activation='relu'),\n",
    "    layers.Dense(2, activation='softmax')  #change based on number of labels\n",
    "])"
   ]
  },
  {
   "cell_type": "code",
   "execution_count": 19,
   "metadata": {},
   "outputs": [
    {
     "data": {
      "text/html": [
       "<pre style=\"white-space:pre;overflow-x:auto;line-height:normal;font-family:Menlo,'DejaVu Sans Mono',consolas,'Courier New',monospace\"><span style=\"font-weight: bold\">Model: \"sequential\"</span>\n",
       "</pre>\n"
      ],
      "text/plain": [
       "\u001b[1mModel: \"sequential\"\u001b[0m\n"
      ]
     },
     "metadata": {},
     "output_type": "display_data"
    },
    {
     "data": {
      "text/html": [
       "<pre style=\"white-space:pre;overflow-x:auto;line-height:normal;font-family:Menlo,'DejaVu Sans Mono',consolas,'Courier New',monospace\">┏━━━━━━━━━━━━━━━━━━━━━━━━━━━━━━━━━━━━━━┳━━━━━━━━━━━━━━━━━━━━━━━━━━━━━┳━━━━━━━━━━━━━━━━━┓\n",
       "┃<span style=\"font-weight: bold\"> Layer (type)                         </span>┃<span style=\"font-weight: bold\"> Output Shape                </span>┃<span style=\"font-weight: bold\">         Param # </span>┃\n",
       "┡━━━━━━━━━━━━━━━━━━━━━━━━━━━━━━━━━━━━━━╇━━━━━━━━━━━━━━━━━━━━━━━━━━━━━╇━━━━━━━━━━━━━━━━━┩\n",
       "│ dense (<span style=\"color: #0087ff; text-decoration-color: #0087ff\">Dense</span>)                        │ (<span style=\"color: #00d7ff; text-decoration-color: #00d7ff\">None</span>, <span style=\"color: #00af00; text-decoration-color: #00af00\">128</span>)                 │           <span style=\"color: #00af00; text-decoration-color: #00af00\">1,024</span> │\n",
       "├──────────────────────────────────────┼─────────────────────────────┼─────────────────┤\n",
       "│ dense_1 (<span style=\"color: #0087ff; text-decoration-color: #0087ff\">Dense</span>)                      │ (<span style=\"color: #00d7ff; text-decoration-color: #00d7ff\">None</span>, <span style=\"color: #00af00; text-decoration-color: #00af00\">64</span>)                  │           <span style=\"color: #00af00; text-decoration-color: #00af00\">8,256</span> │\n",
       "├──────────────────────────────────────┼─────────────────────────────┼─────────────────┤\n",
       "│ dense_2 (<span style=\"color: #0087ff; text-decoration-color: #0087ff\">Dense</span>)                      │ (<span style=\"color: #00d7ff; text-decoration-color: #00d7ff\">None</span>, <span style=\"color: #00af00; text-decoration-color: #00af00\">2</span>)                   │             <span style=\"color: #00af00; text-decoration-color: #00af00\">130</span> │\n",
       "└──────────────────────────────────────┴─────────────────────────────┴─────────────────┘\n",
       "</pre>\n"
      ],
      "text/plain": [
       "┏━━━━━━━━━━━━━━━━━━━━━━━━━━━━━━━━━━━━━━┳━━━━━━━━━━━━━━━━━━━━━━━━━━━━━┳━━━━━━━━━━━━━━━━━┓\n",
       "┃\u001b[1m \u001b[0m\u001b[1mLayer (type)                        \u001b[0m\u001b[1m \u001b[0m┃\u001b[1m \u001b[0m\u001b[1mOutput Shape               \u001b[0m\u001b[1m \u001b[0m┃\u001b[1m \u001b[0m\u001b[1m        Param #\u001b[0m\u001b[1m \u001b[0m┃\n",
       "┡━━━━━━━━━━━━━━━━━━━━━━━━━━━━━━━━━━━━━━╇━━━━━━━━━━━━━━━━━━━━━━━━━━━━━╇━━━━━━━━━━━━━━━━━┩\n",
       "│ dense (\u001b[38;5;33mDense\u001b[0m)                        │ (\u001b[38;5;45mNone\u001b[0m, \u001b[38;5;34m128\u001b[0m)                 │           \u001b[38;5;34m1,024\u001b[0m │\n",
       "├──────────────────────────────────────┼─────────────────────────────┼─────────────────┤\n",
       "│ dense_1 (\u001b[38;5;33mDense\u001b[0m)                      │ (\u001b[38;5;45mNone\u001b[0m, \u001b[38;5;34m64\u001b[0m)                  │           \u001b[38;5;34m8,256\u001b[0m │\n",
       "├──────────────────────────────────────┼─────────────────────────────┼─────────────────┤\n",
       "│ dense_2 (\u001b[38;5;33mDense\u001b[0m)                      │ (\u001b[38;5;45mNone\u001b[0m, \u001b[38;5;34m2\u001b[0m)                   │             \u001b[38;5;34m130\u001b[0m │\n",
       "└──────────────────────────────────────┴─────────────────────────────┴─────────────────┘\n"
      ]
     },
     "metadata": {},
     "output_type": "display_data"
    },
    {
     "data": {
      "text/html": [
       "<pre style=\"white-space:pre;overflow-x:auto;line-height:normal;font-family:Menlo,'DejaVu Sans Mono',consolas,'Courier New',monospace\"><span style=\"font-weight: bold\"> Total params: </span><span style=\"color: #00af00; text-decoration-color: #00af00\">9,410</span> (36.76 KB)\n",
       "</pre>\n"
      ],
      "text/plain": [
       "\u001b[1m Total params: \u001b[0m\u001b[38;5;34m9,410\u001b[0m (36.76 KB)\n"
      ]
     },
     "metadata": {},
     "output_type": "display_data"
    },
    {
     "data": {
      "text/html": [
       "<pre style=\"white-space:pre;overflow-x:auto;line-height:normal;font-family:Menlo,'DejaVu Sans Mono',consolas,'Courier New',monospace\"><span style=\"font-weight: bold\"> Trainable params: </span><span style=\"color: #00af00; text-decoration-color: #00af00\">9,410</span> (36.76 KB)\n",
       "</pre>\n"
      ],
      "text/plain": [
       "\u001b[1m Trainable params: \u001b[0m\u001b[38;5;34m9,410\u001b[0m (36.76 KB)\n"
      ]
     },
     "metadata": {},
     "output_type": "display_data"
    },
    {
     "data": {
      "text/html": [
       "<pre style=\"white-space:pre;overflow-x:auto;line-height:normal;font-family:Menlo,'DejaVu Sans Mono',consolas,'Courier New',monospace\"><span style=\"font-weight: bold\"> Non-trainable params: </span><span style=\"color: #00af00; text-decoration-color: #00af00\">0</span> (0.00 B)\n",
       "</pre>\n"
      ],
      "text/plain": [
       "\u001b[1m Non-trainable params: \u001b[0m\u001b[38;5;34m0\u001b[0m (0.00 B)\n"
      ]
     },
     "metadata": {},
     "output_type": "display_data"
    }
   ],
   "source": [
    "dl_model.compile(optimizer=Adam(learning_rate=0.0001),        \n",
    "    loss='categorical_crossentropy',  \n",
    "    metrics=['accuracy']) \n",
    "\n",
    "dl_model.summary()"
   ]
  },
  {
   "cell_type": "code",
   "execution_count": 20,
   "metadata": {},
   "outputs": [
    {
     "name": "stdout",
     "output_type": "stream",
     "text": [
      "Epoch 1/20\n",
      "\u001b[1m2/2\u001b[0m \u001b[32m━━━━━━━━━━━━━━━━━━━━\u001b[0m\u001b[37m\u001b[0m \u001b[1m2s\u001b[0m 300ms/step - accuracy: 0.1942 - loss: 0.9674 - val_accuracy: 0.1250 - val_loss: 1.0276\n",
      "Epoch 2/20\n",
      "\u001b[1m2/2\u001b[0m \u001b[32m━━━━━━━━━━━━━━━━━━━━\u001b[0m\u001b[37m\u001b[0m \u001b[1m0s\u001b[0m 66ms/step - accuracy: 0.2150 - loss: 0.9300 - val_accuracy: 0.1250 - val_loss: 1.0067\n",
      "Epoch 3/20\n",
      "\u001b[1m2/2\u001b[0m \u001b[32m━━━━━━━━━━━━━━━━━━━━\u001b[0m\u001b[37m\u001b[0m \u001b[1m0s\u001b[0m 41ms/step - accuracy: 0.2046 - loss: 0.9254 - val_accuracy: 0.1250 - val_loss: 0.9863\n",
      "Epoch 4/20\n",
      "\u001b[1m2/2\u001b[0m \u001b[32m━━━━━━━━━━━━━━━━━━━━\u001b[0m\u001b[37m\u001b[0m \u001b[1m0s\u001b[0m 42ms/step - accuracy: 0.2462 - loss: 0.8790 - val_accuracy: 0.1250 - val_loss: 0.9666\n",
      "Epoch 5/20\n",
      "\u001b[1m2/2\u001b[0m \u001b[32m━━━━━━━━━━━━━━━━━━━━\u001b[0m\u001b[37m\u001b[0m \u001b[1m0s\u001b[0m 46ms/step - accuracy: 0.2567 - loss: 0.8621 - val_accuracy: 0.1250 - val_loss: 0.9475\n",
      "Epoch 6/20\n",
      "\u001b[1m2/2\u001b[0m \u001b[32m━━━━━━━━━━━━━━━━━━━━\u001b[0m\u001b[37m\u001b[0m \u001b[1m0s\u001b[0m 64ms/step - accuracy: 0.1942 - loss: 0.8797 - val_accuracy: 0.1250 - val_loss: 0.9287\n",
      "Epoch 7/20\n",
      "\u001b[1m2/2\u001b[0m \u001b[32m━━━━━━━━━━━━━━━━━━━━\u001b[0m\u001b[37m\u001b[0m \u001b[1m0s\u001b[0m 67ms/step - accuracy: 0.1942 - loss: 0.8640 - val_accuracy: 0.1250 - val_loss: 0.9104\n",
      "Epoch 8/20\n",
      "\u001b[1m2/2\u001b[0m \u001b[32m━━━━━━━━━━━━━━━━━━━━\u001b[0m\u001b[37m\u001b[0m \u001b[1m0s\u001b[0m 49ms/step - accuracy: 0.2254 - loss: 0.8348 - val_accuracy: 0.1250 - val_loss: 0.8926\n",
      "Epoch 9/20\n",
      "\u001b[1m2/2\u001b[0m \u001b[32m━━━━━━━━━━━━━━━━━━━━\u001b[0m\u001b[37m\u001b[0m \u001b[1m0s\u001b[0m 46ms/step - accuracy: 0.2462 - loss: 0.8107 - val_accuracy: 0.1250 - val_loss: 0.8755\n",
      "Epoch 10/20\n",
      "\u001b[1m2/2\u001b[0m \u001b[32m━━━━━━━━━━━━━━━━━━━━\u001b[0m\u001b[37m\u001b[0m \u001b[1m0s\u001b[0m 43ms/step - accuracy: 0.2254 - loss: 0.8054 - val_accuracy: 0.1250 - val_loss: 0.8586\n",
      "Epoch 11/20\n",
      "\u001b[1m2/2\u001b[0m \u001b[32m━━━━━━━━━━━━━━━━━━━━\u001b[0m\u001b[37m\u001b[0m \u001b[1m0s\u001b[0m 47ms/step - accuracy: 0.2046 - loss: 0.8039 - val_accuracy: 0.1250 - val_loss: 0.8420\n",
      "Epoch 12/20\n",
      "\u001b[1m2/2\u001b[0m \u001b[32m━━━━━━━━━━━━━━━━━━━━\u001b[0m\u001b[37m\u001b[0m \u001b[1m0s\u001b[0m 58ms/step - accuracy: 0.1942 - loss: 0.7933 - val_accuracy: 0.1250 - val_loss: 0.8259\n",
      "Epoch 13/20\n",
      "\u001b[1m2/2\u001b[0m \u001b[32m━━━━━━━━━━━━━━━━━━━━\u001b[0m\u001b[37m\u001b[0m \u001b[1m0s\u001b[0m 52ms/step - accuracy: 0.1942 - loss: 0.7750 - val_accuracy: 0.1250 - val_loss: 0.8102\n",
      "Epoch 14/20\n",
      "\u001b[1m2/2\u001b[0m \u001b[32m━━━━━━━━━━━━━━━━━━━━\u001b[0m\u001b[37m\u001b[0m \u001b[1m0s\u001b[0m 54ms/step - accuracy: 0.1733 - loss: 0.7746 - val_accuracy: 0.1250 - val_loss: 0.7949\n",
      "Epoch 15/20\n",
      "\u001b[1m2/2\u001b[0m \u001b[32m━━━━━━━━━━━━━━━━━━━━\u001b[0m\u001b[37m\u001b[0m \u001b[1m0s\u001b[0m 49ms/step - accuracy: 0.2046 - loss: 0.7531 - val_accuracy: 0.1250 - val_loss: 0.7800\n",
      "Epoch 16/20\n",
      "\u001b[1m2/2\u001b[0m \u001b[32m━━━━━━━━━━━━━━━━━━━━\u001b[0m\u001b[37m\u001b[0m \u001b[1m0s\u001b[0m 45ms/step - accuracy: 0.2462 - loss: 0.7276 - val_accuracy: 0.1250 - val_loss: 0.7657\n",
      "Epoch 17/20\n",
      "\u001b[1m2/2\u001b[0m \u001b[32m━━━━━━━━━━━━━━━━━━━━\u001b[0m\u001b[37m\u001b[0m \u001b[1m0s\u001b[0m 50ms/step - accuracy: 0.2046 - loss: 0.7301 - val_accuracy: 0.1250 - val_loss: 0.7517\n",
      "Epoch 18/20\n",
      "\u001b[1m2/2\u001b[0m \u001b[32m━━━━━━━━━━━━━━━━━━━━\u001b[0m\u001b[37m\u001b[0m \u001b[1m0s\u001b[0m 60ms/step - accuracy: 0.2046 - loss: 0.7163 - val_accuracy: 0.2500 - val_loss: 0.7381\n",
      "Epoch 19/20\n",
      "\u001b[1m2/2\u001b[0m \u001b[32m━━━━━━━━━━━━━━━━━━━━\u001b[0m\u001b[37m\u001b[0m \u001b[1m0s\u001b[0m 47ms/step - accuracy: 0.2806 - loss: 0.7039 - val_accuracy: 0.2500 - val_loss: 0.7250\n",
      "Epoch 20/20\n",
      "\u001b[1m2/2\u001b[0m \u001b[32m━━━━━━━━━━━━━━━━━━━━\u001b[0m\u001b[37m\u001b[0m \u001b[1m0s\u001b[0m 47ms/step - accuracy: 0.3654 - loss: 0.6962 - val_accuracy: 0.2500 - val_loss: 0.7123\n"
     ]
    }
   ],
   "source": [
    "history = dl_model.fit(X_train, y_train, \n",
    "                    epochs = 20, \n",
    "                    batch_size = 32, \n",
    "                    validation_split=0.2)"
   ]
  },
  {
   "cell_type": "code",
   "execution_count": 21,
   "metadata": {},
   "outputs": [],
   "source": [
    "def plot_acc(history):\n",
    "    fig = plt.figure(0, (12, 4))\n",
    "\n",
    "    ax = plt.subplot(1, 2, 1)\n",
    "    sns.lineplot(x=history.epoch, y=history.history['accuracy'], label='train')\n",
    "    sns.lineplot(x=history.epoch, y=history.history['val_accuracy'], label='valid')\n",
    "    plt.title('Accuracy')\n",
    "    plt.tight_layout()\n",
    "\n",
    "    ax = plt.subplot(1, 2, 2)\n",
    "    sns.lineplot(x=history.epoch, y=history.history['loss'], label='train')\n",
    "    sns.lineplot(x=history.epoch, y=history.history['val_loss'], label='valid')\n",
    "    plt.title('Loss')\n",
    "    plt.tight_layout()\n",
    "\n",
    "    plt.show()"
   ]
  },
  {
   "cell_type": "code",
   "execution_count": 22,
   "metadata": {},
   "outputs": [
    {
     "data": {
      "image/png": "[encoded data removed]",
      "text/plain": [
       "<Figure size 1200x400 with 2 Axes>"
      ]
     },
     "metadata": {},
     "output_type": "display_data"
    }
   ],
   "source": [
    "plot_acc(history)"
   ]
  },
  {
   "cell_type": "code",
   "execution_count": 23,
   "metadata": {},
   "outputs": [
    {
     "name": "stdout",
     "output_type": "stream",
     "text": [
      "\u001b[1m1/1\u001b[0m \u001b[32m━━━━━━━━━━━━━━━━━━━━\u001b[0m\u001b[37m\u001b[0m \u001b[1m0s\u001b[0m 89ms/step\n"
     ]
    }
   ],
   "source": [
    "y_pred = dl_model.predict(X_test)"
   ]
  },
  {
   "cell_type": "code",
   "execution_count": 24,
   "metadata": {},
   "outputs": [
    {
     "data": {
      "text/plain": [
       "array([[0.46817744, 0.5318225 ],\n",
       "       [0.52681804, 0.47318196],\n",
       "       [0.46328703, 0.53671294],\n",
       "       [0.49169558, 0.5083044 ],\n",
       "       [0.492407  , 0.50759304]], dtype=float32)"
      ]
     },
     "execution_count": 24,
     "metadata": {},
     "output_type": "execute_result"
    }
   ],
   "source": [
    "y_pred[0:5] #confidence levels"
   ]
  },
  {
   "cell_type": "markdown",
   "metadata": {},
   "source": [
    "2 methods:\n",
    "1. We convert all decimals to int, that way they'll be a whole number (1 or 0). Cannot give a label for sure (all may be 0). This could be a good option to make sure that we are not naively assigning labels\n",
    "2. The prediction needs to be converted to 1 and 0. For each row, the highest value is the label and the \"predicted\" number is the confidence level."
   ]
  },
  {
   "cell_type": "code",
   "execution_count": 25,
   "metadata": {},
   "outputs": [
    {
     "data": {
      "text/html": [
       "<div>\n",
       "<style scoped>\n",
       "    .dataframe tbody tr th:only-of-type {\n",
       "        vertical-align: middle;\n",
       "    }\n",
       "\n",
       "    .dataframe tbody tr th {\n",
       "        vertical-align: top;\n",
       "    }\n",
       "\n",
       "    .dataframe thead th {\n",
       "        text-align: right;\n",
       "    }\n",
       "</style>\n",
       "<table border=\"1\" class=\"dataframe\">\n",
       "  <thead>\n",
       "    <tr style=\"text-align: right;\">\n",
       "      <th></th>\n",
       "      <th>co</th>\n",
       "      <th>rbt</th>\n",
       "    </tr>\n",
       "  </thead>\n",
       "  <tbody>\n",
       "    <tr>\n",
       "      <th>0</th>\n",
       "      <td>0.468177</td>\n",
       "      <td>0.531823</td>\n",
       "    </tr>\n",
       "    <tr>\n",
       "      <th>1</th>\n",
       "      <td>0.526818</td>\n",
       "      <td>0.473182</td>\n",
       "    </tr>\n",
       "    <tr>\n",
       "      <th>2</th>\n",
       "      <td>0.463287</td>\n",
       "      <td>0.536713</td>\n",
       "    </tr>\n",
       "    <tr>\n",
       "      <th>3</th>\n",
       "      <td>0.491696</td>\n",
       "      <td>0.508304</td>\n",
       "    </tr>\n",
       "    <tr>\n",
       "      <th>4</th>\n",
       "      <td>0.492407</td>\n",
       "      <td>0.507593</td>\n",
       "    </tr>\n",
       "  </tbody>\n",
       "</table>\n",
       "</div>"
      ],
      "text/plain": [
       "         co       rbt\n",
       "0  0.468177  0.531823\n",
       "1  0.526818  0.473182\n",
       "2  0.463287  0.536713\n",
       "3  0.491696  0.508304\n",
       "4  0.492407  0.507593"
      ]
     },
     "execution_count": 25,
     "metadata": {},
     "output_type": "execute_result"
    }
   ],
   "source": [
    "prediction = pd.DataFrame(y_pred, columns=le.classes_)\n",
    "prediction.head()"
   ]
  },
  {
   "cell_type": "code",
   "execution_count": 26,
   "metadata": {},
   "outputs": [
    {
     "data": {
      "text/plain": [
       "array([[1., 0.],\n",
       "       [1., 0.],\n",
       "       [1., 0.],\n",
       "       [1., 0.],\n",
       "       [1., 0.]])"
      ]
     },
     "execution_count": 26,
     "metadata": {},
     "output_type": "execute_result"
    }
   ],
   "source": [
    "y_test[0:5]"
   ]
  }
 ],
 "metadata": {
  "kernelspec": {
   "display_name": "Python 3 (ipykernel)",
   "language": "python",
   "name": "python3"
  },
  "language_info": {
   "codemirror_mode": {
    "name": "ipython",
    "version": 3
   },
   "file_extension": ".py",
   "mimetype": "text/x-python",
   "name": "python",
   "nbconvert_exporter": "python",
   "pygments_lexer": "ipython3",
   "version": "3.11.8"
  }
 },
 "nbformat": 4,
 "nbformat_minor": 4
}
